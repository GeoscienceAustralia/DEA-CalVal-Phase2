{
 "cells": [
  {
   "cell_type": "markdown",
   "metadata": {},
   "source": [
    "# Workflow for processing  Diffuse/Direct - Mullion - 11SEP20"
   ]
  },
  {
   "cell_type": "code",
   "execution_count": 1,
   "metadata": {},
   "outputs": [],
   "source": [
    "import time\n",
    "start_time = time.time()\n",
    "\n",
    "import numpy as np\n",
    "import pandas as pd\n",
    "\n",
    "#\n",
    "# Set up input and output directories\n",
    "#\n",
    "indir = '/g/data/up71/projects/CalVal_Phase2/Speckie/11SEP20/RAW_DATA/ASD_DATA/direct_diffuse/First/'\n",
    "output = '/g/data/up71/projects/CalVal_Phase2/Speckie/11SEP20/PNGS/MUL_11SEP20_DD/'\n",
    "\n",
    "#\n",
    "# field_data is in the format: 'Field Site Short Name', 'Date'.\n",
    "#\n",
    "field_data = ['MUL', '11SEP20']"
   ]
  },
  {
   "cell_type": "code",
   "execution_count": 2,
   "metadata": {},
   "outputs": [],
   "source": [
    "import matplotlib.pyplot as plt\n",
    "import matplotlib\n",
    "import datacube\n",
    "import sys, os, shutil\n",
    "sys.path.append(\"../SRC\")\n",
    "\n",
    "from Diffuse_Direct import *\n",
    "\n",
    "#\n",
    "# Use notebook format (allows inline zooming and moving of figures)\n",
    "# Set default font size for all plots\n",
    "#\n",
    "%matplotlib notebook\n",
    "matplotlib.rcParams.update({'font.size': 12})\n",
    "matplotlib.rcParams['savefig.dpi'] = 300\n",
    "\n",
    "#\n",
    "# Remove old files in directory and create a new one\n",
    "#\n",
    "directory = os.path.dirname(output)\n",
    "if os.path.exists(directory):\n",
    "    shutil.rmtree(directory)\n",
    "os.makedirs(directory)"
   ]
  },
  {
   "cell_type": "code",
   "execution_count": 3,
   "metadata": {},
   "outputs": [],
   "source": [
    "suffix = 'asd.irr.txt'\n",
    "\n",
    "#\n",
    "# Colours used for plotting multi-coloured Lines\n",
    "#\n",
    "colpac=['#770000', '#FF0000', '#FF7700', '#FFFF00', '#77FF00', '#00FF00', \n",
    "        '#00FF77', '#00FFFF', '#0077FF', '#0000FF', '#000077', '#FF00FF', '#777777', '#770077', '#777700']\n",
    "\n",
    "#\n",
    "# Start Figure numbering at 1\n",
    "#\n",
    "fignum = 1"
   ]
  },
  {
   "cell_type": "markdown",
   "metadata": {},
   "source": [
    "### Define 'alldata' as the dataframe that contains all the raw spectra.\n",
    "Show the first wavelength of every spectrum, so that the data integrity can be checked."
   ]
  },
  {
   "cell_type": "code",
   "execution_count": 4,
   "metadata": {
    "scrolled": true
   },
   "outputs": [
    {
     "ename": "ValueError",
     "evalue": "No objects to concatenate",
     "output_type": "error",
     "traceback": [
      "\u001b[0;31m---------------------------------------------------------------------------\u001b[0m",
      "\u001b[0;31mValueError\u001b[0m                                Traceback (most recent call last)",
      "\u001b[0;32m<ipython-input-4-0c3377582dd3>\u001b[0m in \u001b[0;36m<module>\u001b[0;34m\u001b[0m\n\u001b[0;32m----> 1\u001b[0;31m \u001b[0malldata\u001b[0m \u001b[0;34m=\u001b[0m \u001b[0mLoadData\u001b[0m\u001b[0;34m.\u001b[0m\u001b[0mload_from_dir\u001b[0m\u001b[0;34m(\u001b[0m\u001b[0mindir\u001b[0m\u001b[0;34m,\u001b[0m \u001b[0msuffix\u001b[0m\u001b[0;34m)\u001b[0m\u001b[0;34m\u001b[0m\u001b[0;34m\u001b[0m\u001b[0m\n\u001b[0m\u001b[1;32m      2\u001b[0m \u001b[0;34m\u001b[0m\u001b[0m\n\u001b[1;32m      3\u001b[0m \u001b[0malldata\u001b[0m\u001b[0;34m[\u001b[0m\u001b[0malldata\u001b[0m\u001b[0;34m[\u001b[0m\u001b[0;34m'Wavelength'\u001b[0m\u001b[0;34m]\u001b[0m\u001b[0;34m==\u001b[0m\u001b[0;36m350\u001b[0m\u001b[0;34m]\u001b[0m\u001b[0;34m\u001b[0m\u001b[0;34m\u001b[0m\u001b[0m\n",
      "\u001b[0;32m/g/data4/up71/projects/CalVal_Phase2/Speckie/SRC/Diffuse_Direct/LoadData.py\u001b[0m in \u001b[0;36mload_from_dir\u001b[0;34m(indir, suffix)\u001b[0m\n\u001b[1;32m    117\u001b[0m             \u001b[0mall_dfs\u001b[0m\u001b[0;34m.\u001b[0m\u001b[0mappend\u001b[0m\u001b[0;34m(\u001b[0m\u001b[0mdf\u001b[0m\u001b[0;34m)\u001b[0m\u001b[0;34m\u001b[0m\u001b[0;34m\u001b[0m\u001b[0m\n\u001b[1;32m    118\u001b[0m \u001b[0;34m\u001b[0m\u001b[0m\n\u001b[0;32m--> 119\u001b[0;31m     \u001b[0;32mreturn\u001b[0m \u001b[0mpd\u001b[0m\u001b[0;34m.\u001b[0m\u001b[0mconcat\u001b[0m\u001b[0;34m(\u001b[0m\u001b[0mall_dfs\u001b[0m\u001b[0;34m)\u001b[0m\u001b[0;34m\u001b[0m\u001b[0;34m\u001b[0m\u001b[0m\n\u001b[0m",
      "\u001b[0;32m/g/data/v10/public/modules/dea-env/20200713/lib/python3.6/site-packages/pandas/core/reshape/concat.py\u001b[0m in \u001b[0;36mconcat\u001b[0;34m(objs, axis, join, ignore_index, keys, levels, names, verify_integrity, sort, copy)\u001b[0m\n\u001b[1;32m    279\u001b[0m         \u001b[0mverify_integrity\u001b[0m\u001b[0;34m=\u001b[0m\u001b[0mverify_integrity\u001b[0m\u001b[0;34m,\u001b[0m\u001b[0;34m\u001b[0m\u001b[0;34m\u001b[0m\u001b[0m\n\u001b[1;32m    280\u001b[0m         \u001b[0mcopy\u001b[0m\u001b[0;34m=\u001b[0m\u001b[0mcopy\u001b[0m\u001b[0;34m,\u001b[0m\u001b[0;34m\u001b[0m\u001b[0;34m\u001b[0m\u001b[0m\n\u001b[0;32m--> 281\u001b[0;31m         \u001b[0msort\u001b[0m\u001b[0;34m=\u001b[0m\u001b[0msort\u001b[0m\u001b[0;34m,\u001b[0m\u001b[0;34m\u001b[0m\u001b[0;34m\u001b[0m\u001b[0m\n\u001b[0m\u001b[1;32m    282\u001b[0m     )\n\u001b[1;32m    283\u001b[0m \u001b[0;34m\u001b[0m\u001b[0m\n",
      "\u001b[0;32m/g/data/v10/public/modules/dea-env/20200713/lib/python3.6/site-packages/pandas/core/reshape/concat.py\u001b[0m in \u001b[0;36m__init__\u001b[0;34m(self, objs, axis, join, keys, levels, names, ignore_index, verify_integrity, copy, sort)\u001b[0m\n\u001b[1;32m    327\u001b[0m \u001b[0;34m\u001b[0m\u001b[0m\n\u001b[1;32m    328\u001b[0m         \u001b[0;32mif\u001b[0m \u001b[0mlen\u001b[0m\u001b[0;34m(\u001b[0m\u001b[0mobjs\u001b[0m\u001b[0;34m)\u001b[0m \u001b[0;34m==\u001b[0m \u001b[0;36m0\u001b[0m\u001b[0;34m:\u001b[0m\u001b[0;34m\u001b[0m\u001b[0;34m\u001b[0m\u001b[0m\n\u001b[0;32m--> 329\u001b[0;31m             \u001b[0;32mraise\u001b[0m \u001b[0mValueError\u001b[0m\u001b[0;34m(\u001b[0m\u001b[0;34m\"No objects to concatenate\"\u001b[0m\u001b[0;34m)\u001b[0m\u001b[0;34m\u001b[0m\u001b[0;34m\u001b[0m\u001b[0m\n\u001b[0m\u001b[1;32m    330\u001b[0m \u001b[0;34m\u001b[0m\u001b[0m\n\u001b[1;32m    331\u001b[0m         \u001b[0;32mif\u001b[0m \u001b[0mkeys\u001b[0m \u001b[0;32mis\u001b[0m \u001b[0;32mNone\u001b[0m\u001b[0;34m:\u001b[0m\u001b[0;34m\u001b[0m\u001b[0;34m\u001b[0m\u001b[0m\n",
      "\u001b[0;31mValueError\u001b[0m: No objects to concatenate"
     ]
    }
   ],
   "source": [
    "alldata = LoadData.load_from_dir(indir, suffix)\n",
    "\n",
    "alldata[alldata['Wavelength']==350]"
   ]
  },
  {
   "cell_type": "code",
   "execution_count": null,
   "metadata": {
    "scrolled": false
   },
   "outputs": [],
   "source": [
    "for i in alldata.Spec_number.unique():\n",
    "    alldata[alldata.Spec_number == i].plot('Wavelength', 'radiance')"
   ]
  },
  {
   "cell_type": "code",
   "execution_count": null,
   "metadata": {
    "scrolled": true
   },
   "outputs": [],
   "source": [
    "alldata.set_index('Wavelength', inplace=True)"
   ]
  },
  {
   "cell_type": "code",
   "execution_count": null,
   "metadata": {},
   "outputs": [],
   "source": [
    "Drct, Hlpr, Shd = [], [], []\n",
    "for i in alldata.index.unique():\n",
    "    Drct.append([i, alldata.radiance[np.logical_and(alldata.Type=='Direct', alldata.index==i)].mean()])\n",
    "    Hlpr.append([i, alldata.radiance[np.logical_and(alldata.Type=='Helper', alldata.index==i)].mean()])\n",
    "    Shd.append([i, alldata.radiance[np.logical_and(alldata.Type=='Shade', alldata.index==i)].mean()])"
   ]
  },
  {
   "cell_type": "code",
   "execution_count": null,
   "metadata": {},
   "outputs": [],
   "source": [
    "Direct = pd.DataFrame(np.array(Drct), columns=['Wavelength', 'radiance'])\n",
    "Direct.set_index('Wavelength', inplace=True)\n",
    "Helper = pd.DataFrame(np.array(Hlpr), columns=['Wavelength', 'radiance'])\n",
    "Helper.set_index('Wavelength', inplace=True)\n",
    "Shade = pd.DataFrame(np.array(Shd), columns=['Wavelength', 'radiance'])\n",
    "Shade.set_index('Wavelength', inplace=True)"
   ]
  },
  {
   "cell_type": "code",
   "execution_count": null,
   "metadata": {
    "scrolled": false
   },
   "outputs": [],
   "source": [
    "Direct.plot()\n",
    "Helper.plot()\n",
    "Shade.plot()"
   ]
  },
  {
   "cell_type": "code",
   "execution_count": null,
   "metadata": {},
   "outputs": [],
   "source": [
    "Diffuse = Direct - (Helper - Shade)"
   ]
  },
  {
   "cell_type": "code",
   "execution_count": null,
   "metadata": {},
   "outputs": [],
   "source": [
    "indir = '/g/data/up71/projects/CalVal_Phase2/Speckie/11SEP20/RAW_DATA/ASD_DATA/direct_diffuse/Final/'\n",
    "suffix = '.asd.irr.txt'\n",
    "\n",
    "alldata2 = LoadData.load_from_dir(indir, suffix)\n",
    "alldata2.set_index('Wavelength', inplace=True)\n",
    "\n",
    "Drct2, Hlpr2, Shd2 = [], [], []\n",
    "for i in alldata2.index.unique():\n",
    "    Drct2.append([i, alldata2.radiance[np.logical_and(alldata2.Type=='Direct', alldata2.index==i)].mean()])\n",
    "    Hlpr2.append([i, alldata2.radiance[np.logical_and(alldata2.Type=='Helper', alldata2.index==i)].mean()])\n",
    "    Shd2.append([i, alldata2.radiance[np.logical_and(alldata2.Type=='Shade', alldata2.index==i)].mean()])\n",
    "    \n",
    "Direct2 = pd.DataFrame(np.array(Drct2), columns=['Wavelength', 'radiance'])\n",
    "Direct2.set_index('Wavelength', inplace=True)\n",
    "Helper2 = pd.DataFrame(np.array(Hlpr2), columns=['Wavelength', 'radiance'])\n",
    "Helper2.set_index('Wavelength', inplace=True)\n",
    "Shade2 = pd.DataFrame(np.array(Shd2), columns=['Wavelength', 'radiance'])\n",
    "Shade2.set_index('Wavelength', inplace=True)\n",
    "\n",
    "Diffuse2 = Direct2 - (Helper2 - Shade2)"
   ]
  },
  {
   "cell_type": "code",
   "execution_count": null,
   "metadata": {
    "scrolled": false
   },
   "outputs": [],
   "source": [
    "fig, axes = plt.subplots(nrows=1, ncols=1, figsize=(9,5))\n",
    "plt.tight_layout(pad=3.5, w_pad=1.0, h_pad=1.0)\n",
    "\n",
    "Direct.plot(ax=axes)\n",
    "Direct2.plot(ax=axes)\n",
    "Diffuse.plot(ax=axes)\n",
    "Diffuse2.plot(ax=axes)\n",
    "\n",
    "axes.legend(labels=['Total 1', 'Total 2', 'Diffuse 1', 'Diffuse 2'])\n",
    "axes.set_ylim(-0.02, 1.5)\n",
    "axes.set_xlim(330,2220)\n",
    "axes.set_ylabel(\"Radiance (W m$^{-2}$ nm$^{-1}$ sr$^{-1}$)\")\n",
    "axes.set_xlabel(\"Wavelength (nm)\")\n",
    "\n",
    "plt.savefig('dd.png')"
   ]
  },
  {
   "cell_type": "code",
   "execution_count": null,
   "metadata": {},
   "outputs": [],
   "source": [
    "plop = Direct3 - Helper3\n",
    "plop.plot(xlim=(350,2200), ylim=(-0.0005,0.0035))"
   ]
  },
  {
   "cell_type": "markdown",
   "metadata": {},
   "source": [
    "indir = '/g/data1a/u46/users/aw3463/GuyByrne/30APR18/Winton/19OCT18/Atmosphere_2/Diffuse_Direct/Panel_'\n",
    "suffix = '.asd.rad.txt'\n",
    "\n",
    "Palldata = LoadData.load_from_dir(indir, suffix)\n",
    "Palldata.set_index('Wavelength', inplace=True)\n",
    "\n",
    "PDrct, PHlpr, PShd = [], [], []\n",
    "for i in Palldata.index.unique():\n",
    "    PDrct.append([i, Palldata.radiance[np.logical_and(Palldata.Type=='Direct', Palldata.index==i)].mean()])\n",
    "    PHlpr.append([i, Palldata.radiance[np.logical_and(Palldata.Type=='Helper', Palldata.index==i)].mean()])\n",
    "    PShd.append([i, Palldata.radiance[np.logical_and(Palldata.Type=='Shade', Palldata.index==i)].mean()])\n",
    "    \n",
    "PDirect = pd.DataFrame(np.array(PDrct), columns=['Wavelength', 'radiance'])\n",
    "PDirect.set_index('Wavelength', inplace=True)\n",
    "PHelper = pd.DataFrame(np.array(PHlpr), columns=['Wavelength', 'radiance'])\n",
    "PHelper.set_index('Wavelength', inplace=True)\n",
    "PShade = pd.DataFrame(np.array(PShd), columns=['Wavelength', 'radiance'])\n",
    "PShade.set_index('Wavelength', inplace=True)\n",
    "\n",
    "PDiffuse = PDirect - (PHelper - PShade)"
   ]
  },
  {
   "cell_type": "markdown",
   "metadata": {},
   "source": [
    "fig, axes = plt.subplots(nrows=1, ncols=1, figsize=(9,5))\n",
    "plt.tight_layout(pad=3.5, w_pad=1.0, h_pad=1.0)\n",
    "\n",
    "PDirect.plot(ax=axes)\n",
    "PDiffuse.plot(ax=axes)\n",
    "\n",
    "axes.legend(labels=['Panel Total', 'Panel Diffuse'])\n",
    "axes.set_ylim(-0.02, 0.6)\n",
    "axes.set_xlim(330,2220)"
   ]
  },
  {
   "cell_type": "markdown",
   "metadata": {},
   "source": [
    "## How long did this notebook take to run?"
   ]
  },
  {
   "cell_type": "code",
   "execution_count": null,
   "metadata": {
    "scrolled": false
   },
   "outputs": [],
   "source": [
    "import datetime\n",
    "print(\"This Notebook took \", str(datetime.timedelta(seconds=int((time.time() - start_time)))), \"(h:m:s) to run\")"
   ]
  },
  {
   "cell_type": "code",
   "execution_count": null,
   "metadata": {},
   "outputs": [],
   "source": [
    "data = pd.concat([Direct, Direct2, Direct3, Helper, Helper2, Helper3, Shade, Shade2, Shade3], axis=1)\n"
   ]
  },
  {
   "cell_type": "code",
   "execution_count": null,
   "metadata": {},
   "outputs": [],
   "source": [
    "data.columns = ['Direct', 'Direct2', 'Direct3', 'Helper', 'Helper2', 'Helper3', 'Shade', 'Shade2', 'Shade3']"
   ]
  },
  {
   "cell_type": "code",
   "execution_count": null,
   "metadata": {},
   "outputs": [],
   "source": [
    "data.to_csv('~/MUL_10APR19_DD.csv')"
   ]
  },
  {
   "cell_type": "code",
   "execution_count": null,
   "metadata": {},
   "outputs": [],
   "source": [
    "alldata3"
   ]
  },
  {
   "cell_type": "code",
   "execution_count": null,
   "metadata": {},
   "outputs": [],
   "source": []
  }
 ],
 "metadata": {
  "kernelspec": {
   "display_name": "Python 3",
   "language": "python",
   "name": "python3"
  },
  "language_info": {
   "codemirror_mode": {
    "name": "ipython",
    "version": 3
   },
   "file_extension": ".py",
   "mimetype": "text/x-python",
   "name": "python",
   "nbconvert_exporter": "python",
   "pygments_lexer": "ipython3",
   "version": "3.6.10"
  }
 },
 "nbformat": 4,
 "nbformat_minor": 2
}
