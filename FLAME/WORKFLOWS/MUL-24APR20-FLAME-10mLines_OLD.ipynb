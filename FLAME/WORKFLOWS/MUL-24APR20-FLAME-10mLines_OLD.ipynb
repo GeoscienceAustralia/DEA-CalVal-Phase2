{
 "cells": [
  {
   "cell_type": "code",
   "execution_count": 1,
   "metadata": {},
   "outputs": [],
   "source": [
    "from datetime import datetime, timedelta\n",
    "import pandas as pd\n",
    "import numpy as np \n",
    "import glob, os, subprocess\n",
    "from dateutil import parser\n",
    "\n",
    "import matplotlib.pyplot as plt\n",
    "import matplotlib\n",
    "import datacube\n",
    "import sys, shutil\n",
    "sys.path.append(\"..\")\n",
    "\n",
    "from SRC import *\n",
    "\n",
    "%matplotlib notebook\n",
    "matplotlib.rcParams.update({'font.size': 12})\n",
    "matplotlib.rcParams['savefig.dpi'] = 300\n",
    "\n",
    "\n",
    "indir = '/g/data/u46/users/aw3463/GuyByrne/calval/FLAME/MULLION/04MAY20/flame_data/10m_lines/'\n",
    "outdir = '/g/data1a/u46/users/aw3463/GuyByrne/calval/FLAME/PNGS/MULLION/04MAY20/'\n",
    "calfile = '/g/data/u46/users/aw3463/GuyByrne/calval/FLAME/CALIBRATION/RadCalCoeff_GT08_.csv'\n",
    "TelemetryFile = '/g/data/u46/users/aw3463/GuyByrne/calval/FLAME/MULLION/04MAY20/log_files/May-4th-2020-10-06AM-Flight-Airdata.csv'\n",
    "\n",
    "\n",
    "field_data = ['MUL', '04MAY20', '', 'Sentinel2b', 'GA_Panel', 'Radiance', '', '']\n",
    "\n",
    "fignum=1\n",
    "\n",
    "\n",
    "#\n",
    "# Define the first line and spectrum number for all/good panels and grounds\n",
    "#\n",
    "firstGoodLine = 1\n",
    "firstGoodPanelSpec = 0\n",
    "firstGoodGroundSpec = 1724\n",
    "\n",
    "brdf_data = np.array([['', 'brdf0', 'brdf1', 'brdf2'],\n",
    "                          ['band1', 0.06538, 0.01958666666666667, 0.009953333333333333],\n",
    "                          ['band11', 0.39993333333333336, 0.11646333333333335, 0.05016],\n",
    "                          ['band12', 0.2479, 0.061623333333333336, 0.03579333333333334],\n",
    "                          ['band2', 0.06538, 0.01958666666666667, 0.009953333333333333],\n",
    "                          ['band3', 0.11231, 0.04193666666666667, 0.01812666666666667],\n",
    "                          ['band4', 0.12977000000000002, 0.04653666666666667, 0.02082666666666667],\n",
    "                          ['band5', 0.12977000000000002, 0.04653666666666667, 0.02082666666666667],\n",
    "                          ['band6', 0.12977000000000002, 0.04653666666666667, 0.02082666666666667],\n",
    "                          ['band7', 0.32748000000000005, 0.16837333333333335, 0.03345],\n",
    "                          ['band8', 0.32748000000000005, 0.16837333333333335, 0.03345],\n",
    "                          ['band8a', 0.32748000000000005, 0.16837333333333335, 0.03345],\n",
    "                         ])\n",
    "\n",
    "plot_scale = [0.0, 1.0, 0.0, 1.0]\n",
    "Corners = [0, 0, 0, 0, 0, 0, 0, 0]\n",
    "RockWalk = True\n",
    "StartCorner = 'SE'\n",
    "panel_dir =  '/g/data1a/u46/users/aw3463/GuyByrne/30APR18/Panels/'\n",
    "in_panel = 'ga_panel1_jan_2018.txt'\n",
    "\n",
    "sat_resp = dict({'Landsat5': '/g/data1a/u46/users/aw3463/GuyByrne/misc_others/landsat5_vsir.flt', \n",
    "            'Landsat7': '/g/data1a/u46/users/aw3463/GuyByrne/misc_others/landsat7_vsir.flt', \n",
    "            'Landsat8': '/g/data1a/u46/users/aw3463/GuyByrne/misc_others/landsat8_vsir.flt',\n",
    "            'Sentinel2a': '/g/data1a/u46/users/aw3463/GuyByrne/misc_others/Sent2a.flt',\n",
    "            'Sentinel2b': '/g/data1a/u46/users/aw3463/GuyByrne/misc_others/Sent2b.flt'})\n",
    "\n",
    "f_name = sat_resp[field_data[3]]\n",
    "\n",
    "#\n",
    "# Colours used for plotting multi-coloured Lines\n",
    "#\n",
    "colpac=['#770000', '#FF0000', '#FF7700', '#FFFF00', '#77FF00', '#00FF00', \n",
    "        '#00FF77', '#00FFFF', '#0077FF', '#0000FF', '#000077', '#FF00FF', '#777777', '#770077', '#777700']\n",
    "\n"
   ]
  },
  {
   "cell_type": "code",
   "execution_count": 2,
   "metadata": {},
   "outputs": [],
   "source": [
    "TeleDat = pd.read_csv(TelemetryFile)\n",
    "#TeleDat1 = pd.read_csv(TelemetryFile1)\n",
    "#TeleDat2 = pd.read_csv(TelemetryFile2)\n",
    "#TeleDat = pd.concat([TeleDat1, TeleDat2])"
   ]
  },
  {
   "cell_type": "code",
   "execution_count": 3,
   "metadata": {},
   "outputs": [],
   "source": [
    "TeleDat.drop(['height_above_ground_at_drone_location(meters)', \n",
    "              'ground_elevation_at_drone_location(meters)',\n",
    "              'satellites',\n",
    "              'gpslevel',\n",
    "              'voltage(v)',\n",
    "              'max_altitude(meters)',\n",
    "              'max_ascent(meters)',\n",
    "              'max_speed(m/s)',\n",
    "              'max_distance(meters)',\n",
    "              ' xSpeed(m/s)',\n",
    "              ' ySpeed(m/s)',\n",
    "              ' zSpeed(m/s)',\n",
    "              'isPhoto',\n",
    "              'isVideo',\n",
    "              'rc_elevator',\n",
    "              'rc_aileron',\n",
    "              'rc_throttle',\n",
    "              'rc_rudder',\n",
    "              'battery_percent',\n",
    "              'voltageCell1',\n",
    "              'voltageCell2',\n",
    "              'voltageCell3',\n",
    "              'voltageCell4',\n",
    "              'voltageCell5',\n",
    "              'voltageCell6',\n",
    "              'current(A)',\n",
    "              'battery_temperature(c)',\n",
    "              'altitude(meters)',\n",
    "              'ascent(meters)',\n",
    "              'flycStateRaw',\n",
    "              'flycState'], axis=1, inplace=True)"
   ]
  },
  {
   "cell_type": "code",
   "execution_count": 4,
   "metadata": {},
   "outputs": [],
   "source": [
    "TeleDat.rename(columns={'time(millisecond)': 'time_ms',\n",
    "                        'datetime(utc)': 'datetime',\n",
    "                        'latitude': 'Latitude',\n",
    "                        'longitude': 'Longitude',\n",
    "                        'height_above_takeoff(meters)': 'height_local',\n",
    "                        'altitude_above_seaLevel(meters)': 'height_sea',\n",
    "                        'distance(meters)': 'distance(m)',\n",
    "                        ' compass_heading(degrees)': 'compass_heading',\n",
    "                        ' pitch(degrees)': 'pitch',\n",
    "                        ' roll(degrees)': 'roll',\n",
    "                        'gimbal_heading(degrees)': 'gimbal_heading',\n",
    "                        'gimbal_pitch(degrees)': 'gimbal_pitch',\n",
    "                        'message': 'comment'\n",
    "                       }, inplace=True\n",
    "              )"
   ]
  },
  {
   "cell_type": "code",
   "execution_count": 5,
   "metadata": {},
   "outputs": [],
   "source": [
    "TeleDat['datetime'] = [parser.parse(TeleDat.datetime[i]) for i in range(len(TeleDat.datetime))]"
   ]
  },
  {
   "cell_type": "code",
   "execution_count": 6,
   "metadata": {},
   "outputs": [],
   "source": [
    "TeleDat = TeleDat[TeleDat['datetime'] > datetime(2020,4,14,1,53,0)]"
   ]
  },
  {
   "cell_type": "code",
   "execution_count": 7,
   "metadata": {
    "scrolled": true
   },
   "outputs": [],
   "source": [
    "TeleDat['date_saved'] = [TeleDat.datetime.iloc[0] + timedelta(milliseconds=int(TeleDat.time_ms.iloc[i])) + timedelta(milliseconds=900) for i in range(len(TeleDat.datetime))]"
   ]
  },
  {
   "cell_type": "code",
   "execution_count": 8,
   "metadata": {},
   "outputs": [
    {
     "data": {
      "text/plain": [
       "<matplotlib.axes._subplots.AxesSubplot at 0x7efe19748470>"
      ]
     },
     "execution_count": 8,
     "metadata": {},
     "output_type": "execute_result"
    },
    {
     "data": {
      "image/png": "[encoded data removed]",
      "text/plain": [
       "<Figure size 432x288 with 1 Axes>"
      ]
     },
     "metadata": {
      "needs_background": "light"
     },
     "output_type": "display_data"
    }
   ],
   "source": [
    "TeleDat.plot('date_saved', ['distance(m)', 'gimbal_pitch'])"
   ]
  },
  {
   "cell_type": "code",
   "execution_count": 9,
   "metadata": {},
   "outputs": [
    {
     "data": {
      "text/html": [
       "<div>\n",
       "<style scoped>\n",
       "    .dataframe tbody tr th:only-of-type {\n",
       "        vertical-align: middle;\n",
       "    }\n",
       "\n",
       "    .dataframe tbody tr th {\n",
       "        vertical-align: top;\n",
       "    }\n",
       "\n",
       "    .dataframe thead th {\n",
       "        text-align: right;\n",
       "    }\n",
       "</style>\n",
       "<table border=\"1\" class=\"dataframe\">\n",
       "  <thead>\n",
       "    <tr style=\"text-align: right;\">\n",
       "      <th></th>\n",
       "      <th>time_ms</th>\n",
       "      <th>datetime</th>\n",
       "      <th>Latitude</th>\n",
       "      <th>Longitude</th>\n",
       "      <th>height_local</th>\n",
       "      <th>height_sea</th>\n",
       "      <th>speed(m/s)</th>\n",
       "      <th>distance(m)</th>\n",
       "      <th>compass_heading</th>\n",
       "      <th>pitch</th>\n",
       "      <th>roll</th>\n",
       "      <th>gimbal_heading</th>\n",
       "      <th>gimbal_pitch</th>\n",
       "      <th>comment</th>\n",
       "      <th>date_saved</th>\n",
       "    </tr>\n",
       "  </thead>\n",
       "  <tbody>\n",
       "    <tr>\n",
       "      <th>0</th>\n",
       "      <td>0</td>\n",
       "      <td>2020-05-04 00:06:17</td>\n",
       "      <td>-35.123510</td>\n",
       "      <td>148.862611</td>\n",
       "      <td>0.0</td>\n",
       "      <td>578.747925</td>\n",
       "      <td>0.0</td>\n",
       "      <td>0.000000</td>\n",
       "      <td>90.5</td>\n",
       "      <td>1.3</td>\n",
       "      <td>-1.7</td>\n",
       "      <td>180.3</td>\n",
       "      <td>-89.0</td>\n",
       "      <td>NaN</td>\n",
       "      <td>2020-05-04 00:06:17.900</td>\n",
       "    </tr>\n",
       "    <tr>\n",
       "      <th>1</th>\n",
       "      <td>100</td>\n",
       "      <td>2020-05-04 00:06:18</td>\n",
       "      <td>-35.123510</td>\n",
       "      <td>148.862611</td>\n",
       "      <td>0.0</td>\n",
       "      <td>578.747925</td>\n",
       "      <td>0.0</td>\n",
       "      <td>0.003218</td>\n",
       "      <td>90.6</td>\n",
       "      <td>1.3</td>\n",
       "      <td>-1.7</td>\n",
       "      <td>179.8</td>\n",
       "      <td>-89.0</td>\n",
       "      <td>NaN</td>\n",
       "      <td>2020-05-04 00:06:18.000</td>\n",
       "    </tr>\n",
       "    <tr>\n",
       "      <th>2</th>\n",
       "      <td>200</td>\n",
       "      <td>2020-05-04 00:06:18</td>\n",
       "      <td>-35.123510</td>\n",
       "      <td>148.862611</td>\n",
       "      <td>0.0</td>\n",
       "      <td>578.747925</td>\n",
       "      <td>0.0</td>\n",
       "      <td>0.005704</td>\n",
       "      <td>90.7</td>\n",
       "      <td>1.3</td>\n",
       "      <td>-1.7</td>\n",
       "      <td>179.7</td>\n",
       "      <td>-89.0</td>\n",
       "      <td>NaN</td>\n",
       "      <td>2020-05-04 00:06:18.100</td>\n",
       "    </tr>\n",
       "    <tr>\n",
       "      <th>3</th>\n",
       "      <td>300</td>\n",
       "      <td>2020-05-04 00:06:18</td>\n",
       "      <td>-35.123510</td>\n",
       "      <td>148.862611</td>\n",
       "      <td>0.0</td>\n",
       "      <td>578.747925</td>\n",
       "      <td>0.0</td>\n",
       "      <td>0.009292</td>\n",
       "      <td>90.9</td>\n",
       "      <td>1.3</td>\n",
       "      <td>-1.7</td>\n",
       "      <td>179.9</td>\n",
       "      <td>-89.0</td>\n",
       "      <td>NaN</td>\n",
       "      <td>2020-05-04 00:06:18.200</td>\n",
       "    </tr>\n",
       "    <tr>\n",
       "      <th>4</th>\n",
       "      <td>400</td>\n",
       "      <td>2020-05-04 00:06:18</td>\n",
       "      <td>-35.123510</td>\n",
       "      <td>148.862611</td>\n",
       "      <td>0.0</td>\n",
       "      <td>578.747925</td>\n",
       "      <td>0.0</td>\n",
       "      <td>0.012701</td>\n",
       "      <td>90.9</td>\n",
       "      <td>1.3</td>\n",
       "      <td>-1.7</td>\n",
       "      <td>180.8</td>\n",
       "      <td>-89.0</td>\n",
       "      <td>NaN</td>\n",
       "      <td>2020-05-04 00:06:18.300</td>\n",
       "    </tr>\n",
       "    <tr>\n",
       "      <th>...</th>\n",
       "      <td>...</td>\n",
       "      <td>...</td>\n",
       "      <td>...</td>\n",
       "      <td>...</td>\n",
       "      <td>...</td>\n",
       "      <td>...</td>\n",
       "      <td>...</td>\n",
       "      <td>...</td>\n",
       "      <td>...</td>\n",
       "      <td>...</td>\n",
       "      <td>...</td>\n",
       "      <td>...</td>\n",
       "      <td>...</td>\n",
       "      <td>...</td>\n",
       "      <td>...</td>\n",
       "    </tr>\n",
       "    <tr>\n",
       "      <th>4208</th>\n",
       "      <td>441400</td>\n",
       "      <td>2020-05-04 00:13:39</td>\n",
       "      <td>-35.123506</td>\n",
       "      <td>148.862607</td>\n",
       "      <td>-0.4</td>\n",
       "      <td>578.347925</td>\n",
       "      <td>0.0</td>\n",
       "      <td>0.531200</td>\n",
       "      <td>72.7</td>\n",
       "      <td>1.2</td>\n",
       "      <td>-1.3</td>\n",
       "      <td>182.4</td>\n",
       "      <td>-89.0</td>\n",
       "      <td>NaN</td>\n",
       "      <td>2020-05-04 00:13:39.300</td>\n",
       "    </tr>\n",
       "    <tr>\n",
       "      <th>4209</th>\n",
       "      <td>441500</td>\n",
       "      <td>2020-05-04 00:13:39</td>\n",
       "      <td>-35.123506</td>\n",
       "      <td>148.862607</td>\n",
       "      <td>-0.4</td>\n",
       "      <td>578.347925</td>\n",
       "      <td>0.0</td>\n",
       "      <td>0.529857</td>\n",
       "      <td>72.8</td>\n",
       "      <td>1.3</td>\n",
       "      <td>-1.3</td>\n",
       "      <td>179.2</td>\n",
       "      <td>-88.9</td>\n",
       "      <td>NaN</td>\n",
       "      <td>2020-05-04 00:13:39.400</td>\n",
       "    </tr>\n",
       "    <tr>\n",
       "      <th>4210</th>\n",
       "      <td>441600</td>\n",
       "      <td>2020-05-04 00:13:39</td>\n",
       "      <td>-35.123506</td>\n",
       "      <td>148.862607</td>\n",
       "      <td>-0.4</td>\n",
       "      <td>578.347925</td>\n",
       "      <td>0.0</td>\n",
       "      <td>0.526105</td>\n",
       "      <td>72.8</td>\n",
       "      <td>1.2</td>\n",
       "      <td>-1.3</td>\n",
       "      <td>180.6</td>\n",
       "      <td>-88.9</td>\n",
       "      <td>NaN</td>\n",
       "      <td>2020-05-04 00:13:39.500</td>\n",
       "    </tr>\n",
       "    <tr>\n",
       "      <th>4211</th>\n",
       "      <td>441700</td>\n",
       "      <td>2020-05-04 00:13:39</td>\n",
       "      <td>-35.123506</td>\n",
       "      <td>148.862607</td>\n",
       "      <td>-0.4</td>\n",
       "      <td>578.347925</td>\n",
       "      <td>0.0</td>\n",
       "      <td>0.525896</td>\n",
       "      <td>72.7</td>\n",
       "      <td>1.2</td>\n",
       "      <td>-1.2</td>\n",
       "      <td>180.5</td>\n",
       "      <td>-89.0</td>\n",
       "      <td>NaN</td>\n",
       "      <td>2020-05-04 00:13:39.600</td>\n",
       "    </tr>\n",
       "    <tr>\n",
       "      <th>4212</th>\n",
       "      <td>441800</td>\n",
       "      <td>2020-05-04 00:13:39</td>\n",
       "      <td>-35.123506</td>\n",
       "      <td>148.862607</td>\n",
       "      <td>-0.4</td>\n",
       "      <td>578.347925</td>\n",
       "      <td>0.0</td>\n",
       "      <td>0.523345</td>\n",
       "      <td>72.7</td>\n",
       "      <td>1.1</td>\n",
       "      <td>-1.3</td>\n",
       "      <td>180.5</td>\n",
       "      <td>-89.0</td>\n",
       "      <td>NaN</td>\n",
       "      <td>2020-05-04 00:13:39.700</td>\n",
       "    </tr>\n",
       "  </tbody>\n",
       "</table>\n",
       "<p>4213 rows × 15 columns</p>\n",
       "</div>"
      ],
      "text/plain": [
       "      time_ms            datetime   Latitude   Longitude  height_local  \\\n",
       "0           0 2020-05-04 00:06:17 -35.123510  148.862611           0.0   \n",
       "1         100 2020-05-04 00:06:18 -35.123510  148.862611           0.0   \n",
       "2         200 2020-05-04 00:06:18 -35.123510  148.862611           0.0   \n",
       "3         300 2020-05-04 00:06:18 -35.123510  148.862611           0.0   \n",
       "4         400 2020-05-04 00:06:18 -35.123510  148.862611           0.0   \n",
       "...       ...                 ...        ...         ...           ...   \n",
       "4208   441400 2020-05-04 00:13:39 -35.123506  148.862607          -0.4   \n",
       "4209   441500 2020-05-04 00:13:39 -35.123506  148.862607          -0.4   \n",
       "4210   441600 2020-05-04 00:13:39 -35.123506  148.862607          -0.4   \n",
       "4211   441700 2020-05-04 00:13:39 -35.123506  148.862607          -0.4   \n",
       "4212   441800 2020-05-04 00:13:39 -35.123506  148.862607          -0.4   \n",
       "\n",
       "      height_sea  speed(m/s)  distance(m)  compass_heading  pitch  roll  \\\n",
       "0     578.747925         0.0     0.000000             90.5    1.3  -1.7   \n",
       "1     578.747925         0.0     0.003218             90.6    1.3  -1.7   \n",
       "2     578.747925         0.0     0.005704             90.7    1.3  -1.7   \n",
       "3     578.747925         0.0     0.009292             90.9    1.3  -1.7   \n",
       "4     578.747925         0.0     0.012701             90.9    1.3  -1.7   \n",
       "...          ...         ...          ...              ...    ...   ...   \n",
       "4208  578.347925         0.0     0.531200             72.7    1.2  -1.3   \n",
       "4209  578.347925         0.0     0.529857             72.8    1.3  -1.3   \n",
       "4210  578.347925         0.0     0.526105             72.8    1.2  -1.3   \n",
       "4211  578.347925         0.0     0.525896             72.7    1.2  -1.2   \n",
       "4212  578.347925         0.0     0.523345             72.7    1.1  -1.3   \n",
       "\n",
       "      gimbal_heading  gimbal_pitch comment              date_saved  \n",
       "0              180.3         -89.0     NaN 2020-05-04 00:06:17.900  \n",
       "1              179.8         -89.0     NaN 2020-05-04 00:06:18.000  \n",
       "2              179.7         -89.0     NaN 2020-05-04 00:06:18.100  \n",
       "3              179.9         -89.0     NaN 2020-05-04 00:06:18.200  \n",
       "4              180.8         -89.0     NaN 2020-05-04 00:06:18.300  \n",
       "...              ...           ...     ...                     ...  \n",
       "4208           182.4         -89.0     NaN 2020-05-04 00:13:39.300  \n",
       "4209           179.2         -88.9     NaN 2020-05-04 00:13:39.400  \n",
       "4210           180.6         -88.9     NaN 2020-05-04 00:13:39.500  \n",
       "4211           180.5         -89.0     NaN 2020-05-04 00:13:39.600  \n",
       "4212           180.5         -89.0     NaN 2020-05-04 00:13:39.700  \n",
       "\n",
       "[4213 rows x 15 columns]"
      ]
     },
     "execution_count": 9,
     "metadata": {},
     "output_type": "execute_result"
    }
   ],
   "source": [
    "TeleDat"
   ]
  },
  {
   "cell_type": "code",
   "execution_count": 10,
   "metadata": {},
   "outputs": [],
   "source": [
    "alldata = LoadData.load_from_dir(indir, calfile)"
   ]
  },
  {
   "cell_type": "code",
   "execution_count": 11,
   "metadata": {},
   "outputs": [],
   "source": [
    "alldata['radiance'] = alldata.DN*alldata.CalData/alldata.IntTime\n",
    "#alldata['radiance'] = alldata['radiance']/10000\n",
    "alldata['Line']=1\n",
    "#alldata['Latitude'] = -35.123277\n",
    "#alldata['Longitude'] = 148.862692"
   ]
  },
  {
   "cell_type": "code",
   "execution_count": 12,
   "metadata": {
    "scrolled": true
   },
   "outputs": [
    {
     "name": "stdout",
     "output_type": "stream",
     "text": [
      "Completed  980 / 980  spectra\r"
     ]
    }
   ],
   "source": [
    "#\n",
    "# Bin spectra into integer wavelength bins, assuming that the input data\n",
    "# has 0.3nm channels.\n",
    "#\n",
    "def wavelength_bin(alldata):\n",
    "    # Create avgdata DataFrame, based on alldata input DataFrame\n",
    "    # Reset index so that Wavelength is not the index.\n",
    "    avgdata = alldata.copy()\n",
    "    avgdata.reset_index(inplace=True)\n",
    "    \n",
    "    ### Make a mean of three rows for each of DN, Calibration, Radiance\n",
    "    ###avgdata['DNmean'] = avgdata.DN.rolling(3, center=True).mean()\n",
    "    ###avgdata['Calmean'] = avgdata.CalData.rolling(3, center=True).mean()\n",
    "    ###avgdata['Radmean'] = avgdata.radiance.rolling(3, center=True).mean()\n",
    "    \n",
    "    # Remove first and last wavelengths which have NaNs in them.\n",
    "    avgdata = avgdata[avgdata.Wavelength != 349.176]\n",
    "    avgdata = avgdata[avgdata.Wavelength != 910.925]\n",
    "    \n",
    "    # Create empty output DataFrame\n",
    "    outputDF = pd.DataFrame()\n",
    "    ttmm = pd.DataFrame()\n",
    "    \n",
    "    # Loop through each spectrum in the dataframe\n",
    "    for j in avgdata.SpecNum.unique():\n",
    "        tempdata = avgdata[avgdata.SpecNum==j].groupby(pd.cut(avgdata[avgdata.SpecNum==j]['Wavelength'], np.arange(349.5,910.5,1.0))).mean()\n",
    "        tempdata['date_saved'] = avgdata[avgdata.SpecNum==j].date_saved.values[0]\n",
    "        tempdata['filename'] = avgdata[avgdata.SpecNum==j].filename.values[0]\n",
    "        \n",
    "        tempdata.index.rename('plop', inplace=True)\n",
    "        tempdata.reset_index(inplace=True)\n",
    "        tempdata.drop(columns='plop', inplace=True)\n",
    "        tempdata.Wavelength = tempdata.Wavelength.round(0).astype(int)        \n",
    "        \n",
    "        # When finished making an entire spectrum, add it to the output DataFrame\n",
    "        # and print how many have been done.\n",
    "        if outputDF.empty:\n",
    "            outputDF = tempdata.copy()\n",
    "        \n",
    "        else:\n",
    "            if j % 100 == 0:\n",
    "                ttmm = pd.concat([ttmm, tempdata])\n",
    "                outputDF = pd.concat([outputDF, ttmm])\n",
    "                ttmm = pd.DataFrame()\n",
    "            \n",
    "            elif j == len(avgdata.SpecNum.unique())-1:\n",
    "                ttmm = pd.concat([ttmm, tempdata])\n",
    "                outputDF = pd.concat([outputDF, ttmm])\n",
    "            \n",
    "            elif ttmm.empty:\n",
    "                ttmm = tempdata.copy()\n",
    "            \n",
    "            else:\n",
    "                ttmm = pd.concat([ttmm, tempdata])\n",
    "                \n",
    "            \n",
    "        print('Completed ', j+1, '/', len(avgdata.SpecNum.unique()), ' spectra', end='\\r', flush=True)\n",
    "\n",
    "    # output final DataFrame\n",
    "    return outputDF\n",
    "\n",
    "avgdata = wavelength_bin(alldata)"
   ]
  },
  {
   "cell_type": "code",
   "execution_count": 13,
   "metadata": {},
   "outputs": [],
   "source": [
    "alldat = avgdata.reset_index()"
   ]
  },
  {
   "cell_type": "code",
   "execution_count": 14,
   "metadata": {},
   "outputs": [],
   "source": [
    "merge_data = pd.merge_asof(avgdata, TeleDat, on='date_saved')"
   ]
  },
  {
   "cell_type": "code",
   "execution_count": 15,
   "metadata": {},
   "outputs": [],
   "source": [
    "#plop = plop.set_index('Wavelength')"
   ]
  },
  {
   "cell_type": "code",
   "execution_count": 16,
   "metadata": {},
   "outputs": [
    {
     "data": {
      "text/plain": [
       "<matplotlib.axes._subplots.AxesSubplot at 0x7efe194415f8>"
      ]
     },
     "execution_count": 16,
     "metadata": {},
     "output_type": "execute_result"
    },
    {
     "data": {
      "image/png": "[encoded data removed]",
      "text/plain": [
       "<Figure size 432x288 with 1 Axes>"
      ]
     },
     "metadata": {
      "needs_background": "light"
     },
     "output_type": "display_data"
    }
   ],
   "source": [
    "merge_data.plot('date_saved', 'height_local')"
   ]
  },
  {
   "cell_type": "code",
   "execution_count": 17,
   "metadata": {
    "scrolled": true
   },
   "outputs": [
    {
     "data": {
      "text/plain": [
       "<matplotlib.axes._subplots.AxesSubplot at 0x7efe1939b278>"
      ]
     },
     "execution_count": 17,
     "metadata": {},
     "output_type": "execute_result"
    },
    {
     "data": {
      "image/png": "[encoded data removed]",
      "text/plain": [
       "<Figure size 432x288 with 1 Axes>"
      ]
     },
     "metadata": {
      "needs_background": "light"
     },
     "output_type": "display_data"
    }
   ],
   "source": [
    "merge_data.plot('date_saved', 'pitch', ylim=(-1.6, 6.2))"
   ]
  },
  {
   "cell_type": "code",
   "execution_count": 18,
   "metadata": {},
   "outputs": [],
   "source": [
    "def scatter_plot(xdata, ydata):\n",
    "    plt.scatter(xdata, ydata, s=3)\n",
    "    plt.xlim(xdata.min(), xdata.max())\n",
    "    plt.ylim(ydata.min(), ydata.max())"
   ]
  },
  {
   "cell_type": "code",
   "execution_count": 19,
   "metadata": {
    "scrolled": false
   },
   "outputs": [
    {
     "data": {
      "image/png": "[encoded data removed]",
      "text/plain": [
       "<Figure size 432x288 with 1 Axes>"
      ]
     },
     "metadata": {
      "needs_background": "light"
     },
     "output_type": "display_data"
    }
   ],
   "source": [
    "scatter_plot(merge_data[merge_data.compass_heading <10]['date_saved'], merge_data[merge_data.compass_heading <10]['compass_heading'])"
   ]
  },
  {
   "cell_type": "code",
   "execution_count": 20,
   "metadata": {},
   "outputs": [
    {
     "data": {
      "image/png": "[encoded data removed]",
      "text/plain": [
       "<Figure size 432x288 with 1 Axes>"
      ]
     },
     "metadata": {
      "needs_background": "light"
     },
     "output_type": "display_data"
    }
   ],
   "source": [
    "scatter_plot(merge_data[merge_data.Wavelength==450]['date_saved'], merge_data[merge_data.Wavelength==450]['radiance'])\n",
    "#scatter_plot(merge_data[merge_data.Wavelength==450]['date_saved'], merge_data[merge_data.Wavelength==450]['height_local'])\n",
    "plt.savefig('moo.png')"
   ]
  },
  {
   "cell_type": "code",
   "execution_count": 21,
   "metadata": {},
   "outputs": [],
   "source": [
    "tmp_panels = merge_data[np.logical_and(merge_data.Wavelength==450, merge_data.radiance > 50)]"
   ]
  },
  {
   "cell_type": "code",
   "execution_count": 22,
   "metadata": {},
   "outputs": [],
   "source": [
    "bad_times = [datetime(2020,5,4,0,15,54,469000), \n",
    "             datetime(2020,5,4,0,16,1,547000)]\n",
    "\n",
    "for i in bad_times:\n",
    "    tmp_panels = tmp_panels[tmp_panels.date_saved != i]\n",
    "    \n",
    "tmp_panels = tmp_panels[tmp_panels.date_saved < datetime(2020,5,4,0,16,10)]\n",
    "#tmp_panels = tmp_panels[tmp_panels.date_saved < datetime(2020,5,4,0,16,10)]\n",
    "\n",
    "\n",
    "#datetime(2020,5,4,0,15,35)\n",
    "#all_panels = all_panels[all_panels.date_saved != (datetime(2020,4,24,0,28,24,515000))]\n"
   ]
  },
  {
   "cell_type": "code",
   "execution_count": 23,
   "metadata": {},
   "outputs": [],
   "source": [
    "all_panels = merge_data.loc[merge_data['date_saved'].isin(tmp_panels.date_saved)]"
   ]
  },
  {
   "cell_type": "code",
   "execution_count": 24,
   "metadata": {},
   "outputs": [],
   "source": [
    "all_panel_spec = MakeSpecDF.make_spec_df(all_panels)"
   ]
  },
  {
   "cell_type": "code",
   "execution_count": 25,
   "metadata": {},
   "outputs": [
    {
     "ename": "TypeError",
     "evalue": "no numeric data to plot",
     "output_type": "error",
     "traceback": [
      "\u001b[0;31m---------------------------------------------------------------------------\u001b[0m",
      "\u001b[0;31mTypeError\u001b[0m                                 Traceback (most recent call last)",
      "\u001b[0;32m<ipython-input-25-52e3e0a9c2d8>\u001b[0m in \u001b[0;36m<module>\u001b[0;34m\u001b[0m\n\u001b[0;32m----> 1\u001b[0;31m \u001b[0mFIG_PanelRadiances\u001b[0m\u001b[0;34m.\u001b[0m\u001b[0mFIG_panel_radiances\u001b[0m\u001b[0;34m(\u001b[0m\u001b[0mall_panel_spec\u001b[0m\u001b[0;34m,\u001b[0m \u001b[0moutdir\u001b[0m\u001b[0;34m,\u001b[0m \u001b[0mfield_data\u001b[0m\u001b[0;34m,\u001b[0m \u001b[0mfignum\u001b[0m\u001b[0;34m)\u001b[0m\u001b[0;34m\u001b[0m\u001b[0;34m\u001b[0m\u001b[0m\n\u001b[0m\u001b[1;32m      2\u001b[0m \u001b[0;34m\u001b[0m\u001b[0m\n\u001b[1;32m      3\u001b[0m \u001b[0mfignum\u001b[0m \u001b[0;34m+=\u001b[0m \u001b[0;36m1\u001b[0m\u001b[0;34m\u001b[0m\u001b[0;34m\u001b[0m\u001b[0m\n",
      "\u001b[0;32m/g/data1a/u46/users/aw3463/GuyByrne/calval/FLAME/SRC/FIG_PanelRadiances.py\u001b[0m in \u001b[0;36mFIG_panel_radiances\u001b[0;34m(all_panel_spec, output, field_data, fignum)\u001b[0m\n\u001b[1;32m     18\u001b[0m     \u001b[0;31m# Plot the ALL panel radiances\u001b[0m\u001b[0;34m\u001b[0m\u001b[0;34m\u001b[0m\u001b[0;34m\u001b[0m\u001b[0m\n\u001b[1;32m     19\u001b[0m     \u001b[0;31m#\u001b[0m\u001b[0;34m\u001b[0m\u001b[0;34m\u001b[0m\u001b[0;34m\u001b[0m\u001b[0m\n\u001b[0;32m---> 20\u001b[0;31m     \u001b[0mall_panel_spec\u001b[0m\u001b[0;34m.\u001b[0m\u001b[0mplot\u001b[0m\u001b[0;34m(\u001b[0m\u001b[0mtitle\u001b[0m \u001b[0;34m=\u001b[0m \u001b[0;34m\" All panel radiances\"\u001b[0m\u001b[0;34m,\u001b[0m \u001b[0mlegend\u001b[0m\u001b[0;34m=\u001b[0m\u001b[0;32mFalse\u001b[0m\u001b[0;34m,\u001b[0m \u001b[0max\u001b[0m\u001b[0;34m=\u001b[0m\u001b[0maxes\u001b[0m\u001b[0;34m)\u001b[0m\u001b[0;34m\u001b[0m\u001b[0;34m\u001b[0m\u001b[0m\n\u001b[0m\u001b[1;32m     21\u001b[0m \u001b[0;34m\u001b[0m\u001b[0m\n\u001b[1;32m     22\u001b[0m     \u001b[0;31m#\u001b[0m\u001b[0;34m\u001b[0m\u001b[0;34m\u001b[0m\u001b[0;34m\u001b[0m\u001b[0m\n",
      "\u001b[0;32m/g/data/v10/public/modules/dea-env/20191127/lib/python3.6/site-packages/pandas/plotting/_core.py\u001b[0m in \u001b[0;36m__call__\u001b[0;34m(self, *args, **kwargs)\u001b[0m\n\u001b[1;32m    792\u001b[0m                     \u001b[0mdata\u001b[0m\u001b[0;34m.\u001b[0m\u001b[0mcolumns\u001b[0m \u001b[0;34m=\u001b[0m \u001b[0mlabel_name\u001b[0m\u001b[0;34m\u001b[0m\u001b[0;34m\u001b[0m\u001b[0m\n\u001b[1;32m    793\u001b[0m \u001b[0;34m\u001b[0m\u001b[0m\n\u001b[0;32m--> 794\u001b[0;31m         \u001b[0;32mreturn\u001b[0m \u001b[0mplot_backend\u001b[0m\u001b[0;34m.\u001b[0m\u001b[0mplot\u001b[0m\u001b[0;34m(\u001b[0m\u001b[0mdata\u001b[0m\u001b[0;34m,\u001b[0m \u001b[0mkind\u001b[0m\u001b[0;34m=\u001b[0m\u001b[0mkind\u001b[0m\u001b[0;34m,\u001b[0m \u001b[0;34m**\u001b[0m\u001b[0mkwargs\u001b[0m\u001b[0;34m)\u001b[0m\u001b[0;34m\u001b[0m\u001b[0;34m\u001b[0m\u001b[0m\n\u001b[0m\u001b[1;32m    795\u001b[0m \u001b[0;34m\u001b[0m\u001b[0m\n\u001b[1;32m    796\u001b[0m     \u001b[0;32mdef\u001b[0m \u001b[0mline\u001b[0m\u001b[0;34m(\u001b[0m\u001b[0mself\u001b[0m\u001b[0;34m,\u001b[0m \u001b[0mx\u001b[0m\u001b[0;34m=\u001b[0m\u001b[0;32mNone\u001b[0m\u001b[0;34m,\u001b[0m \u001b[0my\u001b[0m\u001b[0;34m=\u001b[0m\u001b[0;32mNone\u001b[0m\u001b[0;34m,\u001b[0m \u001b[0;34m**\u001b[0m\u001b[0mkwargs\u001b[0m\u001b[0;34m)\u001b[0m\u001b[0;34m:\u001b[0m\u001b[0;34m\u001b[0m\u001b[0;34m\u001b[0m\u001b[0m\n",
      "\u001b[0;32m/g/data/v10/public/modules/dea-env/20191127/lib/python3.6/site-packages/pandas/plotting/_matplotlib/__init__.py\u001b[0m in \u001b[0;36mplot\u001b[0;34m(data, kind, **kwargs)\u001b[0m\n\u001b[1;32m     60\u001b[0m             \u001b[0mkwargs\u001b[0m\u001b[0;34m[\u001b[0m\u001b[0;34m\"ax\"\u001b[0m\u001b[0;34m]\u001b[0m \u001b[0;34m=\u001b[0m \u001b[0mgetattr\u001b[0m\u001b[0;34m(\u001b[0m\u001b[0max\u001b[0m\u001b[0;34m,\u001b[0m \u001b[0;34m\"left_ax\"\u001b[0m\u001b[0;34m,\u001b[0m \u001b[0max\u001b[0m\u001b[0;34m)\u001b[0m\u001b[0;34m\u001b[0m\u001b[0;34m\u001b[0m\u001b[0m\n\u001b[1;32m     61\u001b[0m     \u001b[0mplot_obj\u001b[0m \u001b[0;34m=\u001b[0m \u001b[0mPLOT_CLASSES\u001b[0m\u001b[0;34m[\u001b[0m\u001b[0mkind\u001b[0m\u001b[0;34m]\u001b[0m\u001b[0;34m(\u001b[0m\u001b[0mdata\u001b[0m\u001b[0;34m,\u001b[0m \u001b[0;34m**\u001b[0m\u001b[0mkwargs\u001b[0m\u001b[0;34m)\u001b[0m\u001b[0;34m\u001b[0m\u001b[0;34m\u001b[0m\u001b[0m\n\u001b[0;32m---> 62\u001b[0;31m     \u001b[0mplot_obj\u001b[0m\u001b[0;34m.\u001b[0m\u001b[0mgenerate\u001b[0m\u001b[0;34m(\u001b[0m\u001b[0;34m)\u001b[0m\u001b[0;34m\u001b[0m\u001b[0;34m\u001b[0m\u001b[0m\n\u001b[0m\u001b[1;32m     63\u001b[0m     \u001b[0mplot_obj\u001b[0m\u001b[0;34m.\u001b[0m\u001b[0mdraw\u001b[0m\u001b[0;34m(\u001b[0m\u001b[0;34m)\u001b[0m\u001b[0;34m\u001b[0m\u001b[0;34m\u001b[0m\u001b[0m\n\u001b[1;32m     64\u001b[0m     \u001b[0;32mreturn\u001b[0m \u001b[0mplot_obj\u001b[0m\u001b[0;34m.\u001b[0m\u001b[0mresult\u001b[0m\u001b[0;34m\u001b[0m\u001b[0;34m\u001b[0m\u001b[0m\n",
      "\u001b[0;32m/g/data/v10/public/modules/dea-env/20191127/lib/python3.6/site-packages/pandas/plotting/_matplotlib/core.py\u001b[0m in \u001b[0;36mgenerate\u001b[0;34m(self)\u001b[0m\n\u001b[1;32m    277\u001b[0m     \u001b[0;32mdef\u001b[0m \u001b[0mgenerate\u001b[0m\u001b[0;34m(\u001b[0m\u001b[0mself\u001b[0m\u001b[0;34m)\u001b[0m\u001b[0;34m:\u001b[0m\u001b[0;34m\u001b[0m\u001b[0;34m\u001b[0m\u001b[0m\n\u001b[1;32m    278\u001b[0m         \u001b[0mself\u001b[0m\u001b[0;34m.\u001b[0m\u001b[0m_args_adjust\u001b[0m\u001b[0;34m(\u001b[0m\u001b[0;34m)\u001b[0m\u001b[0;34m\u001b[0m\u001b[0;34m\u001b[0m\u001b[0m\n\u001b[0;32m--> 279\u001b[0;31m         \u001b[0mself\u001b[0m\u001b[0;34m.\u001b[0m\u001b[0m_compute_plot_data\u001b[0m\u001b[0;34m(\u001b[0m\u001b[0;34m)\u001b[0m\u001b[0;34m\u001b[0m\u001b[0;34m\u001b[0m\u001b[0m\n\u001b[0m\u001b[1;32m    280\u001b[0m         \u001b[0mself\u001b[0m\u001b[0;34m.\u001b[0m\u001b[0m_setup_subplots\u001b[0m\u001b[0;34m(\u001b[0m\u001b[0;34m)\u001b[0m\u001b[0;34m\u001b[0m\u001b[0;34m\u001b[0m\u001b[0m\n\u001b[1;32m    281\u001b[0m         \u001b[0mself\u001b[0m\u001b[0;34m.\u001b[0m\u001b[0m_make_plot\u001b[0m\u001b[0;34m(\u001b[0m\u001b[0;34m)\u001b[0m\u001b[0;34m\u001b[0m\u001b[0;34m\u001b[0m\u001b[0m\n",
      "\u001b[0;32m/g/data/v10/public/modules/dea-env/20191127/lib/python3.6/site-packages/pandas/plotting/_matplotlib/core.py\u001b[0m in \u001b[0;36m_compute_plot_data\u001b[0;34m(self)\u001b[0m\n\u001b[1;32m    412\u001b[0m         \u001b[0;31m# no non-numeric frames or series allowed\u001b[0m\u001b[0;34m\u001b[0m\u001b[0;34m\u001b[0m\u001b[0;34m\u001b[0m\u001b[0m\n\u001b[1;32m    413\u001b[0m         \u001b[0;32mif\u001b[0m \u001b[0mis_empty\u001b[0m\u001b[0;34m:\u001b[0m\u001b[0;34m\u001b[0m\u001b[0;34m\u001b[0m\u001b[0m\n\u001b[0;32m--> 414\u001b[0;31m             \u001b[0;32mraise\u001b[0m \u001b[0mTypeError\u001b[0m\u001b[0;34m(\u001b[0m\u001b[0;34m\"no numeric data to plot\"\u001b[0m\u001b[0;34m)\u001b[0m\u001b[0;34m\u001b[0m\u001b[0;34m\u001b[0m\u001b[0m\n\u001b[0m\u001b[1;32m    415\u001b[0m \u001b[0;34m\u001b[0m\u001b[0m\n\u001b[1;32m    416\u001b[0m         \u001b[0;31m# GH25587: cast ExtensionArray of pandas (IntegerArray, etc.) to\u001b[0m\u001b[0;34m\u001b[0m\u001b[0;34m\u001b[0m\u001b[0;34m\u001b[0m\u001b[0m\n",
      "\u001b[0;31mTypeError\u001b[0m: no numeric data to plot"
     ]
    },
    {
     "data": {
      "image/png": "[encoded data removed]",
      "text/plain": [
       "<Figure size 360x360 with 1 Axes>"
      ]
     },
     "metadata": {
      "needs_background": "light"
     },
     "output_type": "display_data"
    }
   ],
   "source": [
    "FIG_PanelRadiances.FIG_panel_radiances(all_panel_spec, outdir, field_data, fignum)\n",
    "\n",
    "fignum += 1"
   ]
  },
  {
   "cell_type": "code",
   "execution_count": null,
   "metadata": {},
   "outputs": [],
   "source": [
    "merge_data = merge_data[merge_data.Latitude < 0]\n",
    "merge_data = merge_data[merge_data.height_local > 29.5]\n",
    "merge_data = merge_data[merge_data.pitch > -1.6]\n",
    "merge_data = merge_data[merge_data.pitch < 6.2]\n",
    "merge_data = merge_data[np.logical_or(merge_data.compass_heading > 358, merge_data.compass_heading < 1)]"
   ]
  },
  {
   "cell_type": "code",
   "execution_count": null,
   "metadata": {},
   "outputs": [],
   "source": [
    "merge_data[merge_data.Wavelength==350].date_saved"
   ]
  },
  {
   "cell_type": "code",
   "execution_count": null,
   "metadata": {},
   "outputs": [],
   "source": [
    "all_grounds = merge_data[merge_data.date_saved < datetime(2020,5,4,0,12,20)]"
   ]
  },
  {
   "cell_type": "code",
   "execution_count": null,
   "metadata": {},
   "outputs": [],
   "source": [
    "merge_data[merge_data.Wavelength==450].plot('date_saved', 'radiance')"
   ]
  },
  {
   "cell_type": "code",
   "execution_count": null,
   "metadata": {},
   "outputs": [],
   "source": [
    "all_grounds_spec = MakeSpecDF.make_spec_df(all_grounds)"
   ]
  },
  {
   "cell_type": "code",
   "execution_count": null,
   "metadata": {},
   "outputs": [],
   "source": [
    "FIG_GroundSpectra.FIG_ground_spectra(all_grounds_spec, outdir, field_data, fignum)\n",
    "fignum +=1"
   ]
  },
  {
   "cell_type": "code",
   "execution_count": null,
   "metadata": {
    "scrolled": true
   },
   "outputs": [],
   "source": [
    "scatter_plot(merge_data[merge_data.Wavelength==350]['Longitude'], merge_data[merge_data.Wavelength==350]['Latitude'])"
   ]
  },
  {
   "cell_type": "code",
   "execution_count": null,
   "metadata": {},
   "outputs": [],
   "source": [
    "all_panels.Longitude = all_panels.Longitude.fillna(all_panels.Longitude.min())\n",
    "all_panels.Latitude = all_panels.Latitude.fillna(all_panels.Latitude.min())\n",
    "\n",
    "all_grounds.Longitude = all_grounds.Longitude.fillna(all_grounds.Longitude.min())\n",
    "all_grounds.Latitude = all_grounds.Latitude.fillna(all_grounds.Latitude.min())"
   ]
  },
  {
   "cell_type": "code",
   "execution_count": null,
   "metadata": {
    "scrolled": false
   },
   "outputs": [],
   "source": [
    "all_panels, all_grounds = SolarAngle.solar_angle(all_panels, all_grounds, field_data)"
   ]
  },
  {
   "cell_type": "code",
   "execution_count": null,
   "metadata": {},
   "outputs": [],
   "source": [
    "good_panels = all_panels.copy()\n",
    "good_grounds = all_grounds.copy()"
   ]
  },
  {
   "cell_type": "code",
   "execution_count": null,
   "metadata": {},
   "outputs": [],
   "source": [
    "all_panels = PanelBRF.Panel_BRF(all_panels, field_data)"
   ]
  },
  {
   "cell_type": "code",
   "execution_count": null,
   "metadata": {},
   "outputs": [],
   "source": [
    "gpta, adta = CreateTimeRelativeDF.create_time_relative_dfs(all_panels, all_grounds)"
   ]
  },
  {
   "cell_type": "code",
   "execution_count": null,
   "metadata": {},
   "outputs": [],
   "source": [
    "FIG_AllTimelines.FIG_all_timelines(gpta, adta, outdir, field_data, fignum)\n",
    "fignum += 1"
   ]
  },
  {
   "cell_type": "code",
   "execution_count": null,
   "metadata": {},
   "outputs": [],
   "source": [
    "all_panel_mean = all_panel_spec.mean(axis=1)\n",
    "\n",
    "gpta = FIG_NormalisedPanelsTimeline.normalise_spectra(all_panel_mean, all_panel_spec, gpta, field_data)\n",
    "\n",
    "FIG_NormalisedPanelsTimeline.FIG_normalised_panels_timeline(gpta, outdir, field_data, fignum)\n",
    "\n",
    "fignum += 1"
   ]
  },
  {
   "cell_type": "code",
   "execution_count": null,
   "metadata": {},
   "outputs": [],
   "source": [
    "gpta['Latitude'] = -35.123277\n",
    "gpta['Longitude'] = 148.862692\n",
    "adta['Latitude'] = -35.123277\n",
    "adta['Longitude'] = 148.862692"
   ]
  },
  {
   "cell_type": "code",
   "execution_count": null,
   "metadata": {},
   "outputs": [],
   "source": [
    "slope, intercept, coszenith = FIG_InsolationFit.FIG_insolation_fit(gpta, outdir, field_data, fignum)\n",
    "fignum += 1"
   ]
  },
  {
   "cell_type": "markdown",
   "metadata": {},
   "source": [
    "### Scale good panels to insolation curve\n",
    "\n",
    "Use the fitted insolation curve to determine individual offsets for each panel measurement and then divide<BR>\n",
    "off the differences. This effectively removes any individual variations in the absolute scaling of panel<BR>\n",
    "measurements."
   ]
  },
  {
   "cell_type": "code",
   "execution_count": null,
   "metadata": {},
   "outputs": [],
   "source": [
    "good_panels = ScalePanels.scale_panels(slope, intercept, coszenith, gpta, good_panels, field_data)"
   ]
  },
  {
   "cell_type": "markdown",
   "metadata": {},
   "source": [
    "### Scale ground spectra to insolation curve\n",
    "\n",
    "For each line, calculate the mean panel spectrum and determine the fit at the according mean Solar zenith angle.<BR>\n",
    "Then determine individual fits for all ground data within the line and apply the ratio of the panel mean fit to<BR>\n",
    "ground fit to the good_grounds dataframe."
   ]
  },
  {
   "cell_type": "code",
   "execution_count": null,
   "metadata": {
    "scrolled": true
   },
   "outputs": [],
   "source": [
    "good_grounds = ScaleGrounds.scale_grounds(good_panels, good_grounds, slope, intercept, field_data)"
   ]
  },
  {
   "cell_type": "markdown",
   "metadata": {},
   "source": [
    "### Define the K-factor\n",
    "\n",
    "This reads a standard file with a response curve for the detector, given an ideally white surface.<BR>\n",
    "Then \"k_f\" is defined for the K-factor."
   ]
  },
  {
   "cell_type": "code",
   "execution_count": null,
   "metadata": {},
   "outputs": [],
   "source": [
    "k_f = KFactor.k_factor(panel_dir, in_panel)"
   ]
  },
  {
   "cell_type": "code",
   "execution_count": null,
   "metadata": {},
   "outputs": [],
   "source": [
    "k_f = k_f[k_f.index <910]"
   ]
  },
  {
   "cell_type": "markdown",
   "metadata": {},
   "source": [
    "### Re-Make Spectral Dataframes\n",
    "\n",
    "After re-scaling of both good_panels and good_grounds, recreate the good_panel_spec and<BR>\n",
    "good_grounds_spec dataframes"
   ]
  },
  {
   "cell_type": "code",
   "execution_count": null,
   "metadata": {},
   "outputs": [],
   "source": [
    "good_panel_spec = MakeSpecDF.make_spec_df(good_panels)\n",
    "good_grounds_spec = MakeSpecDF.make_spec_df(good_grounds)"
   ]
  },
  {
   "cell_type": "markdown",
   "metadata": {},
   "source": [
    "### Rename the first spectrum in ALL/GOOD panels to the correct name\n",
    "\n",
    "Rather than just \"radiance\", it will be named something like radiance1-0<BR>\n",
    "for the zeroth spectrum in the first line, for example.    "
   ]
  },
  {
   "cell_type": "code",
   "execution_count": null,
   "metadata": {},
   "outputs": [],
   "source": [
    "SpecRename.spec_rename(good_panel_spec, good_grounds_spec, firstGoodLine, firstGoodPanelSpec, firstGoodGroundSpec, field_data)"
   ]
  },
  {
   "cell_type": "code",
   "execution_count": null,
   "metadata": {},
   "outputs": [],
   "source": [
    "good_panel_spec = good_panel_spec.rename(columns={x:y for x,y in zip(good_panel_spec.columns,range(len(good_panel_spec.columns)))}).add_prefix('radiance1-')\n",
    "good_grounds_spec = good_grounds_spec.rename(columns={x:y for x,y in zip(good_grounds_spec.columns,range(len(good_grounds_spec.columns)))}).add_prefix('radiance1-')\n"
   ]
  },
  {
   "cell_type": "markdown",
   "metadata": {},
   "source": [
    "### Create dataframe with Reflectances"
   ]
  },
  {
   "cell_type": "code",
   "execution_count": null,
   "metadata": {
    "scrolled": false
   },
   "outputs": [],
   "source": [
    "all_refls = CreateReflectances.create_reflectances(good_panels, good_panel_spec, good_grounds_spec, k_f, field_data)"
   ]
  },
  {
   "cell_type": "code",
   "execution_count": null,
   "metadata": {},
   "outputs": [],
   "source": [
    "all_refls"
   ]
  },
  {
   "cell_type": "code",
   "execution_count": null,
   "metadata": {
    "scrolled": false
   },
   "outputs": [],
   "source": [
    "FIG_Reflectances.FIG_reflectances(good_panels, all_refls, colpac, outdir, field_data, fignum)\n",
    "fignum += 1"
   ]
  },
  {
   "cell_type": "code",
   "execution_count": null,
   "metadata": {},
   "outputs": [],
   "source": [
    "flameavg = all_refls.mean(axis=1)"
   ]
  },
  {
   "cell_type": "code",
   "execution_count": null,
   "metadata": {},
   "outputs": [],
   "source": [
    "asdavg = pd.read_pickle('04MAY20.pick')"
   ]
  },
  {
   "cell_type": "code",
   "execution_count": null,
   "metadata": {},
   "outputs": [],
   "source": [
    "plt.plot(flameavg)\n",
    "plt.plot(asdavg)\n",
    "plt.ylim(0,0.6)\n",
    "plt.xlim(340,915)\n",
    "plt.xlabel('Wavelength (nm)')\n",
    "plt.ylabel('Reflectance')\n",
    "plt.legend(['Drone average spectrum', 'ASD average spectrum'])\n",
    "plt.savefig('comp.png')"
   ]
  },
  {
   "cell_type": "code",
   "execution_count": null,
   "metadata": {},
   "outputs": [],
   "source": [
    "(flameavg/asdavg).plot(xlim=(350,910), ylim=(0.5,1))"
   ]
  },
  {
   "cell_type": "code",
   "execution_count": null,
   "metadata": {},
   "outputs": [],
   "source": [
    "plt.scatter(all_panels[all_panels.Wavelength==450].date_saved, all_panels[all_panels.Wavelength==450].radiance)\n",
    "plt.xlim(datetime(2020,5,4,0,15,35), datetime(2020,5,4,0,16,10))\n",
    "plt.ylim(57,58.5)"
   ]
  },
  {
   "cell_type": "code",
   "execution_count": null,
   "metadata": {},
   "outputs": [],
   "source": [
    "all_panels[np.logical_and(all_panels.Wavelength==450, all_panels.date_saved > datetime(2020,5,4,0,15,35))].radiance"
   ]
  },
  {
   "cell_type": "code",
   "execution_count": null,
   "metadata": {},
   "outputs": [],
   "source": [
    "\n",
    "all_panels.loc[531540]"
   ]
  },
  {
   "cell_type": "markdown",
   "metadata": {},
   "source": [
    "### Apply weighted band responses to all reflectances"
   ]
  },
  {
   "cell_type": "code",
   "execution_count": null,
   "metadata": {
    "scrolled": true
   },
   "outputs": [],
   "source": [
    "ls_result_df, s2_result_df, ls_band, s2_band = ApplyWeights.apply_weights(f_name, all_refls, sat_resp, field_data)"
   ]
  },
  {
   "cell_type": "markdown",
   "metadata": {},
   "source": [
    "### Reformat band reflectances and apply to dataframe \"ground_bands\""
   ]
  },
  {
   "cell_type": "code",
   "execution_count": null,
   "metadata": {},
   "outputs": [],
   "source": [
    "ls_ground_bands = ReformatDF.reformat_df(good_grounds, ls_result_df)\n",
    "s2_ground_bands = ReformatDF.reformat_df(good_grounds, s2_result_df)"
   ]
  },
  {
   "cell_type": "markdown",
   "metadata": {},
   "source": [
    "# Figure \n",
    "\n",
    "### Plot band reflectances"
   ]
  },
  {
   "cell_type": "code",
   "execution_count": null,
   "metadata": {
    "scrolled": false
   },
   "outputs": [],
   "source": [
    "FIG_BandReflectances.FIG_band_reflectances(ls_ground_bands, ls_result_df, ls_band, s2_ground_bands, s2_result_df, s2_band, colpac, output, field_data, fignum)\n",
    "\n",
    "fignum += 1"
   ]
  },
  {
   "cell_type": "code",
   "execution_count": null,
   "metadata": {},
   "outputs": [],
   "source": [
    "FIG_ReflectancesBand.FIG_reflectances_band(ls_ground_bands, ls_result_df, ls_band, s2_ground_bands, s2_result_df, s2_band, good_panels, all_refls, colpac, output, field_data, fignum)\n",
    "\n",
    "fignum += 1"
   ]
  },
  {
   "cell_type": "markdown",
   "metadata": {},
   "source": [
    "# Figure\n",
    "\n",
    "### Histogram of all good spectra, plotted band-by-band\n",
    "\n",
    "This can be used to identify outlying ground spectra that can be added to bad_grounds in the second cell."
   ]
  },
  {
   "cell_type": "code",
   "execution_count": null,
   "metadata": {
    "scrolled": false
   },
   "outputs": [],
   "source": [
    "FIG_SpecHistogram.FIG_spec_histogram(ls_ground_bands, s2_ground_bands, output, field_data, fignum)\n",
    "fignum += 1"
   ]
  },
  {
   "cell_type": "markdown",
   "metadata": {},
   "source": [
    "### Outlying ground spectra\n",
    "\n",
    "Display the spectra with maximum and minimum values. These can be compared to the histograms above<BR>\n",
    "    to identify any outlying spectra that need to be identified as bad ground spectra."
   ]
  },
  {
   "cell_type": "code",
   "execution_count": null,
   "metadata": {},
   "outputs": [],
   "source": [
    "OutlyingSpec.outlying_spec(ls_ground_bands, s2_ground_bands, field_data)"
   ]
  },
  {
   "cell_type": "markdown",
   "metadata": {},
   "source": [
    "### Determine Solar angle\n",
    "\n",
    "Based on the spectrum Latitude, Longitude and time stamp, calculate the angle of<BR>\n",
    "the Sun, with respect to the zenith. Append this number to the \"ground_bands\" dataframe."
   ]
  },
  {
   "cell_type": "code",
   "execution_count": null,
   "metadata": {
    "scrolled": true
   },
   "outputs": [],
   "source": [
    "from SRC.SolarAngle import solang\n",
    "ls_ground_bands['Solar_angle'] = ls_ground_bands.apply(solang, axis=1)\n",
    "s2_ground_bands['Solar_angle'] = s2_ground_bands.apply(solang, axis=1)"
   ]
  },
  {
   "cell_type": "markdown",
   "metadata": {},
   "source": [
    "### BRDF Calculation\n",
    "\n",
    "The following script is adapted from FORTRAN code that will calculate the adjusted ASD measurement to 45$^\\circ$. This is derived from \"MODIS BRDF / Albedo Product: Algorithm Theoretical basis Docuement Version 5.0\" by Strahler et al. (1999).\n",
    "\n",
    "What follows is a key to the variables used in this code, compared to the variables and equations in the document:\n",
    "\n",
    "hb and br = h/b and b/r . . . . . . . . . . . . . . . crown shape parameters, respectively.<BR>\n",
    "RL_brdf = R($\\theta, \\vartheta, \\phi, \\Lambda$). . . . . . . . . . . . . . (37)<BR>\n",
    "solar = $\\theta$ . . . . . . . . . . . . . . . . . . . . . . . . . . solar zenith angle<BR>\n",
    "view = $\\xi$ . . . . . . . . . . . . . . . . . . . . . . . . . . .view zenith angle<BR>\n",
    "ra = $\\phi$ . . . . . . . . . . . . . . . . . . . . . . . . . . . . view-sun relative azimuth angle<BR>\n",
    "cosxi = cos $\\xi^\\prime$ . . . . . . . . . . . . . . . . . . . . . . (43)<BR>\n",
    "rs_thick = K$_{vol}$ = RossThick kernel . . . . . . (38)<BR>\n",
    "d_li2 = D$^2$ . . . . . . . . . . . . . . . . . . . . . . . . . (42)<BR>\n",
    "x_li = tan$\\theta^\\prime$ tan$\\vartheta^\\prime$ sin$\\phi$ . . . . . . . . . . . . . . .(41) (part of)<BR>\n",
    "cosl = cos $t$ . . . . . . . . . . . . . . . . . . . . . . . . (41)<BR>\n",
    "l_li = $t$ . . . . . . . . . . . . . . . . . . . . . . . . . . . . .constrained such that $-1 \\leq t \\leq 1$<BR>\n",
    "o_li = O($\\theta, \\vartheta, \\phi$) . . . . . . . . . . . . . . . . . . . .(40)<BR>\n",
    "li_sparse = K$_{geo}$ . . . . . . . . . . . . . . . . . . . . (39)<BR><BR><BR>\n",
    "\n",
    "Equations used for the Ross-Li BRDF model:\n",
    "\n",
    "R($\\theta, \\vartheta, \\phi, \\Lambda$) = $f_{iso}(\\Lambda) + f_{vol}(\\Lambda)\\,K_{vol}(\\theta, \\vartheta, \\phi) + f_{geo}(\\Lambda)\\,K_{geo}(\\theta, \\vartheta, \\phi)$ . . . . . . . . (37)\n",
    "\n",
    "$K_{vol} = k_{RT} = \\frac{(\\pi/2 - \\xi)\\rm{cos}\\,\\xi + \\rm{sin}\\,\\xi}{\\rm{cos}\\,\\theta + \\rm{cos}\\,\\vartheta} - \\frac{\\pi}{4}$ . . . . . . . . . . . . . . . . . . . . . . . . . . . . . . . . . . . . . . (38)\n",
    "    \n",
    "$K_{geo} = k_{LSR} = O(\\theta, \\vartheta, \\phi) - {\\rm sec}\\,\\theta^\\prime - {\\rm sec}\\,\\vartheta^\\prime + \\frac{1}{2} (1 + \\rm{cos}\\,\\xi^\\prime)\\, \\rm{sec}\\,\\theta^\\prime \\rm{sec}\\,\\vartheta^\\prime$ . . . (39)\n",
    "\n",
    "$O = \\frac{1}{\\pi}(t - \\rm{sin}\\,t\\,\\,\\rm{cos}\\,t)(\\rm{sec}\\,\\theta^\\prime + \\rm{sec}\\,\\vartheta^\\prime)$ . . . . . . . . . . . . . . . . . . . . . . . . . . . . . . . . . . (40)\n",
    "\n",
    "$\\rm{cos}\\,t = \\frac{h}{b}\\frac{\\sqrt{D^2 + (\\rm{tan}\\,\\theta^\\prime\\,\\,\\rm{tan}\\,\\vartheta^\\prime\\,\\,\\rm{sin}\\,\\phi)^2}}{\\rm{sec}\\,\\theta^\\prime + \\rm{sec}\\,\\vartheta^\\prime}$ . . . . . . . . . . . . . . . . . . . . . . . . . . . . . . . . . . . . . . . . (41)\n",
    "\n",
    "$D = \\sqrt{\\rm{tan}^2\\,\\theta^\\prime + \\rm{tan}^2\\,\\vartheta^\\prime - 2\\,\\rm{tan}\\,\\theta^\\prime\\,\\rm{tan}\\,\\vartheta^\\prime\\,\\rm{cos}\\,\\phi}$ . . . . . . . . . . . . . . . . . . . . . . . . . . (42)\n",
    "\n",
    "$\\rm{cos}\\,\\xi^\\prime = \\rm{cos}\\,\\theta^\\prime\\,\\rm{cos}\\,\\vartheta^\\prime + \\rm{sin}\\,\\theta^\\prime\\,\\rm{sin}\\,\\vartheta^\\prime\\,\\rm{cos}\\,\\phi$ . . . . . . . . . . . . . . . . . . . . . . . . . . . . . . .(43)\n",
    "\n",
    "$\\theta^\\prime = \\rm{tan}^{-1}(\\frac{b}{r}\\rm{tan}\\,\\theta)\\,\\vartheta^\\prime = \\rm{tan}^{-1}(\\frac{b}{r}\\rm{tan}\\,\\vartheta)$ . . . . . . . . . . . . . . . . . . . . . . . . . . . . . . . . . .(44)"
   ]
  },
  {
   "cell_type": "code",
   "execution_count": null,
   "metadata": {
    "scrolled": false
   },
   "outputs": [],
   "source": [
    "ls_ground_brdf, s2_ground_brdf, hb, br = BRDF.ReadAndCalc(brdf_data, ls_ground_bands, s2_ground_bands, field_data)"
   ]
  },
  {
   "cell_type": "markdown",
   "metadata": {},
   "source": [
    "### Choose bands for Landsat 8 and Sentinel satellite data"
   ]
  },
  {
   "cell_type": "code",
   "execution_count": null,
   "metadata": {},
   "outputs": [],
   "source": [
    "from SRC.ApplyWeights import get_spectrum_curve\n",
    "\n",
    "band_nn = get_spectrum_curve(f_name)\n",
    "senti_bands = [1,2,3,4,5,6,7,8,'8a',11,12]\n",
    "ls8_bands = [1,2,3,4,5,6,7]\n",
    "\n",
    "if field_data[3] == 'Landsat8':\n",
    "    band_min = [band_nn['band'+str(i)][:, 0].min() for i in ls8_bands]\n",
    "    band_max = [band_nn['band'+str(i)][:, 0].max() for i in ls8_bands]\n",
    "\n",
    "elif field_data[3] == 'Sentinel2a' or field_data[3] == 'Sentinel2b':\n",
    "    band_min = [band_nn['band'+str(i)][:, 0].min() for i in senti_bands]\n",
    "    band_max = [band_nn['band'+str(i)][:, 0].max() for i in senti_bands]\n",
    "\n",
    "else:\n",
    "    print('Satellite name should be one of Landsat8 or Sentinel. I got', field_data[3])"
   ]
  },
  {
   "cell_type": "markdown",
   "metadata": {},
   "source": [
    "# Figure \n",
    "\n",
    "### Plot satellite band extents against median ground spectrum\n",
    "\n",
    "This plot will show where the satellite bands fall, with respect to the spectrum<BR>\n",
    "and in particular, with respect to the atmospheric absorbtion features."
   ]
  },
  {
   "cell_type": "code",
   "execution_count": null,
   "metadata": {},
   "outputs": [],
   "source": [
    "FIG_BandExtents.FIG_band_extents(all_refls, band_min, band_max, output, field_data, fignum)\n",
    "fignum += 1"
   ]
  },
  {
   "cell_type": "markdown",
   "metadata": {},
   "source": [
    "### Query Satellite data\n",
    "\n",
    "Retrieve xarrays for satellite data, based on which satellite, query area and time.<BR>\n",
    "sat_array will contain all band data<BR>\n",
    "sat_bigarray will be a larger version of sat_array, which can be used for context plotting.<BR>\n",
    "ls8_usgs_array will contain the USGS Level 2 product of Landsat 8 data.<BR>\n",
    "ls8_usgs_bigarray will be the larger version of ls8_usgs_array.<P>\n",
    "    \n",
    "BRDF data is sourced/applied from satellite yaml file to match field and satellite processing for Landsat 8.<BR>\n",
    "ground_WSbrdf is the brdf calculated for the whole of scene (based on satellite yaml file)."
   ]
  },
  {
   "cell_type": "code",
   "execution_count": null,
   "metadata": {
    "scrolled": true
   },
   "outputs": [],
   "source": [
    "ls_sat_array, ls_sat_bigarray, s2_sat_array, s2_sat_bigarray, ls8_usgs_array, ls8_usgs_bigarray, solar_zenith,\\\n",
    "ls_query, s2_query, ls_dc, s2_dc, ls_ground_WSbrdf = QueryAndCreate.query_and_create(ls_ground_brdf, s2_ground_brdf, ls_ground_bands, s2_ground_bands, field_data, Corners, RockWalk, StartCorner)"
   ]
  },
  {
   "cell_type": "code",
   "execution_count": null,
   "metadata": {},
   "outputs": [],
   "source": [
    "md = alldata.copy()"
   ]
  },
  {
   "cell_type": "code",
   "execution_count": null,
   "metadata": {},
   "outputs": [],
   "source": [
    "md.radiance = md.radiance/10000"
   ]
  },
  {
   "cell_type": "code",
   "execution_count": null,
   "metadata": {},
   "outputs": [],
   "source": [
    "md[md.index ==349.176].plot('date_saved', 'radiance', xlim=(datetime(2020,4,24,0,18), datetime(2020,4,24,0,24)))"
   ]
  },
  {
   "cell_type": "code",
   "execution_count": null,
   "metadata": {},
   "outputs": [],
   "source": [
    "TeleDat.plot('datetime', 'gimbal_pitch')"
   ]
  },
  {
   "cell_type": "code",
   "execution_count": null,
   "metadata": {},
   "outputs": [],
   "source": []
  }
 ],
 "metadata": {
  "kernelspec": {
   "display_name": "Python 3",
   "language": "python",
   "name": "python3"
  },
  "language_info": {
   "codemirror_mode": {
    "name": "ipython",
    "version": 3
   },
   "file_extension": ".py",
   "mimetype": "text/x-python",
   "name": "python",
   "nbconvert_exporter": "python",
   "pygments_lexer": "ipython3",
   "version": "3.6.7"
  }
 },
 "nbformat": 4,
 "nbformat_minor": 2
}
