{
 "cells": [
  {
   "cell_type": "code",
   "execution_count": 1,
   "metadata": {},
   "outputs": [],
   "source": [
    "from datetime import datetime, timedelta\n",
    "import pandas as pd\n",
    "import numpy as np \n",
    "import glob, os, subprocess\n",
    "from dateutil import parser\n",
    "\n",
    "import matplotlib.pyplot as plt\n",
    "import matplotlib\n",
    "import datacube\n",
    "import sys, shutil\n",
    "sys.path.append(\"..\")\n",
    "\n",
    "from SRC import *\n",
    "\n",
    "%matplotlib inline\n",
    "matplotlib.rcParams.update({'font.size': 11})\n",
    "matplotlib.rcParams['savefig.dpi'] = 300\n",
    "\n",
    "\n",
    "indir = '../MULLION/20MAR20/FLAME/SPECTRA/AVG/'\n",
    "outdir = '../PNGS/MULLION/20MAR20/'\n",
    "calfile = '../CALIBRATION/RadCalCoeff_GT08_.csv'\n",
    "#TelemetryFile = '/g/data/u46/users/aw3463/GuyByrne/calval/FLAME/MULLION/20MAR20/TELEMETRY/Feb-20th-2020-12-46PM-Flight-Airdata.csv'\n",
    "\n",
    "field_data = ['MUL', '20MAR20', '', 'Sentinel2a', 'GA 10inch Panel 99aa03-0319-1952', 'Radiance', '', '']\n",
    "\n",
    "fignum=1\n",
    "\n",
    "firstGoodLine = 1\n",
    "firstGoodPanelSpec = 0\n",
    "firstGoodGroundSpec = 132\n",
    "\n",
    "brdf_data = np.array([['', 'brdf0', 'brdf1', 'brdf2'],\n",
    "                          ['band1', 0.06538, 0.01958666666666667, 0.009953333333333333],\n",
    "                          ['band11', 0.39993333333333336, 0.11646333333333335, 0.05016],\n",
    "                          ['band12', 0.2479, 0.061623333333333336, 0.03579333333333334],\n",
    "                          ['band2', 0.06538, 0.01958666666666667, 0.009953333333333333],\n",
    "                          ['band3', 0.11231, 0.04193666666666667, 0.01812666666666667],\n",
    "                          ['band4', 0.12977000000000002, 0.04653666666666667, 0.02082666666666667],\n",
    "                          ['band5', 0.12977000000000002, 0.04653666666666667, 0.02082666666666667],\n",
    "                          ['band6', 0.12977000000000002, 0.04653666666666667, 0.02082666666666667],\n",
    "                          ['band7', 0.32748000000000005, 0.16837333333333335, 0.03345],\n",
    "                          ['band8', 0.32748000000000005, 0.16837333333333335, 0.03345],\n",
    "                          ['band8a', 0.32748000000000005, 0.16837333333333335, 0.03345],\n",
    "                         ])\n",
    "\n",
    "plot_scale = [0.0, 1.0, 0.0, 1.0]\n",
    "Corners = [0, 0, 0, 0, 0, 0, 0, 0]\n",
    "RockWalk = True\n",
    "StartCorner = 'SE'\n",
    "panel_dir =  '../../../CalVal_Phase1/RAW_DATA/Panels/'\n",
    "in_panel = 'GA_10inch.txt'\n",
    "\n",
    "sat_resp = dict({'Landsat5': '../../../CalVal_Phase1/SENSOR_BANDS/landsat5_vsir.flt', \n",
    "            'Landsat7': '../../../CalVal_Phase1/SENSOR_BANDS/landsat7_vsir.flt', \n",
    "            'Landsat8': '../../../CalVal_Phase1/SENSOR_BANDS/landsat8_vsir.flt',\n",
    "            'Sentinel2a': '../../../CalVal_Phase1/SENSOR_BANDS/Sent2a.flt',\n",
    "            'Sentinel2b': '../../../CalVal_Phase1/SENSOR_BANDS/Sent2b.flt'})\n",
    "\n",
    "f_name = sat_resp[field_data[3]]\n",
    "\n",
    "#\n",
    "# Colours used for plotting multi-coloured Lines\n",
    "#\n",
    "colpac=['#770000', '#FF0000', '#FF7700', '#FFFF00', '#77FF00', '#00FF00', \n",
    "        '#00FF77', '#00FFFF', '#0077FF', '#0000FF', '#000077', '#FF00FF', '#777777', '#770077', '#777700']\n",
    "\n"
   ]
  },
  {
   "cell_type": "code",
   "execution_count": 2,
   "metadata": {},
   "outputs": [],
   "source": [
    "#TeleDat = pd.read_csv(TelemetryFile)"
   ]
  },
  {
   "cell_type": "markdown",
   "metadata": {},
   "source": [
    "TeleDat.drop(['height_above_ground_at_drone_location(meters)', \n",
    "              'ground_elevation_at_drone_location(meters)',\n",
    "              'satellites',\n",
    "              'gpslevel',\n",
    "              'voltage(v)',\n",
    "              'max_altitude(meters)',\n",
    "              'max_ascent(meters)',\n",
    "              'max_speed(m/s)',\n",
    "              'max_distance(meters)',\n",
    "              ' xSpeed(m/s)',\n",
    "              ' ySpeed(m/s)',\n",
    "              ' zSpeed(m/s)',\n",
    "              'isPhoto',\n",
    "              'isVideo',\n",
    "              'rc_elevator',\n",
    "              'rc_aileron',\n",
    "              'rc_throttle',\n",
    "              'rc_rudder',\n",
    "              'battery_percent',\n",
    "              'voltageCell1',\n",
    "              'voltageCell2',\n",
    "              'voltageCell3',\n",
    "              'voltageCell4',\n",
    "              'voltageCell5',\n",
    "              'voltageCell6',\n",
    "              'current(A)',\n",
    "              'battery_temperature(c)',\n",
    "              'altitude(meters)',\n",
    "              'ascent(meters)',\n",
    "              'flycStateRaw',\n",
    "              'flycState'], axis=1, inplace=True)"
   ]
  },
  {
   "cell_type": "markdown",
   "metadata": {},
   "source": [
    "TeleDat.rename(columns={'time(millisecond)': 'time_ms',\n",
    "                        'datetime(utc)': 'datetime',\n",
    "                        'height_above_takeoff(meters)': 'height_local',\n",
    "                        'altitude_above_seaLevel(meters)': 'height_sea',\n",
    "                        'distance(meters)': 'distance(m)',\n",
    "                        ' compass_heading(degrees)': 'compass_heading',\n",
    "                        ' pitch(degrees)': 'pitch',\n",
    "                        ' roll(degrees)': 'roll',\n",
    "                        'gimbal_heading(degrees)': 'gimbal_heading',\n",
    "                        'gimbal_pitch(degrees)': 'gimbal_pitch',\n",
    "                        'message': 'comment'\n",
    "                       }, inplace=True\n",
    "              )"
   ]
  },
  {
   "cell_type": "markdown",
   "metadata": {},
   "source": [
    "TeleDat['date_saved'] = [parser.parse(TeleDat.datetime[i]) - timedelta(minutes=21) + timedelta(milliseconds=int(TeleDat.time_ms[i])) for i in range(len(TeleDat.datetime))]"
   ]
  },
  {
   "cell_type": "markdown",
   "metadata": {},
   "source": [
    "TeleDat = TeleDat[TeleDat.latitude!=0]"
   ]
  },
  {
   "cell_type": "markdown",
   "metadata": {},
   "source": [
    "TeleDat = TeleDat[TeleDat.date_saved.dt.year >= 2020]"
   ]
  },
  {
   "cell_type": "markdown",
   "metadata": {},
   "source": [
    "TeleDat.date_saved.unique()"
   ]
  },
  {
   "cell_type": "markdown",
   "metadata": {},
   "source": [
    "alldata['latitude'] = [TeleDat.latitude[int((i - TeleDat.date_saved).abs().argsort()[:1].values)] for i in alldata.date_saved]"
   ]
  },
  {
   "cell_type": "code",
   "execution_count": 3,
   "metadata": {},
   "outputs": [],
   "source": [
    "alldata = LoadData.load_from_dir(indir, calfile)"
   ]
  },
  {
   "cell_type": "code",
   "execution_count": 4,
   "metadata": {},
   "outputs": [],
   "source": [
    "#alldata[alldata.index == 349.176].plot('date_saved', 'radiance')"
   ]
  },
  {
   "cell_type": "code",
   "execution_count": 5,
   "metadata": {},
   "outputs": [],
   "source": [
    "alldata['radiance'] = (alldata.DN-476)*alldata.CalData/alldata.IntTime\n",
    "#alldata['radiance'] = alldata['radiance']/10000\n",
    "alldata['Line'] = 1\n",
    "alldata['Latitude'] = -35.123277\n",
    "alldata['Longitude'] = 148.862692"
   ]
  },
  {
   "cell_type": "code",
   "execution_count": null,
   "metadata": {
    "scrolled": true
   },
   "outputs": [
    {
     "name": "stdout",
     "output_type": "stream",
     "text": [
      "Completed  275 / 2683  spectra\r"
     ]
    }
   ],
   "source": [
    "#\n",
    "# Bin spectra into integer wavelength bins, assuming that the input data\n",
    "# has 0.3nm channels.\n",
    "#\n",
    "def wavelength_bin(alldata):\n",
    "    # Create avgdata DataFrame, based on alldata input DataFrame\n",
    "    # Reset index so that Wavelength is not the index.\n",
    "    avgdata = alldata.copy()\n",
    "    avgdata.reset_index(inplace=True)\n",
    "    \n",
    "    ### Make a mean of three rows for each of DN, Calibration, Radiance\n",
    "    ###avgdata['DNmean'] = avgdata.DN.rolling(3, center=True).mean()\n",
    "    ###avgdata['Calmean'] = avgdata.CalData.rolling(3, center=True).mean()\n",
    "    ###avgdata['Radmean'] = avgdata.radiance.rolling(3, center=True).mean()\n",
    "    \n",
    "    # Remove first and last wavelengths which have NaNs in them.\n",
    "    avgdata = avgdata[avgdata.Wavelength != 349.176]\n",
    "    avgdata = avgdata[avgdata.Wavelength != 910.925]\n",
    "    \n",
    "    # Create empty output DataFrame\n",
    "    outputDF = pd.DataFrame()\n",
    "    ttmm = pd.DataFrame()\n",
    "    \n",
    "    # Loop through each spectrum in the dataframe\n",
    "    for j in avgdata.SpecNum.unique():\n",
    "        tempdata = avgdata[avgdata.SpecNum==j].groupby(pd.cut(avgdata[avgdata.SpecNum==j]['Wavelength'], np.arange(349.5,910.5,1.0))).mean()\n",
    "        tempdata['date_saved'] = avgdata[avgdata.SpecNum==j].date_saved.values[0]\n",
    "        tempdata['filename'] = avgdata[avgdata.SpecNum==j].filename.values[0]\n",
    "        \n",
    "        tempdata.index.rename('plop', inplace=True)\n",
    "        tempdata.reset_index(inplace=True)\n",
    "        tempdata.drop(columns='plop', inplace=True)\n",
    "        tempdata.Wavelength = tempdata.Wavelength.round(0).astype(int)        \n",
    "        \n",
    "        # When finished making an entire spectrum, add it to the output DataFrame\n",
    "        # and print how many have been done.\n",
    "        if outputDF.empty:\n",
    "            outputDF = tempdata.copy()\n",
    "        \n",
    "        else:\n",
    "            if j % 100 == 0:\n",
    "                ttmm = pd.concat([ttmm, tempdata])\n",
    "                outputDF = pd.concat([outputDF, ttmm])\n",
    "                ttmm = pd.DataFrame()\n",
    "            \n",
    "            elif j == len(avgdata.SpecNum.unique())-1:\n",
    "                ttmm = pd.concat([ttmm, tempdata])\n",
    "                outputDF = pd.concat([outputDF, ttmm])\n",
    "            \n",
    "            elif ttmm.empty:\n",
    "                ttmm = tempdata.copy()\n",
    "            \n",
    "            else:\n",
    "                ttmm = pd.concat([ttmm, tempdata])\n",
    "                \n",
    "            \n",
    "        print('Completed ', j+1, '/', len(avgdata.SpecNum.unique()), ' spectra', end='\\r', flush=True)\n",
    "\n",
    "    # output final DataFrame\n",
    "    return outputDF\n",
    "\n",
    "avgdata = wavelength_bin(alldata)"
   ]
  },
  {
   "cell_type": "code",
   "execution_count": null,
   "metadata": {},
   "outputs": [],
   "source": [
    "cutavgdata = avgdata[np.logical_and(avgdata.date_saved > datetime(2020,3,20,0,23,30), avgdata.date_saved < datetime(2020,3,20,0,58,45))]"
   ]
  },
  {
   "cell_type": "code",
   "execution_count": null,
   "metadata": {},
   "outputs": [],
   "source": [
    "panel_names, all_panels, all_grounds = ExtractPanelsGrounds.extract_panels_grounds(cutavgdata)"
   ]
  },
  {
   "cell_type": "code",
   "execution_count": null,
   "metadata": {},
   "outputs": [],
   "source": [
    "all_panel_spec = MakeSpecDF.make_spec_df(all_panels)"
   ]
  },
  {
   "cell_type": "code",
   "execution_count": null,
   "metadata": {},
   "outputs": [],
   "source": [
    "FIG_PanelRadiances.FIG_panel_radiances(all_panel_spec, outdir, field_data, fignum)\n",
    "\n",
    "fignum += 1"
   ]
  },
  {
   "cell_type": "code",
   "execution_count": null,
   "metadata": {},
   "outputs": [],
   "source": [
    "all_grounds_spec = MakeSpecDF.make_spec_df(all_grounds)"
   ]
  },
  {
   "cell_type": "code",
   "execution_count": null,
   "metadata": {},
   "outputs": [],
   "source": [
    "FIG_GroundSpectra.FIG_ground_spectra(all_grounds_spec, outdir, field_data, fignum)\n",
    "fignum +=1"
   ]
  },
  {
   "cell_type": "code",
   "execution_count": null,
   "metadata": {},
   "outputs": [],
   "source": [
    "cutavgdata[abs(cutavgdata.Wavelength-450)<0.185].plot('date_saved', 'radiance')"
   ]
  },
  {
   "cell_type": "code",
   "execution_count": null,
   "metadata": {},
   "outputs": [],
   "source": [
    "allASDdata = pd.read_pickle('../MULLION/20MAR20/ASD/alldat.pick')"
   ]
  },
  {
   "cell_type": "code",
   "execution_count": null,
   "metadata": {
    "scrolled": true
   },
   "outputs": [],
   "source": [
    "fig, axes = plt.subplots(nrows=1, ncols=1, figsize=(12.5, 5.5))\n",
    "plt.tight_layout(pad=5.5, w_pad=1.0, h_pad=1.0)\n",
    "avgdata[abs(avgdata.Wavelength-550)<0.185].plot('date_saved', 'radiance', ax=axes)\n",
    "allASDdata[allASDdata.Wavelength==550].plot('date_saved', 'radiance', ax=axes)\n",
    "axes.set_ylim(0.0,0.53)\n",
    "axes.set_xlim(datetime(2020,3,20,0,24), datetime(2020,3,20,0,58,45))\n",
    "plt.legend(['Flame', 'ASD'])\n",
    "plt.xlabel('UT Time (HH:MM)')\n",
    "plt.ylabel('Radiance (W m$^{-2}$ nm$^{-1}$ sr$^{-1}$)')\n",
    "plt.title('Mullion 20MAR20 joint ASD/Flame measurement using GT08 calibration')\n",
    "axes.text(datetime(2020,3,20,0,25), 0.05, 'Ground')\n",
    "axes.text(datetime(2020,3,20,0,28), 0.5, 'Panel')\n",
    "axes.text(datetime(2020,3,20,0,31), 0.06, 'Ground')\n",
    "axes.text(datetime(2020,3,20,0,35), 0.5, 'Panel')\n",
    "axes.text(datetime(2020,3,20,0,38), 0.06, 'Ground')\n",
    "axes.text(datetime(2020,3,20,0,41), 0.5, 'Panel')\n",
    "axes.text(datetime(2020,3,20,0,43), 0.05, 'Ground')\n",
    "axes.text(datetime(2020,3,20,0,46,30), 0.5, 'Panel')\n",
    "axes.text(datetime(2020,3,20,0,49), 0.05, 'Ground')\n",
    "axes.text(datetime(2020,3,20,0,52,30), 0.51, 'Panel')\n",
    "axes.text(datetime(2020,3,20,0,55), 0.05, 'Ground')\n",
    "\n",
    "axes.axvspan(datetime(2020,3,20,0,25,15), datetime(2020,3,20,0,26), alpha=0.25, color='black', ec=None)\n",
    "axes.axvspan(datetime(2020,3,20,0,31,38), datetime(2020,3,20,0,33,6), alpha=0.25, color='black', ec=None)\n",
    "axes.axvspan(datetime(2020,3,20,0,38,29), datetime(2020,3,20,0,39,4), alpha=0.25, color='black', ec=None)\n",
    "axes.axvspan(datetime(2020,3,20,0,44,9), datetime(2020,3,20,0,44,51), alpha=0.25, color='black', ec=None)\n",
    "axes.axvspan(datetime(2020,3,20,0,49,43), datetime(2020,3,20,0,50,40), alpha=0.25, color='black', ec=None)\n",
    "axes.axvspan(datetime(2020,3,20,0,55,47), datetime(2020,3,20,0,57,19), alpha=0.25, color='black', ec=None)\n",
    "\n",
    "plt.savefig('plonk1.png')"
   ]
  },
  {
   "cell_type": "code",
   "execution_count": null,
   "metadata": {},
   "outputs": [],
   "source": [
    "fig, axes = plt.subplots(nrows=1, ncols=1, figsize=(12.5, 5.5))\n",
    "plt.tight_layout(pad=5.5, w_pad=1.0, h_pad=1.0)\n",
    "avgdata[abs(avgdata.Wavelength-550)<0.185].plot('date_saved', 'radiance', ax=axes)\n",
    "allASDdata[allASDdata.Wavelength==550].plot('date_saved', 'radiance', ax=axes)\n",
    "axes.set_ylim(0.02,0.06)\n",
    "axes.set_xlim(datetime(2020,3,20,0,24), datetime(2020,3,20,0,58,45))\n",
    "plt.legend(['Flame', 'ASD'])\n",
    "plt.xlabel('UT Time (HH:MM)')\n",
    "plt.ylabel('Radiance (W m$^{-2}$ nm$^{-1}$ sr$^{-1}$)')\n",
    "plt.title('Mullion 20MAR20 joint ASD/Flame measurement using GT08 calibration')\n",
    "axes.text(datetime(2020,3,20,0,25), 0.043, 'Ground')\n",
    "axes.text(datetime(2020,3,20,0,28), 0.058, 'Panel')\n",
    "axes.text(datetime(2020,3,20,0,32,30), 0.044, 'Ground')\n",
    "axes.text(datetime(2020,3,20,0,35), 0.058, 'Panel')\n",
    "axes.text(datetime(2020,3,20,0,38), 0.054, 'Ground')\n",
    "axes.text(datetime(2020,3,20,0,41), 0.058, 'Panel')\n",
    "axes.text(datetime(2020,3,20,0,43,30), 0.047, 'Ground')\n",
    "axes.text(datetime(2020,3,20,0,46,30), 0.058, 'Panel')\n",
    "axes.text(datetime(2020,3,20,0,49), 0.045, 'Ground')\n",
    "axes.text(datetime(2020,3,20,0,52,30), 0.058, 'Panel')\n",
    "axes.text(datetime(2020,3,20,0,55,30), 0.045, 'Ground')\n",
    "\n",
    "axes.axvspan(datetime(2020,3,20,0,25,15), datetime(2020,3,20,0,26), alpha=0.25, color='black', ec=None)\n",
    "axes.axvspan(datetime(2020,3,20,0,31,38), datetime(2020,3,20,0,33,6), alpha=0.25, color='black', ec=None)\n",
    "axes.axvspan(datetime(2020,3,20,0,38,29), datetime(2020,3,20,0,39,4), alpha=0.25, color='black', ec=None)\n",
    "axes.axvspan(datetime(2020,3,20,0,44,9), datetime(2020,3,20,0,44,51), alpha=0.25, color='black', ec=None)\n",
    "axes.axvspan(datetime(2020,3,20,0,49,43), datetime(2020,3,20,0,50,40), alpha=0.25, color='black', ec=None)\n",
    "axes.axvspan(datetime(2020,3,20,0,55,47), datetime(2020,3,20,0,57,19), alpha=0.25, color='black', ec=None)\n",
    "\n",
    "plt.savefig('plonk2.png')"
   ]
  },
  {
   "cell_type": "code",
   "execution_count": null,
   "metadata": {},
   "outputs": [],
   "source": [
    "allASDdata[allASDdata.Wavelength==450]"
   ]
  },
  {
   "cell_type": "code",
   "execution_count": null,
   "metadata": {},
   "outputs": [],
   "source": [
    "avgdata.to_pickle('avgdata.pick')"
   ]
  },
  {
   "cell_type": "code",
   "execution_count": null,
   "metadata": {
    "scrolled": true
   },
   "outputs": [],
   "source": [
    "all_panels, all_grounds = SolarAngle.solar_angle(all_panels, all_grounds, field_data)"
   ]
  },
  {
   "cell_type": "code",
   "execution_count": null,
   "metadata": {},
   "outputs": [],
   "source": [
    "all_panels = PanelBRF.Panel_BRF(all_panels, field_data)"
   ]
  },
  {
   "cell_type": "code",
   "execution_count": null,
   "metadata": {},
   "outputs": [],
   "source": [
    "good_panels = all_panels.copy()\n",
    "good_grounds = all_grounds.copy()"
   ]
  },
  {
   "cell_type": "code",
   "execution_count": null,
   "metadata": {},
   "outputs": [],
   "source": [
    "gpta, adta = CreateTimeRelativeDF.create_time_relative_dfs(all_panels, all_grounds)"
   ]
  },
  {
   "cell_type": "code",
   "execution_count": null,
   "metadata": {},
   "outputs": [],
   "source": [
    "FIG_AllTimelines.FIG_all_timelines(gpta, adta, outdir, field_data, fignum)\n",
    "fignum += 1"
   ]
  },
  {
   "cell_type": "code",
   "execution_count": null,
   "metadata": {},
   "outputs": [],
   "source": [
    "all_panel_mean = all_panel_spec.mean(axis=1)\n",
    "\n",
    "gpta = FIG_NormalisedPanelsTimeline.normalise_spectra(all_panel_mean, all_panel_spec, gpta, field_data)\n",
    "\n",
    "FIG_NormalisedPanelsTimeline.FIG_normalised_panels_timeline(gpta, outdir, field_data, fignum)\n",
    "\n",
    "fignum += 1"
   ]
  },
  {
   "cell_type": "code",
   "execution_count": null,
   "metadata": {},
   "outputs": [],
   "source": [
    "gpta['Latitude'] = -35.123277\n",
    "gpta['Longitude'] = 148.862692\n",
    "adta['Latitude'] = -35.123277\n",
    "adta['Longitude'] = 148.862692"
   ]
  },
  {
   "cell_type": "code",
   "execution_count": null,
   "metadata": {},
   "outputs": [],
   "source": [
    "slope, intercept, coszenith = FIG_InsolationFit.FIG_insolation_fit(gpta, outdir, field_data, fignum)\n",
    "fignum += 1"
   ]
  },
  {
   "cell_type": "markdown",
   "metadata": {},
   "source": [
    "### Scale good panels to insolation curve\n",
    "\n",
    "Use the fitted insolation curve to determine individual offsets for each panel measurement and then divide<BR>\n",
    "off the differences. This effectively removes any individual variations in the absolute scaling of panel<BR>\n",
    "measurements."
   ]
  },
  {
   "cell_type": "code",
   "execution_count": null,
   "metadata": {},
   "outputs": [],
   "source": [
    "good_panels = ScalePanels.scale_panels(slope, intercept, coszenith, gpta, good_panels, field_data)"
   ]
  },
  {
   "cell_type": "markdown",
   "metadata": {},
   "source": [
    "### Scale ground spectra to insolation curve\n",
    "\n",
    "For each line, calculate the mean panel spectrum and determine the fit at the according mean Solar zenith angle.<BR>\n",
    "Then determine individual fits for all ground data within the line and apply the ratio of the panel mean fit to<BR>\n",
    "ground fit to the good_grounds dataframe."
   ]
  },
  {
   "cell_type": "code",
   "execution_count": null,
   "metadata": {
    "scrolled": true
   },
   "outputs": [],
   "source": [
    "good_grounds = ScaleGrounds.scale_grounds(good_panels, good_grounds, slope, intercept, field_data)"
   ]
  },
  {
   "cell_type": "markdown",
   "metadata": {},
   "source": [
    "### Define the K-factor\n",
    "\n",
    "This reads a standard file with a response curve for the detector, given an ideally white surface.<BR>\n",
    "Then \"k_f\" is defined for the K-factor."
   ]
  },
  {
   "cell_type": "code",
   "execution_count": null,
   "metadata": {},
   "outputs": [],
   "source": [
    "k_f = KFactor.k_factor(panel_dir, in_panel)"
   ]
  },
  {
   "cell_type": "code",
   "execution_count": null,
   "metadata": {},
   "outputs": [],
   "source": [
    "k_f = k_f[k_f.index <910]"
   ]
  },
  {
   "cell_type": "markdown",
   "metadata": {},
   "source": [
    "### Re-Make Spectral Dataframes\n",
    "\n",
    "After re-scaling of both good_panels and good_grounds, recreate the good_panel_spec and<BR>\n",
    "good_grounds_spec dataframes"
   ]
  },
  {
   "cell_type": "code",
   "execution_count": null,
   "metadata": {},
   "outputs": [],
   "source": [
    "good_panel_spec = MakeSpecDF.make_spec_df(good_panels)\n",
    "good_grounds_spec = MakeSpecDF.make_spec_df(good_grounds)"
   ]
  },
  {
   "cell_type": "markdown",
   "metadata": {},
   "source": [
    "### Rename the first spectrum in ALL/GOOD panels to the correct name\n",
    "\n",
    "Rather than just \"radiance\", it will be named something like radiance1-0<BR>\n",
    "for the zeroth spectrum in the first line, for example.    "
   ]
  },
  {
   "cell_type": "code",
   "execution_count": null,
   "metadata": {},
   "outputs": [],
   "source": [
    "SpecRename.spec_rename(good_panel_spec, good_grounds_spec, firstGoodLine, firstGoodPanelSpec, firstGoodGroundSpec, field_data)"
   ]
  },
  {
   "cell_type": "code",
   "execution_count": null,
   "metadata": {},
   "outputs": [],
   "source": [
    "good_panel_spec = good_panel_spec.rename(columns={x:y for x,y in zip(good_panel_spec.columns,range(len(good_panel_spec.columns)))}).add_prefix('radiance1-')\n",
    "good_grounds_spec = good_grounds_spec.rename(columns={x:y for x,y in zip(good_grounds_spec.columns,range(len(good_grounds_spec.columns)))}).add_prefix('radiance1-')\n"
   ]
  },
  {
   "cell_type": "markdown",
   "metadata": {},
   "source": [
    "### Create dataframe with Reflectances"
   ]
  },
  {
   "cell_type": "code",
   "execution_count": null,
   "metadata": {
    "scrolled": false
   },
   "outputs": [],
   "source": [
    "all_refls = CreateReflectances.create_reflectances(good_panels, good_panel_spec, good_grounds_spec, k_f, field_data)"
   ]
  },
  {
   "cell_type": "code",
   "execution_count": null,
   "metadata": {},
   "outputs": [],
   "source": [
    "all_refls.mean(axis=1).plot()"
   ]
  },
  {
   "cell_type": "code",
   "execution_count": null,
   "metadata": {},
   "outputs": [],
   "source": [
    "blac = MakeSpecDF.make_spec_df(avgdata)"
   ]
  },
  {
   "cell_type": "code",
   "execution_count": null,
   "metadata": {},
   "outputs": [],
   "source": [
    "all_grounds_trunc = all_grounds_spec.copy()\n",
    "for i in all_grounds_trunc.columns:\n",
    "    if all_grounds_trunc[i].iloc[0] > 0.025:\n",
    "        all_grounds_trunc.drop(i, axis=1, inplace=True)"
   ]
  },
  {
   "cell_type": "code",
   "execution_count": null,
   "metadata": {
    "scrolled": true
   },
   "outputs": [],
   "source": [
    "all_grounds_trunc.mean(axis=0).plot()"
   ]
  },
  {
   "cell_type": "code",
   "execution_count": null,
   "metadata": {},
   "outputs": [],
   "source": [
    "fig, axes = plt.subplots(nrows=1, ncols=1, figsize=(12.5, 5.5))\n",
    "plt.tight_layout(pad=5.5, w_pad=1.0, h_pad=1.0)\n",
    "plt.scatter(cutavgdata[cutavgdata.Wavelength==350].date_saved, cutavgdata[cutavgdata.Wavelength==350].radiance)\n",
    "#allASDdata[allASDdata.Wavelength==350].plot('date_saved', 'radiance', ax=axes)\n",
    "#axes.set_ylim(0.0,0.005)\n",
    "axes.set_xlim(datetime(2020,3,20,0,23), datetime(2020,3,20,0,59))"
   ]
  },
  {
   "cell_type": "code",
   "execution_count": null,
   "metadata": {},
   "outputs": [],
   "source": [
    "plop = avgdata[np.logical_and(avgdata.date_saved > datetime(2020,3,20,0,27,53), avgdata.date_saved < datetime(2020,3,20,0,29))]"
   ]
  },
  {
   "cell_type": "code",
   "execution_count": null,
   "metadata": {},
   "outputs": [],
   "source": [
    "plopmean = MakeSpecDF.make_spec_df(plop)"
   ]
  },
  {
   "cell_type": "code",
   "execution_count": null,
   "metadata": {},
   "outputs": [],
   "source": [
    "plopmean.mean(axis=1).plot()"
   ]
  },
  {
   "cell_type": "code",
   "execution_count": null,
   "metadata": {},
   "outputs": [],
   "source": [
    "ASDplop = allASDdata[np.logical_and(allASDdata.date_saved > datetime(2020,3,20,0,27,53), allASDdata.date_saved < datetime(2020,3,20,0,29))]"
   ]
  },
  {
   "cell_type": "code",
   "execution_count": null,
   "metadata": {},
   "outputs": [],
   "source": [
    "ASDplop = ASDplop.rename(columns={'Spec_number': 'SpecNum'})"
   ]
  },
  {
   "cell_type": "code",
   "execution_count": null,
   "metadata": {},
   "outputs": [],
   "source": [
    "ASDplopmean = MakeSpecDF.make_spec_df(ASDplop)"
   ]
  },
  {
   "cell_type": "code",
   "execution_count": null,
   "metadata": {},
   "outputs": [],
   "source": [
    "ASDplopmean.mean(axis=1).plot()"
   ]
  },
  {
   "cell_type": "code",
   "execution_count": null,
   "metadata": {},
   "outputs": [],
   "source": [
    "(plopmean.mean(axis=1)/ASDplopmean.mean(axis=1)).plot()"
   ]
  },
  {
   "cell_type": "code",
   "execution_count": null,
   "metadata": {},
   "outputs": [],
   "source": [
    "fig, axes = plt.subplots(nrows=1, ncols=1, figsize=(12.5, 5.5))\n",
    "plt.tight_layout(pad=5.5, w_pad=1.0, h_pad=1.0)\n",
    "plopmean.mean(axis=1).plot(ax=axes)\n",
    "ASDplopmean.mean(axis=1).plot(ax=axes)\n",
    "#axes.set_ylim(0.0,0.05)\n",
    "axes.set_xlim(350,910)\n",
    "plt.legend(['Flame','ASD'])\n",
    "plt.xlabel('Wavelength (nm)')\n",
    "plt.ylabel('Radiance (W m$^{-2}$ nm$^{-1}$ sr$^{-1}$)')\n",
    "plt.title('Mullion 20MAR20 average of all ground spectra using GT08 calibration')\n",
    "\n",
    "plt.savefig('plonk0.png')"
   ]
  },
  {
   "cell_type": "code",
   "execution_count": null,
   "metadata": {},
   "outputs": [],
   "source": [
    "DarkCurrent = pd.read_csv('../CALIBRATION/FLAME_calibration_GA_ORIGINAL/Analysed/Analysed/DC_GT8.csv')"
   ]
  },
  {
   "cell_type": "code",
   "execution_count": null,
   "metadata": {},
   "outputs": [],
   "source": [
    "DarkCurrent.set_index('wl', inplace=True)"
   ]
  }
 ],
 "metadata": {
  "kernelspec": {
   "display_name": "Python 3",
   "language": "python",
   "name": "python3"
  },
  "language_info": {
   "codemirror_mode": {
    "name": "ipython",
    "version": 3
   },
   "file_extension": ".py",
   "mimetype": "text/x-python",
   "name": "python",
   "nbconvert_exporter": "python",
   "pygments_lexer": "ipython3",
   "version": "3.6.10"
  }
 },
 "nbformat": 4,
 "nbformat_minor": 2
}
