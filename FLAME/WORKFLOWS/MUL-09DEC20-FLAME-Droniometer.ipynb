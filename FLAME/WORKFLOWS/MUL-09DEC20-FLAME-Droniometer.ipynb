{
 "cells": [
  {
   "cell_type": "markdown",
   "metadata": {},
   "source": [
    "## FLAME Workflow - Mullion - 09DEC20 PM - Droniometer"
   ]
  },
  {
   "cell_type": "code",
   "execution_count": 1,
   "metadata": {},
   "outputs": [],
   "source": [
    "from datetime import datetime, timedelta\n",
    "import pandas as pd\n",
    "import numpy as np \n",
    "import glob, os, subprocess, time\n",
    "from dateutil import parser\n",
    "from scipy import interpolate\n",
    "\n",
    "\n",
    "import matplotlib.pyplot as plt\n",
    "import matplotlib\n",
    "import datacube\n",
    "import sys, shutil\n",
    "sys.path.append(\"..\")\n",
    "\n",
    "from SRC import *\n",
    "\n",
    "%matplotlib inline\n",
    "matplotlib.rcParams.update({'font.size': 11})\n",
    "matplotlib.rcParams['savefig.dpi'] = 300\n",
    "\n",
    "\n",
    "indir = '../MULLION/09DEC20/RAW_DATA/Flame/droniometer/'\n",
    "outdir = '../PNGS/MULLION/09DEC20-droniometer/'\n",
    "calfile = '../CALIBRATION/RadCalCoeff_GT08_.csv'\n",
    "calfile2 = '../CALIBRATION/RoughFlameCal.csv'\n",
    "TelemetryFile = '../MULLION/09DEC20/RAW_DATA/flight_logs/Dec-9th-2020-10-30AM-Flight-Airdata.csv'\n",
    "\n",
    "\n",
    "field_data = ['MUL', '09DEC20', 'Flame_Droniometer', 'Landsat8', 'GA 10inch Panel 99aa03-0319-1952', 'Radiance', '', 'C5']\n",
    "\n",
    "fignum=1\n",
    "\n",
    "\n",
    "#\n",
    "# Define the first line and spectrum number for all/good panels and grounds\n",
    "#\n",
    "firstGoodLine = 1\n",
    "firstGoodPanelSpec = 0\n",
    "firstGoodGroundSpec = 1\n",
    "\n",
    "plot_scale = [0.0, 1.0, 0.0, 1.0]\n",
    "Corners = [0, 0, 0, 0, 0, 0, 0, 0]\n",
    "RockWalk = True\n",
    "StartCorner = 'SE'\n",
    "panel_dir =  '../../../CalVal_Phase1/RAW_DATA/Panels/'\n",
    "in_panel = 'GA_10inch.txt'\n",
    "\n",
    "sat_resp = dict({'Landsat5': '../../../CalVal_Phase1/SENSOR_BANDS/landsat5_vsir.flt', \n",
    "            'Landsat7': '../../../CalVal_Phase1/SENSOR_BANDS/landsat7_vsir.flt', \n",
    "            'Landsat8': '../../../CalVal_Phase1/SENSOR_BANDS/landsat8_vsir.flt',\n",
    "            'Sentinel2a': '../../../CalVal_Phase1/SENSOR_BANDS/Sent2a.flt',\n",
    "            'Sentinel2b': '../../../CalVal_Phase1/SENSOR_BANDS/Sent2b.flt'})\n",
    "\n",
    "f_name = sat_resp[field_data[3]]\n",
    "\n",
    "#\n",
    "# Colours used for plotting multi-coloured Lines\n",
    "#\n",
    "colpac=['#770000', '#FF0000', '#FF7700', '#FFFF00', '#77FF00', '#00FF00', \n",
    "        '#00FF77', '#00FFFF', '#0077FF', '#0000FF', '#000077', '#FF00FF', '#777777', '#770077', '#777700']"
   ]
  },
  {
   "cell_type": "code",
   "execution_count": 2,
   "metadata": {},
   "outputs": [],
   "source": [
    "TeleDat = pd.read_csv(TelemetryFile)\n",
    "#TeleDat1 = pd.read_csv(TelemetryFile1)\n",
    "#TeleDat2 = pd.read_csv(TelemetryFile2)\n",
    "#TeleDat = pd.concat([TeleDat1, TeleDat2])"
   ]
  },
  {
   "cell_type": "code",
   "execution_count": 3,
   "metadata": {},
   "outputs": [],
   "source": [
    "TeleDat.drop(['height_above_ground_at_drone_location(meters)', \n",
    "              'ground_elevation_at_drone_location(meters)',\n",
    "              'satellites',\n",
    "              'gpslevel',\n",
    "              'voltage(v)',\n",
    "              'max_altitude(meters)',\n",
    "              'max_ascent(meters)',\n",
    "              'max_speed(m/s)',\n",
    "              'max_distance(meters)',\n",
    "              ' xSpeed(m/s)',\n",
    "              ' ySpeed(m/s)',\n",
    "              ' zSpeed(m/s)',\n",
    "              'isPhoto',\n",
    "              'isVideo',\n",
    "              'rc_elevator',\n",
    "              'rc_aileron',\n",
    "              'rc_throttle',\n",
    "              'rc_rudder',\n",
    "              'battery_percent',\n",
    "              'voltageCell1',\n",
    "              'voltageCell2',\n",
    "              'voltageCell3',\n",
    "              'voltageCell4',\n",
    "              'voltageCell5',\n",
    "              'voltageCell6',\n",
    "              'current(A)',\n",
    "              'battery_temperature(c)',\n",
    "              'altitude(meters)',\n",
    "              'ascent(meters)',\n",
    "              'flycStateRaw',\n",
    "              'flycState'], axis=1, inplace=True)"
   ]
  },
  {
   "cell_type": "code",
   "execution_count": 4,
   "metadata": {},
   "outputs": [],
   "source": [
    "TeleDat.rename(columns={'time(millisecond)': 'time_ms',\n",
    "                        'datetime(utc)': 'datetime',\n",
    "                        'latitude': 'Latitude',\n",
    "                        'longitude': 'Longitude',\n",
    "                        'height_above_takeoff(meters)': 'height_local',\n",
    "                        'altitude_above_seaLevel(meters)': 'height_sea',\n",
    "                        'distance(meters)': 'distance(m)',\n",
    "                        ' compass_heading(degrees)': 'compass_heading',\n",
    "                        ' pitch(degrees)': 'pitch',\n",
    "                        ' roll(degrees)': 'roll',\n",
    "                        'gimbal_heading(degrees)': 'gimbal_heading',\n",
    "                        'gimbal_pitch(degrees)': 'gimbal_pitch',\n",
    "                        'message': 'comment'\n",
    "                       }, inplace=True\n",
    "              )"
   ]
  },
  {
   "cell_type": "code",
   "execution_count": 5,
   "metadata": {},
   "outputs": [],
   "source": [
    "TeleDat['datetime'] = [parser.parse(TeleDat.datetime[i]) for i in range(len(TeleDat.datetime))]"
   ]
  },
  {
   "cell_type": "code",
   "execution_count": 6,
   "metadata": {},
   "outputs": [],
   "source": [
    "TeleDat = TeleDat[TeleDat['datetime'] > datetime(2020,4,14,1,53,0)]"
   ]
  },
  {
   "cell_type": "code",
   "execution_count": 7,
   "metadata": {
    "scrolled": true
   },
   "outputs": [],
   "source": [
    "TeleDat['date_saved'] = [TeleDat.datetime.iloc[1] + timedelta(milliseconds=int(TeleDat.time_ms.iloc[i])) + timedelta(milliseconds=200) for i in range(len(TeleDat.datetime))]"
   ]
  },
  {
   "cell_type": "code",
   "execution_count": 8,
   "metadata": {},
   "outputs": [
    {
     "data": {
      "text/plain": [
       "<matplotlib.axes._subplots.AxesSubplot at 0x7f60597bfba8>"
      ]
     },
     "execution_count": 8,
     "metadata": {},
     "output_type": "execute_result"
    },
    {
     "data": {
      "image/png": "[encoded data removed]",
      "text/plain": [
       "<Figure size 432x288 with 1 Axes>"
      ]
     },
     "metadata": {
      "needs_background": "light"
     },
     "output_type": "display_data"
    }
   ],
   "source": [
    "TeleDat.plot('time_ms', ['pitch', 'roll'], ylim=(-15,20))"
   ]
  },
  {
   "cell_type": "code",
   "execution_count": 9,
   "metadata": {},
   "outputs": [
    {
     "data": {
      "text/plain": [
       "<matplotlib.axes._subplots.AxesSubplot at 0x7f60596c2630>"
      ]
     },
     "execution_count": 9,
     "metadata": {},
     "output_type": "execute_result"
    },
    {
     "data": {
      "image/png": "[encoded data removed]",
      "text/plain": [
       "<Figure size 432x288 with 1 Axes>"
      ]
     },
     "metadata": {
      "needs_background": "light"
     },
     "output_type": "display_data"
    }
   ],
   "source": [
    "TeleDat.plot('date_saved', 'gimbal_pitch')\n",
    "#plt.savefig('gimbal_pitch.png')"
   ]
  },
  {
   "cell_type": "code",
   "execution_count": 10,
   "metadata": {},
   "outputs": [],
   "source": [
    "alldata = LoadData.load_from_dir(indir, calfile)"
   ]
  },
  {
   "cell_type": "markdown",
   "metadata": {},
   "source": [
    "### Rough Calibration fix"
   ]
  },
  {
   "cell_type": "code",
   "execution_count": 11,
   "metadata": {},
   "outputs": [],
   "source": [
    "cf2 = pd.read_csv(calfile2)\n",
    "cf2.rename(columns={'wl': 'Wavelength'}, inplace=True)\n",
    "cf2.set_index('Wavelength', inplace=True)\n",
    "\n",
    "rcm = []\n",
    "for i in alldata.SpecNum.unique():\n",
    "    rcm.append(cf2['rad_cal_mean'].values)\n",
    "    \n",
    "flat_list = [item for sublist in rcm for item in sublist]\n",
    "\n",
    "alldata['cal2'] = flat_list"
   ]
  },
  {
   "cell_type": "code",
   "execution_count": 12,
   "metadata": {},
   "outputs": [],
   "source": [
    "#\n",
    "# Slightly adjust wavelength in calibration file to take into new Flame calibration, post OCT 2020\n",
    "#\n",
    "def rejig_cal_wavelength(calfile, alldata):\n",
    "    caldata = pd.read_csv(calfile)\n",
    "    func = interpolate.interp1d(caldata.wl, caldata.rad_cal_mean)\n",
    "    alldata['CalData'] = func(alldata.index)\n",
    "    \n",
    "    return alldata\n",
    "\n",
    "alldata = rejig_cal_wavelength(calfile, alldata)"
   ]
  },
  {
   "cell_type": "code",
   "execution_count": 13,
   "metadata": {},
   "outputs": [],
   "source": [
    "#\n",
    "# Define radiance based on DN data, calibration data and integration time\n",
    "# Also set Line number = 1 to allow easy processing\n",
    "#\n",
    "# alldata['radiance'] = alldata.DN*alldata.CalData/alldata.IntTime  # Original: works with good calibration\n",
    "alldata['radiance'] = alldata.DN*alldata.cal2*0.00224/alldata.IntTime # Rough Calibration fix\n",
    "alldata['Line']=1"
   ]
  },
  {
   "cell_type": "code",
   "execution_count": 14,
   "metadata": {
    "scrolled": true
   },
   "outputs": [
    {
     "name": "stdout",
     "output_type": "stream",
     "text": [
      "Completed  24 / 24  spectra\r"
     ]
    }
   ],
   "source": [
    "#\n",
    "# Bin spectra into integer wavelength bins, assuming that the input data\n",
    "# has 0.3nm channels.\n",
    "#\n",
    "def wavelength_bin(alldata):\n",
    "    # Create avgdata DataFrame, based on alldata input DataFrame\n",
    "    # Reset index so that Wavelength is not the index.\n",
    "    avgdata = alldata.copy()\n",
    "    avgdata.reset_index(inplace=True)\n",
    "    \n",
    "    ### Make a mean of three rows for each of DN, Calibration, Radiance\n",
    "    ###avgdata['DNmean'] = avgdata.DN.rolling(3, center=True).mean()\n",
    "    ###avgdata['Calmean'] = avgdata.CalData.rolling(3, center=True).mean()\n",
    "    ###avgdata['Radmean'] = avgdata.radiance.rolling(3, center=True).mean()\n",
    "    \n",
    "    # Remove first and last wavelengths which have NaNs in them.\n",
    "    avgdata = avgdata[avgdata.Wavelength != 349.176]\n",
    "    avgdata = avgdata[avgdata.Wavelength != 910.925]\n",
    "    \n",
    "    # Create empty output DataFrame\n",
    "    outputDF = pd.DataFrame()\n",
    "    ttmm = pd.DataFrame()\n",
    "    \n",
    "    # Loop through each spectrum in the dataframe\n",
    "    for j in avgdata.SpecNum.unique():\n",
    "        tempdata = avgdata[avgdata.SpecNum==j].groupby(pd.cut(avgdata[avgdata.SpecNum==j]['Wavelength'], np.arange(349.5,910.5,1.0))).mean()\n",
    "        tempdata['date_saved'] = avgdata[avgdata.SpecNum==j].date_saved.values[0]\n",
    "        tempdata['filename'] = avgdata[avgdata.SpecNum==j].filename.values[0]\n",
    "        \n",
    "        tempdata.index.rename('plop', inplace=True)\n",
    "        tempdata.reset_index(inplace=True)\n",
    "        tempdata.drop(columns='plop', inplace=True)\n",
    "        tempdata.Wavelength = tempdata.Wavelength.round(0).astype(int)        \n",
    "        \n",
    "        # When finished making an entire spectrum, add it to the output DataFrame\n",
    "        # and print how many have been done.\n",
    "        if outputDF.empty:\n",
    "            outputDF = tempdata.copy()\n",
    "        \n",
    "        else:\n",
    "            if j % 100 == 0:\n",
    "                ttmm = pd.concat([ttmm, tempdata])\n",
    "                outputDF = pd.concat([outputDF, ttmm])\n",
    "                ttmm = pd.DataFrame()\n",
    "            \n",
    "            elif j == len(avgdata.SpecNum.unique())-1:\n",
    "                ttmm = pd.concat([ttmm, tempdata])\n",
    "                outputDF = pd.concat([outputDF, ttmm])\n",
    "            \n",
    "            elif ttmm.empty:\n",
    "                ttmm = tempdata.copy()\n",
    "            \n",
    "            else:\n",
    "                ttmm = pd.concat([ttmm, tempdata])\n",
    "                \n",
    "            \n",
    "        print('Completed ', j+1, '/', len(avgdata.SpecNum.unique()), ' spectra', end='\\r', flush=True)\n",
    "\n",
    "    # output final DataFrame\n",
    "    return outputDF\n",
    "\n",
    "avgdata = wavelength_bin(alldata)"
   ]
  },
  {
   "cell_type": "code",
   "execution_count": 15,
   "metadata": {},
   "outputs": [],
   "source": [
    "#alldat = avgdata.reset_index()"
   ]
  },
  {
   "cell_type": "code",
   "execution_count": 16,
   "metadata": {},
   "outputs": [],
   "source": [
    "#avgdata[avgdata.Wavelength==550]"
   ]
  },
  {
   "cell_type": "code",
   "execution_count": 17,
   "metadata": {},
   "outputs": [
    {
     "data": {
      "text/html": [
       "<div>\n",
       "<style scoped>\n",
       "    .dataframe tbody tr th:only-of-type {\n",
       "        vertical-align: middle;\n",
       "    }\n",
       "\n",
       "    .dataframe tbody tr th {\n",
       "        vertical-align: top;\n",
       "    }\n",
       "\n",
       "    .dataframe thead th {\n",
       "        text-align: right;\n",
       "    }\n",
       "</style>\n",
       "<table border=\"1\" class=\"dataframe\">\n",
       "  <thead>\n",
       "    <tr style=\"text-align: right;\">\n",
       "      <th></th>\n",
       "      <th>time_ms</th>\n",
       "      <th>datetime</th>\n",
       "      <th>Latitude</th>\n",
       "      <th>Longitude</th>\n",
       "      <th>height_local</th>\n",
       "      <th>height_sea</th>\n",
       "      <th>height_sonar(meters)</th>\n",
       "      <th>speed(m/s)</th>\n",
       "      <th>distance(m)</th>\n",
       "      <th>compass_heading</th>\n",
       "      <th>pitch</th>\n",
       "      <th>roll</th>\n",
       "      <th>gimbal_heading</th>\n",
       "      <th>gimbal_pitch</th>\n",
       "      <th>comment</th>\n",
       "      <th>date_saved</th>\n",
       "    </tr>\n",
       "  </thead>\n",
       "  <tbody>\n",
       "    <tr>\n",
       "      <th>0</th>\n",
       "      <td>0</td>\n",
       "      <td>2020-12-08 23:30:08</td>\n",
       "      <td>-35.123284</td>\n",
       "      <td>148.862654</td>\n",
       "      <td>0.0</td>\n",
       "      <td>577.927673</td>\n",
       "      <td>0</td>\n",
       "      <td>0.0</td>\n",
       "      <td>0.000000</td>\n",
       "      <td>74.4</td>\n",
       "      <td>-3.0</td>\n",
       "      <td>0.0</td>\n",
       "      <td>355.0</td>\n",
       "      <td>0.0</td>\n",
       "      <td>NaN</td>\n",
       "      <td>2020-12-08 23:30:08.200</td>\n",
       "    </tr>\n",
       "    <tr>\n",
       "      <th>1</th>\n",
       "      <td>100</td>\n",
       "      <td>2020-12-08 23:30:08</td>\n",
       "      <td>-35.123284</td>\n",
       "      <td>148.862654</td>\n",
       "      <td>0.0</td>\n",
       "      <td>577.927673</td>\n",
       "      <td>0</td>\n",
       "      <td>0.0</td>\n",
       "      <td>0.003925</td>\n",
       "      <td>74.4</td>\n",
       "      <td>-3.0</td>\n",
       "      <td>0.0</td>\n",
       "      <td>355.0</td>\n",
       "      <td>0.0</td>\n",
       "      <td>NaN</td>\n",
       "      <td>2020-12-08 23:30:08.300</td>\n",
       "    </tr>\n",
       "    <tr>\n",
       "      <th>2</th>\n",
       "      <td>200</td>\n",
       "      <td>2020-12-08 23:30:08</td>\n",
       "      <td>-35.123284</td>\n",
       "      <td>148.862654</td>\n",
       "      <td>0.0</td>\n",
       "      <td>577.927673</td>\n",
       "      <td>0</td>\n",
       "      <td>0.0</td>\n",
       "      <td>0.008671</td>\n",
       "      <td>74.5</td>\n",
       "      <td>-3.0</td>\n",
       "      <td>0.0</td>\n",
       "      <td>355.0</td>\n",
       "      <td>0.0</td>\n",
       "      <td>NaN</td>\n",
       "      <td>2020-12-08 23:30:08.400</td>\n",
       "    </tr>\n",
       "    <tr>\n",
       "      <th>3</th>\n",
       "      <td>300</td>\n",
       "      <td>2020-12-08 23:30:08</td>\n",
       "      <td>-35.123284</td>\n",
       "      <td>148.862654</td>\n",
       "      <td>0.0</td>\n",
       "      <td>577.927673</td>\n",
       "      <td>0</td>\n",
       "      <td>0.0</td>\n",
       "      <td>0.013603</td>\n",
       "      <td>74.5</td>\n",
       "      <td>-3.0</td>\n",
       "      <td>0.0</td>\n",
       "      <td>355.0</td>\n",
       "      <td>0.0</td>\n",
       "      <td>NaN</td>\n",
       "      <td>2020-12-08 23:30:08.500</td>\n",
       "    </tr>\n",
       "    <tr>\n",
       "      <th>4</th>\n",
       "      <td>400</td>\n",
       "      <td>2020-12-08 23:30:09</td>\n",
       "      <td>-35.123284</td>\n",
       "      <td>148.862654</td>\n",
       "      <td>0.0</td>\n",
       "      <td>577.927673</td>\n",
       "      <td>0</td>\n",
       "      <td>0.0</td>\n",
       "      <td>0.016307</td>\n",
       "      <td>74.5</td>\n",
       "      <td>-3.0</td>\n",
       "      <td>0.0</td>\n",
       "      <td>355.0</td>\n",
       "      <td>0.0</td>\n",
       "      <td>NaN</td>\n",
       "      <td>2020-12-08 23:30:08.600</td>\n",
       "    </tr>\n",
       "    <tr>\n",
       "      <th>...</th>\n",
       "      <td>...</td>\n",
       "      <td>...</td>\n",
       "      <td>...</td>\n",
       "      <td>...</td>\n",
       "      <td>...</td>\n",
       "      <td>...</td>\n",
       "      <td>...</td>\n",
       "      <td>...</td>\n",
       "      <td>...</td>\n",
       "      <td>...</td>\n",
       "      <td>...</td>\n",
       "      <td>...</td>\n",
       "      <td>...</td>\n",
       "      <td>...</td>\n",
       "      <td>...</td>\n",
       "      <td>...</td>\n",
       "    </tr>\n",
       "    <tr>\n",
       "      <th>6083</th>\n",
       "      <td>641800</td>\n",
       "      <td>2020-12-08 23:40:48</td>\n",
       "      <td>-35.123272</td>\n",
       "      <td>148.862660</td>\n",
       "      <td>0.4</td>\n",
       "      <td>578.327673</td>\n",
       "      <td>0</td>\n",
       "      <td>0.0</td>\n",
       "      <td>1.387270</td>\n",
       "      <td>69.5</td>\n",
       "      <td>-3.0</td>\n",
       "      <td>-1.2</td>\n",
       "      <td>359.9</td>\n",
       "      <td>-15.2</td>\n",
       "      <td>NaN</td>\n",
       "      <td>2020-12-08 23:40:50.000</td>\n",
       "    </tr>\n",
       "    <tr>\n",
       "      <th>6084</th>\n",
       "      <td>641900</td>\n",
       "      <td>2020-12-08 23:40:48</td>\n",
       "      <td>-35.123272</td>\n",
       "      <td>148.862660</td>\n",
       "      <td>0.4</td>\n",
       "      <td>578.327673</td>\n",
       "      <td>0</td>\n",
       "      <td>0.0</td>\n",
       "      <td>1.384450</td>\n",
       "      <td>69.5</td>\n",
       "      <td>-3.1</td>\n",
       "      <td>-1.2</td>\n",
       "      <td>359.9</td>\n",
       "      <td>-15.2</td>\n",
       "      <td>NaN</td>\n",
       "      <td>2020-12-08 23:40:50.100</td>\n",
       "    </tr>\n",
       "    <tr>\n",
       "      <th>6085</th>\n",
       "      <td>642000</td>\n",
       "      <td>2020-12-08 23:40:48</td>\n",
       "      <td>-35.123272</td>\n",
       "      <td>148.862660</td>\n",
       "      <td>0.4</td>\n",
       "      <td>578.327673</td>\n",
       "      <td>0</td>\n",
       "      <td>0.0</td>\n",
       "      <td>1.384970</td>\n",
       "      <td>69.5</td>\n",
       "      <td>-3.2</td>\n",
       "      <td>-1.2</td>\n",
       "      <td>359.9</td>\n",
       "      <td>-15.2</td>\n",
       "      <td>NaN</td>\n",
       "      <td>2020-12-08 23:40:50.200</td>\n",
       "    </tr>\n",
       "    <tr>\n",
       "      <th>6086</th>\n",
       "      <td>642100</td>\n",
       "      <td>2020-12-08 23:40:48</td>\n",
       "      <td>-35.123272</td>\n",
       "      <td>148.862660</td>\n",
       "      <td>0.4</td>\n",
       "      <td>578.327673</td>\n",
       "      <td>0</td>\n",
       "      <td>0.0</td>\n",
       "      <td>1.382640</td>\n",
       "      <td>69.5</td>\n",
       "      <td>-3.2</td>\n",
       "      <td>-1.2</td>\n",
       "      <td>359.9</td>\n",
       "      <td>-15.2</td>\n",
       "      <td>NaN</td>\n",
       "      <td>2020-12-08 23:40:50.300</td>\n",
       "    </tr>\n",
       "    <tr>\n",
       "      <th>6087</th>\n",
       "      <td>642100</td>\n",
       "      <td>2020-12-08 23:40:48</td>\n",
       "      <td>-35.123272</td>\n",
       "      <td>148.862660</td>\n",
       "      <td>0.0</td>\n",
       "      <td>577.927673</td>\n",
       "      <td>0</td>\n",
       "      <td>0.0</td>\n",
       "      <td>1.383590</td>\n",
       "      <td>69.4</td>\n",
       "      <td>-3.2</td>\n",
       "      <td>-1.3</td>\n",
       "      <td>359.9</td>\n",
       "      <td>-15.2</td>\n",
       "      <td>NaN</td>\n",
       "      <td>2020-12-08 23:40:50.300</td>\n",
       "    </tr>\n",
       "  </tbody>\n",
       "</table>\n",
       "<p>6088 rows × 16 columns</p>\n",
       "</div>"
      ],
      "text/plain": [
       "      time_ms            datetime   Latitude   Longitude  height_local  \\\n",
       "0           0 2020-12-08 23:30:08 -35.123284  148.862654           0.0   \n",
       "1         100 2020-12-08 23:30:08 -35.123284  148.862654           0.0   \n",
       "2         200 2020-12-08 23:30:08 -35.123284  148.862654           0.0   \n",
       "3         300 2020-12-08 23:30:08 -35.123284  148.862654           0.0   \n",
       "4         400 2020-12-08 23:30:09 -35.123284  148.862654           0.0   \n",
       "...       ...                 ...        ...         ...           ...   \n",
       "6083   641800 2020-12-08 23:40:48 -35.123272  148.862660           0.4   \n",
       "6084   641900 2020-12-08 23:40:48 -35.123272  148.862660           0.4   \n",
       "6085   642000 2020-12-08 23:40:48 -35.123272  148.862660           0.4   \n",
       "6086   642100 2020-12-08 23:40:48 -35.123272  148.862660           0.4   \n",
       "6087   642100 2020-12-08 23:40:48 -35.123272  148.862660           0.0   \n",
       "\n",
       "      height_sea  height_sonar(meters)  speed(m/s)  distance(m)  \\\n",
       "0     577.927673                     0         0.0     0.000000   \n",
       "1     577.927673                     0         0.0     0.003925   \n",
       "2     577.927673                     0         0.0     0.008671   \n",
       "3     577.927673                     0         0.0     0.013603   \n",
       "4     577.927673                     0         0.0     0.016307   \n",
       "...          ...                   ...         ...          ...   \n",
       "6083  578.327673                     0         0.0     1.387270   \n",
       "6084  578.327673                     0         0.0     1.384450   \n",
       "6085  578.327673                     0         0.0     1.384970   \n",
       "6086  578.327673                     0         0.0     1.382640   \n",
       "6087  577.927673                     0         0.0     1.383590   \n",
       "\n",
       "      compass_heading  pitch  roll  gimbal_heading  gimbal_pitch comment  \\\n",
       "0                74.4   -3.0   0.0           355.0           0.0     NaN   \n",
       "1                74.4   -3.0   0.0           355.0           0.0     NaN   \n",
       "2                74.5   -3.0   0.0           355.0           0.0     NaN   \n",
       "3                74.5   -3.0   0.0           355.0           0.0     NaN   \n",
       "4                74.5   -3.0   0.0           355.0           0.0     NaN   \n",
       "...               ...    ...   ...             ...           ...     ...   \n",
       "6083             69.5   -3.0  -1.2           359.9         -15.2     NaN   \n",
       "6084             69.5   -3.1  -1.2           359.9         -15.2     NaN   \n",
       "6085             69.5   -3.2  -1.2           359.9         -15.2     NaN   \n",
       "6086             69.5   -3.2  -1.2           359.9         -15.2     NaN   \n",
       "6087             69.4   -3.2  -1.3           359.9         -15.2     NaN   \n",
       "\n",
       "                  date_saved  \n",
       "0    2020-12-08 23:30:08.200  \n",
       "1    2020-12-08 23:30:08.300  \n",
       "2    2020-12-08 23:30:08.400  \n",
       "3    2020-12-08 23:30:08.500  \n",
       "4    2020-12-08 23:30:08.600  \n",
       "...                      ...  \n",
       "6083 2020-12-08 23:40:50.000  \n",
       "6084 2020-12-08 23:40:50.100  \n",
       "6085 2020-12-08 23:40:50.200  \n",
       "6086 2020-12-08 23:40:50.300  \n",
       "6087 2020-12-08 23:40:50.300  \n",
       "\n",
       "[6088 rows x 16 columns]"
      ]
     },
     "execution_count": 17,
     "metadata": {},
     "output_type": "execute_result"
    }
   ],
   "source": [
    "TeleDat"
   ]
  },
  {
   "cell_type": "code",
   "execution_count": 18,
   "metadata": {
    "scrolled": true
   },
   "outputs": [],
   "source": [
    "merge_data = pd.merge_asof(avgdata, TeleDat, on='date_saved')"
   ]
  },
  {
   "cell_type": "code",
   "execution_count": 19,
   "metadata": {},
   "outputs": [
    {
     "data": {
      "text/plain": [
       "<matplotlib.axes._subplots.AxesSubplot at 0x7f6059404550>"
      ]
     },
     "execution_count": 19,
     "metadata": {},
     "output_type": "execute_result"
    },
    {
     "data": {
      "image/png": "[encoded data removed]",
      "text/plain": [
       "<Figure size 432x288 with 1 Axes>"
      ]
     },
     "metadata": {
      "needs_background": "light"
     },
     "output_type": "display_data"
    }
   ],
   "source": [
    "merge_data[merge_data.Wavelength==550].plot('date_saved', 'speed(m/s)')\n",
    "#plt.savefig('pics/gimbal_pitch.png')"
   ]
  },
  {
   "cell_type": "code",
   "execution_count": 20,
   "metadata": {},
   "outputs": [
    {
     "data": {
      "text/plain": [
       "<matplotlib.axes._subplots.AxesSubplot at 0x7f60593b08d0>"
      ]
     },
     "execution_count": 20,
     "metadata": {},
     "output_type": "execute_result"
    },
    {
     "data": {
      "image/png": "[encoded data removed]",
      "text/plain": [
       "<Figure size 432x288 with 1 Axes>"
      ]
     },
     "metadata": {
      "needs_background": "light"
     },
     "output_type": "display_data"
    }
   ],
   "source": [
    "merge_data.plot('date_saved', 'height_local')"
   ]
  },
  {
   "cell_type": "code",
   "execution_count": 21,
   "metadata": {},
   "outputs": [],
   "source": [
    "def scatter_plot(xdata, ydata):\n",
    "    plt.scatter(xdata, ydata, s=3)\n",
    "    plt.xlim(xdata.min(), xdata.max())\n",
    "    plt.ylim(ydata.min(), ydata.max())"
   ]
  },
  {
   "cell_type": "code",
   "execution_count": 22,
   "metadata": {
    "scrolled": false
   },
   "outputs": [
    {
     "ename": "ConversionError",
     "evalue": "Failed to convert value(s) to axis units: NaT",
     "output_type": "error",
     "traceback": [
      "\u001b[0;31m---------------------------------------------------------------------------\u001b[0m",
      "\u001b[0;31mValueError\u001b[0m                                Traceback (most recent call last)",
      "\u001b[0;32m/g/data/v10/public/modules/dea-env/20200713/lib/python3.6/site-packages/matplotlib/axis.py\u001b[0m in \u001b[0;36mconvert_units\u001b[0;34m(self, x)\u001b[0m\n\u001b[1;32m   1572\u001b[0m         \u001b[0;32mtry\u001b[0m\u001b[0;34m:\u001b[0m\u001b[0;34m\u001b[0m\u001b[0;34m\u001b[0m\u001b[0m\n\u001b[0;32m-> 1573\u001b[0;31m             \u001b[0mret\u001b[0m \u001b[0;34m=\u001b[0m \u001b[0mself\u001b[0m\u001b[0;34m.\u001b[0m\u001b[0mconverter\u001b[0m\u001b[0;34m.\u001b[0m\u001b[0mconvert\u001b[0m\u001b[0;34m(\u001b[0m\u001b[0mx\u001b[0m\u001b[0;34m,\u001b[0m \u001b[0mself\u001b[0m\u001b[0;34m.\u001b[0m\u001b[0munits\u001b[0m\u001b[0;34m,\u001b[0m \u001b[0mself\u001b[0m\u001b[0;34m)\u001b[0m\u001b[0;34m\u001b[0m\u001b[0;34m\u001b[0m\u001b[0m\n\u001b[0m\u001b[1;32m   1574\u001b[0m         \u001b[0;32mexcept\u001b[0m \u001b[0mException\u001b[0m \u001b[0;32mas\u001b[0m \u001b[0me\u001b[0m\u001b[0;34m:\u001b[0m\u001b[0;34m\u001b[0m\u001b[0;34m\u001b[0m\u001b[0m\n",
      "\u001b[0;32m/g/data/v10/public/modules/dea-env/20200713/lib/python3.6/site-packages/matplotlib/dates.py\u001b[0m in \u001b[0;36mconvert\u001b[0;34m(value, unit, axis)\u001b[0m\n\u001b[1;32m   1920\u001b[0m         \"\"\"\n\u001b[0;32m-> 1921\u001b[0;31m         \u001b[0;32mreturn\u001b[0m \u001b[0mdate2num\u001b[0m\u001b[0;34m(\u001b[0m\u001b[0mvalue\u001b[0m\u001b[0;34m)\u001b[0m\u001b[0;34m\u001b[0m\u001b[0;34m\u001b[0m\u001b[0m\n\u001b[0m\u001b[1;32m   1922\u001b[0m \u001b[0;34m\u001b[0m\u001b[0m\n",
      "\u001b[0;32m/g/data/v10/public/modules/dea-env/20200713/lib/python3.6/site-packages/matplotlib/dates.py\u001b[0m in \u001b[0;36mdate2num\u001b[0;34m(d)\u001b[0m\n\u001b[1;32m    428\u001b[0m             \u001b[0;32mreturn\u001b[0m \u001b[0m_dt64_to_ordinalf\u001b[0m\u001b[0;34m(\u001b[0m\u001b[0md\u001b[0m\u001b[0;34m)\u001b[0m\u001b[0;34m\u001b[0m\u001b[0;34m\u001b[0m\u001b[0m\n\u001b[0;32m--> 429\u001b[0;31m         \u001b[0;32mreturn\u001b[0m \u001b[0m_to_ordinalf\u001b[0m\u001b[0;34m(\u001b[0m\u001b[0md\u001b[0m\u001b[0;34m)\u001b[0m\u001b[0;34m\u001b[0m\u001b[0;34m\u001b[0m\u001b[0m\n\u001b[0m\u001b[1;32m    430\u001b[0m \u001b[0;34m\u001b[0m\u001b[0m\n",
      "\u001b[0;32m/g/data/v10/public/modules/dea-env/20200713/lib/python3.6/site-packages/matplotlib/dates.py\u001b[0m in \u001b[0;36m_to_ordinalf\u001b[0;34m(dt)\u001b[0m\n\u001b[1;32m    221\u001b[0m \u001b[0;34m\u001b[0m\u001b[0m\n\u001b[0;32m--> 222\u001b[0;31m     \u001b[0mbase\u001b[0m \u001b[0;34m=\u001b[0m \u001b[0mfloat\u001b[0m\u001b[0;34m(\u001b[0m\u001b[0mdt\u001b[0m\u001b[0;34m.\u001b[0m\u001b[0mtoordinal\u001b[0m\u001b[0;34m(\u001b[0m\u001b[0;34m)\u001b[0m\u001b[0;34m)\u001b[0m\u001b[0;34m\u001b[0m\u001b[0;34m\u001b[0m\u001b[0m\n\u001b[0m\u001b[1;32m    223\u001b[0m \u001b[0;34m\u001b[0m\u001b[0m\n",
      "\u001b[0;32mpandas/_libs/tslibs/nattype.pyx\u001b[0m in \u001b[0;36mpandas._libs.tslibs.nattype._make_error_func.f\u001b[0;34m()\u001b[0m\n",
      "\u001b[0;31mValueError\u001b[0m: NaTType does not support toordinal",
      "\nThe above exception was the direct cause of the following exception:\n",
      "\u001b[0;31mConversionError\u001b[0m                           Traceback (most recent call last)",
      "\u001b[0;32m<ipython-input-22-91d845a519a3>\u001b[0m in \u001b[0;36m<module>\u001b[0;34m\u001b[0m\n\u001b[0;32m----> 1\u001b[0;31m \u001b[0mscatter_plot\u001b[0m\u001b[0;34m(\u001b[0m\u001b[0mmerge_data\u001b[0m\u001b[0;34m[\u001b[0m\u001b[0mmerge_data\u001b[0m\u001b[0;34m.\u001b[0m\u001b[0mcompass_heading\u001b[0m \u001b[0;34m>\u001b[0m \u001b[0;36m350\u001b[0m\u001b[0;34m]\u001b[0m\u001b[0;34m[\u001b[0m\u001b[0;34m'date_saved'\u001b[0m\u001b[0;34m]\u001b[0m\u001b[0;34m,\u001b[0m \u001b[0mmerge_data\u001b[0m\u001b[0;34m[\u001b[0m\u001b[0mmerge_data\u001b[0m\u001b[0;34m.\u001b[0m\u001b[0mcompass_heading\u001b[0m \u001b[0;34m>\u001b[0m \u001b[0;36m350\u001b[0m\u001b[0;34m]\u001b[0m\u001b[0;34m[\u001b[0m\u001b[0;34m'compass_heading'\u001b[0m\u001b[0;34m]\u001b[0m\u001b[0;34m)\u001b[0m\u001b[0;34m\u001b[0m\u001b[0;34m\u001b[0m\u001b[0m\n\u001b[0m",
      "\u001b[0;32m<ipython-input-21-db1de7918663>\u001b[0m in \u001b[0;36mscatter_plot\u001b[0;34m(xdata, ydata)\u001b[0m\n\u001b[1;32m      1\u001b[0m \u001b[0;32mdef\u001b[0m \u001b[0mscatter_plot\u001b[0m\u001b[0;34m(\u001b[0m\u001b[0mxdata\u001b[0m\u001b[0;34m,\u001b[0m \u001b[0mydata\u001b[0m\u001b[0;34m)\u001b[0m\u001b[0;34m:\u001b[0m\u001b[0;34m\u001b[0m\u001b[0;34m\u001b[0m\u001b[0m\n\u001b[1;32m      2\u001b[0m     \u001b[0mplt\u001b[0m\u001b[0;34m.\u001b[0m\u001b[0mscatter\u001b[0m\u001b[0;34m(\u001b[0m\u001b[0mxdata\u001b[0m\u001b[0;34m,\u001b[0m \u001b[0mydata\u001b[0m\u001b[0;34m,\u001b[0m \u001b[0ms\u001b[0m\u001b[0;34m=\u001b[0m\u001b[0;36m3\u001b[0m\u001b[0;34m)\u001b[0m\u001b[0;34m\u001b[0m\u001b[0;34m\u001b[0m\u001b[0m\n\u001b[0;32m----> 3\u001b[0;31m     \u001b[0mplt\u001b[0m\u001b[0;34m.\u001b[0m\u001b[0mxlim\u001b[0m\u001b[0;34m(\u001b[0m\u001b[0mxdata\u001b[0m\u001b[0;34m.\u001b[0m\u001b[0mmin\u001b[0m\u001b[0;34m(\u001b[0m\u001b[0;34m)\u001b[0m\u001b[0;34m,\u001b[0m \u001b[0mxdata\u001b[0m\u001b[0;34m.\u001b[0m\u001b[0mmax\u001b[0m\u001b[0;34m(\u001b[0m\u001b[0;34m)\u001b[0m\u001b[0;34m)\u001b[0m\u001b[0;34m\u001b[0m\u001b[0;34m\u001b[0m\u001b[0m\n\u001b[0m\u001b[1;32m      4\u001b[0m     \u001b[0mplt\u001b[0m\u001b[0;34m.\u001b[0m\u001b[0mylim\u001b[0m\u001b[0;34m(\u001b[0m\u001b[0mydata\u001b[0m\u001b[0;34m.\u001b[0m\u001b[0mmin\u001b[0m\u001b[0;34m(\u001b[0m\u001b[0;34m)\u001b[0m\u001b[0;34m,\u001b[0m \u001b[0mydata\u001b[0m\u001b[0;34m.\u001b[0m\u001b[0mmax\u001b[0m\u001b[0;34m(\u001b[0m\u001b[0;34m)\u001b[0m\u001b[0;34m)\u001b[0m\u001b[0;34m\u001b[0m\u001b[0;34m\u001b[0m\u001b[0m\n",
      "\u001b[0;32m/g/data/v10/public/modules/dea-env/20200713/lib/python3.6/site-packages/matplotlib/pyplot.py\u001b[0m in \u001b[0;36mxlim\u001b[0;34m(*args, **kwargs)\u001b[0m\n\u001b[1;32m   1394\u001b[0m     \u001b[0;32mif\u001b[0m \u001b[0;32mnot\u001b[0m \u001b[0margs\u001b[0m \u001b[0;32mand\u001b[0m \u001b[0;32mnot\u001b[0m \u001b[0mkwargs\u001b[0m\u001b[0;34m:\u001b[0m\u001b[0;34m\u001b[0m\u001b[0;34m\u001b[0m\u001b[0m\n\u001b[1;32m   1395\u001b[0m         \u001b[0;32mreturn\u001b[0m \u001b[0max\u001b[0m\u001b[0;34m.\u001b[0m\u001b[0mget_xlim\u001b[0m\u001b[0;34m(\u001b[0m\u001b[0;34m)\u001b[0m\u001b[0;34m\u001b[0m\u001b[0;34m\u001b[0m\u001b[0m\n\u001b[0;32m-> 1396\u001b[0;31m     \u001b[0mret\u001b[0m \u001b[0;34m=\u001b[0m \u001b[0max\u001b[0m\u001b[0;34m.\u001b[0m\u001b[0mset_xlim\u001b[0m\u001b[0;34m(\u001b[0m\u001b[0;34m*\u001b[0m\u001b[0margs\u001b[0m\u001b[0;34m,\u001b[0m \u001b[0;34m**\u001b[0m\u001b[0mkwargs\u001b[0m\u001b[0;34m)\u001b[0m\u001b[0;34m\u001b[0m\u001b[0;34m\u001b[0m\u001b[0m\n\u001b[0m\u001b[1;32m   1397\u001b[0m     \u001b[0;32mreturn\u001b[0m \u001b[0mret\u001b[0m\u001b[0;34m\u001b[0m\u001b[0;34m\u001b[0m\u001b[0m\n\u001b[1;32m   1398\u001b[0m \u001b[0;34m\u001b[0m\u001b[0m\n",
      "\u001b[0;32m/g/data/v10/public/modules/dea-env/20200713/lib/python3.6/site-packages/matplotlib/axes/_base.py\u001b[0m in \u001b[0;36mset_xlim\u001b[0;34m(self, left, right, emit, auto, xmin, xmax)\u001b[0m\n\u001b[1;32m   3182\u001b[0m \u001b[0;34m\u001b[0m\u001b[0m\n\u001b[1;32m   3183\u001b[0m         \u001b[0mself\u001b[0m\u001b[0;34m.\u001b[0m\u001b[0m_process_unit_info\u001b[0m\u001b[0;34m(\u001b[0m\u001b[0mxdata\u001b[0m\u001b[0;34m=\u001b[0m\u001b[0;34m(\u001b[0m\u001b[0mleft\u001b[0m\u001b[0;34m,\u001b[0m \u001b[0mright\u001b[0m\u001b[0;34m)\u001b[0m\u001b[0;34m)\u001b[0m\u001b[0;34m\u001b[0m\u001b[0;34m\u001b[0m\u001b[0m\n\u001b[0;32m-> 3184\u001b[0;31m         \u001b[0mleft\u001b[0m \u001b[0;34m=\u001b[0m \u001b[0mself\u001b[0m\u001b[0;34m.\u001b[0m\u001b[0m_validate_converted_limits\u001b[0m\u001b[0;34m(\u001b[0m\u001b[0mleft\u001b[0m\u001b[0;34m,\u001b[0m \u001b[0mself\u001b[0m\u001b[0;34m.\u001b[0m\u001b[0mconvert_xunits\u001b[0m\u001b[0;34m)\u001b[0m\u001b[0;34m\u001b[0m\u001b[0;34m\u001b[0m\u001b[0m\n\u001b[0m\u001b[1;32m   3185\u001b[0m         \u001b[0mright\u001b[0m \u001b[0;34m=\u001b[0m \u001b[0mself\u001b[0m\u001b[0;34m.\u001b[0m\u001b[0m_validate_converted_limits\u001b[0m\u001b[0;34m(\u001b[0m\u001b[0mright\u001b[0m\u001b[0;34m,\u001b[0m \u001b[0mself\u001b[0m\u001b[0;34m.\u001b[0m\u001b[0mconvert_xunits\u001b[0m\u001b[0;34m)\u001b[0m\u001b[0;34m\u001b[0m\u001b[0;34m\u001b[0m\u001b[0m\n\u001b[1;32m   3186\u001b[0m \u001b[0;34m\u001b[0m\u001b[0m\n",
      "\u001b[0;32m/g/data/v10/public/modules/dea-env/20200713/lib/python3.6/site-packages/matplotlib/axes/_base.py\u001b[0m in \u001b[0;36m_validate_converted_limits\u001b[0;34m(self, limit, convert)\u001b[0m\n\u001b[1;32m   3096\u001b[0m         \"\"\"\n\u001b[1;32m   3097\u001b[0m         \u001b[0;32mif\u001b[0m \u001b[0mlimit\u001b[0m \u001b[0;32mis\u001b[0m \u001b[0;32mnot\u001b[0m \u001b[0;32mNone\u001b[0m\u001b[0;34m:\u001b[0m\u001b[0;34m\u001b[0m\u001b[0;34m\u001b[0m\u001b[0m\n\u001b[0;32m-> 3098\u001b[0;31m             \u001b[0mconverted_limit\u001b[0m \u001b[0;34m=\u001b[0m \u001b[0mconvert\u001b[0m\u001b[0;34m(\u001b[0m\u001b[0mlimit\u001b[0m\u001b[0;34m)\u001b[0m\u001b[0;34m\u001b[0m\u001b[0;34m\u001b[0m\u001b[0m\n\u001b[0m\u001b[1;32m   3099\u001b[0m             if (isinstance(converted_limit, Real)\n\u001b[1;32m   3100\u001b[0m                     and not np.isfinite(converted_limit)):\n",
      "\u001b[0;32m/g/data/v10/public/modules/dea-env/20200713/lib/python3.6/site-packages/matplotlib/artist.py\u001b[0m in \u001b[0;36mconvert_xunits\u001b[0;34m(self, x)\u001b[0m\n\u001b[1;32m    176\u001b[0m         \u001b[0;32mif\u001b[0m \u001b[0max\u001b[0m \u001b[0;32mis\u001b[0m \u001b[0;32mNone\u001b[0m \u001b[0;32mor\u001b[0m \u001b[0max\u001b[0m\u001b[0;34m.\u001b[0m\u001b[0mxaxis\u001b[0m \u001b[0;32mis\u001b[0m \u001b[0;32mNone\u001b[0m\u001b[0;34m:\u001b[0m\u001b[0;34m\u001b[0m\u001b[0;34m\u001b[0m\u001b[0m\n\u001b[1;32m    177\u001b[0m             \u001b[0;32mreturn\u001b[0m \u001b[0mx\u001b[0m\u001b[0;34m\u001b[0m\u001b[0;34m\u001b[0m\u001b[0m\n\u001b[0;32m--> 178\u001b[0;31m         \u001b[0;32mreturn\u001b[0m \u001b[0max\u001b[0m\u001b[0;34m.\u001b[0m\u001b[0mxaxis\u001b[0m\u001b[0;34m.\u001b[0m\u001b[0mconvert_units\u001b[0m\u001b[0;34m(\u001b[0m\u001b[0mx\u001b[0m\u001b[0;34m)\u001b[0m\u001b[0;34m\u001b[0m\u001b[0;34m\u001b[0m\u001b[0m\n\u001b[0m\u001b[1;32m    179\u001b[0m \u001b[0;34m\u001b[0m\u001b[0m\n\u001b[1;32m    180\u001b[0m     \u001b[0;32mdef\u001b[0m \u001b[0mconvert_yunits\u001b[0m\u001b[0;34m(\u001b[0m\u001b[0mself\u001b[0m\u001b[0;34m,\u001b[0m \u001b[0my\u001b[0m\u001b[0;34m)\u001b[0m\u001b[0;34m:\u001b[0m\u001b[0;34m\u001b[0m\u001b[0;34m\u001b[0m\u001b[0m\n",
      "\u001b[0;32m/g/data/v10/public/modules/dea-env/20200713/lib/python3.6/site-packages/matplotlib/axis.py\u001b[0m in \u001b[0;36mconvert_units\u001b[0;34m(self, x)\u001b[0m\n\u001b[1;32m   1574\u001b[0m         \u001b[0;32mexcept\u001b[0m \u001b[0mException\u001b[0m \u001b[0;32mas\u001b[0m \u001b[0me\u001b[0m\u001b[0;34m:\u001b[0m\u001b[0;34m\u001b[0m\u001b[0;34m\u001b[0m\u001b[0m\n\u001b[1;32m   1575\u001b[0m             raise munits.ConversionError('Failed to convert value(s) to axis '\n\u001b[0;32m-> 1576\u001b[0;31m                                          f'units: {x!r}') from e\n\u001b[0m\u001b[1;32m   1577\u001b[0m         \u001b[0;32mreturn\u001b[0m \u001b[0mret\u001b[0m\u001b[0;34m\u001b[0m\u001b[0;34m\u001b[0m\u001b[0m\n\u001b[1;32m   1578\u001b[0m \u001b[0;34m\u001b[0m\u001b[0m\n",
      "\u001b[0;31mConversionError\u001b[0m: Failed to convert value(s) to axis units: NaT"
     ]
    },
    {
     "data": {
      "image/png": "[encoded data removed]",
      "text/plain": [
       "<Figure size 432x288 with 1 Axes>"
      ]
     },
     "metadata": {
      "needs_background": "light"
     },
     "output_type": "display_data"
    }
   ],
   "source": [
    "scatter_plot(merge_data[merge_data.compass_heading > 350]['date_saved'], merge_data[merge_data.compass_heading > 350]['compass_heading'])"
   ]
  },
  {
   "cell_type": "code",
   "execution_count": null,
   "metadata": {
    "scrolled": true
   },
   "outputs": [],
   "source": [
    "scatter_plot(merge_data[merge_data.Wavelength==550]['date_saved'], merge_data[merge_data.Wavelength==550]['radiance'])"
   ]
  },
  {
   "cell_type": "code",
   "execution_count": null,
   "metadata": {},
   "outputs": [],
   "source": [
    "#\n",
    "# Define panels in terms of 550nm radiance is greater than 0.1. THis step is only a temporary fix\n",
    "# since this dataset does not have panel data in i (has to come from SR3500, which was recording\n",
    "# downwelling.\n",
    "#\n",
    "tmp_panels = merge_data[np.logical_and(merge_data.Wavelength==550, merge_data.radiance > 0.1)]"
   ]
  },
  {
   "cell_type": "code",
   "execution_count": null,
   "metadata": {},
   "outputs": [],
   "source": [
    "#all_panels = merge_data.loc[merge_data['date_saved'].isin(tmp_panels.date_saved)]"
   ]
  },
  {
   "cell_type": "code",
   "execution_count": null,
   "metadata": {},
   "outputs": [],
   "source": [
    "#scatter_plot(all_panels[all_panels.Wavelength==550].date_saved, all_panels[all_panels.Wavelength==550].radiance)"
   ]
  },
  {
   "cell_type": "code",
   "execution_count": null,
   "metadata": {},
   "outputs": [],
   "source": [
    "#\n",
    "# Select only spectra relevant to droniometer measurement.\n",
    "#\n",
    "\n",
    "# Make sure all latitudes are in the Southern Hemisphere.\n",
    "merge_data = merge_data[merge_data.Latitude < 0]\n",
    "\n",
    "# Only select spectra where the drone is close to stopped.\n",
    "# NOTE: one spectrum is missed for speeds lower than 0.5m/s in the AM dataset for 26NOV20.\n",
    "merge_data = merge_data[merge_data['speed(m/s)']<0.5]\n",
    "\n",
    "# Select strict time range for spectra to be included.\n",
    "merge_data = merge_data[merge_data.date_saved > datetime(2020,11,26,1,20,0)]\n",
    "merge_data = merge_data[merge_data.date_saved < datetime(2020,11,26,1,31,30)]\n",
    "\n",
    "#Ensure gimbal was always pointing down.\n",
    "merge_data = merge_data[merge_data.gimbal_pitch < 0]"
   ]
  },
  {
   "cell_type": "code",
   "execution_count": null,
   "metadata": {},
   "outputs": [],
   "source": [
    "all_grounds = merge_data[np.logical_and(merge_data.date_saved > datetime(2020,11,10,2,19,15), merge_data.date_saved < datetime(2020,12,10,2,24,20))]"
   ]
  },
  {
   "cell_type": "code",
   "execution_count": null,
   "metadata": {},
   "outputs": [],
   "source": [
    "all_grounds_spec = MakeSpecDF.make_spec_df(all_grounds)"
   ]
  },
  {
   "cell_type": "code",
   "execution_count": null,
   "metadata": {},
   "outputs": [],
   "source": [
    "FIG_GroundSpectra.FIG_ground_spectra(all_grounds_spec, outdir, field_data, fignum)\n",
    "fignum +=1"
   ]
  },
  {
   "cell_type": "code",
   "execution_count": null,
   "metadata": {},
   "outputs": [],
   "source": [
    "all_grounds.plot('Wavelength', 'DN')"
   ]
  },
  {
   "cell_type": "code",
   "execution_count": null,
   "metadata": {},
   "outputs": [],
   "source": [
    "plt.subplots(nrows=1, ncols=1, figsize=(20,5))\n",
    "plt.plot(merge_data[merge_data.Wavelength==550]['date_saved'], merge_data[merge_data.Wavelength==550]['radiance'])\n",
    "#plt.xlim(pd.datetime(2020,11,26,0,30), pd.datetime(2020,11,26,0,35))"
   ]
  },
  {
   "cell_type": "code",
   "execution_count": null,
   "metadata": {},
   "outputs": [],
   "source": [
    "def add_polar_points(merge_data):\n",
    "    #\n",
    "    # Mirror compass headings close to 0 degrees / 360 degrees around the 0 degree azimuth axis.\n",
    "    # This helps reduce gaps of data close to the 0 degree azimuth axis.\n",
    "    #\n",
    "    tmpdf1 = merge_data[merge_data.compass_heading < 2].copy()\n",
    "    tmpdf1.compass_heading = 360.0\n",
    "    tmpdf2 = merge_data[merge_data.compass_heading < 2].copy()\n",
    "    tmpdf2.compass_heading = 0.0\n",
    "    tmpdf3 = merge_data[merge_data.compass_heading > 358].copy()\n",
    "    tmpdf3.compass_heading = 0.0\n",
    "    tmpdf4 = merge_data[merge_data.compass_heading > 358].copy()\n",
    "    tmpdf4.compass_heading = 360.0\n",
    "    merge_data = pd.concat([merge_data, tmpdf1, tmpdf2, tmpdf3, tmpdf4])\n",
    "\n",
    "    #\n",
    "    # For all of the spectra with gimbal pitch less than -85.5 degees (ie. pointing straight down),\n",
    "    # fudge the compass heading so that the spectra are equally spaced out in azimuth. This reduces\n",
    "    # null areas, plus keeps the appearance symmetrical close to the apex of the polar plot.\n",
    "    #\n",
    "    for idx, item in enumerate(merge_data[merge_data.gimbal_pitch<-85.5].SpecNum.unique()):\n",
    "        merge_data.loc[merge_data.SpecNum==item, 'compass_heading'] = idx*360/len(merge_data[merge_data.gimbal_pitch<-85.5].SpecNum.unique())\n",
    "\n",
    "    return merge_data\n",
    "\n",
    "merge_data = add_polar_points(merge_data)"
   ]
  },
  {
   "cell_type": "code",
   "execution_count": null,
   "metadata": {},
   "outputs": [],
   "source": [
    "#\n",
    "# Plot in linear coordinates the compass heading of drone (x-axis) vs. gimbal pitch (y-axis) for upper plot.\n",
    "# Lower plot shows longitude/latitude of spectra\n",
    "#\n",
    "fig = plt.figure(figsize=(10,10))\n",
    "#plt.tight_layout(pad=2, w_pad=5, h_pad=10)\n",
    "ax1 = fig.add_subplot(211)#, projection='polar')\n",
    "ax2 = fig.add_subplot(212)\n",
    "ax1.scatter(merge_data[merge_data.Wavelength==550].compass_heading, merge_data[merge_data.Wavelength==550].gimbal_pitch, c=merge_data[merge_data.Wavelength==550].radiance, s=500)#, cmap='hsv', alpha=0.75)\n",
    "ax2.scatter(merge_data[merge_data.Wavelength==550].Longitude, merge_data[merge_data.Wavelength==550].Latitude, c=merge_data[merge_data.Wavelength==550].radiance)\n",
    "plt.savefig('polartest.png')"
   ]
  },
  {
   "cell_type": "code",
   "execution_count": null,
   "metadata": {},
   "outputs": [],
   "source": [
    "#\n",
    "# Plot time vs. drone speed and lat/lon coordinates, for testing purposes\n",
    "#\n",
    "\n",
    "fig = plt.figure(figsize=(10,10))\n",
    "#plt.tight_layout(pad=2, w_pad=5, h_pad=10)\n",
    "ax1 = fig.add_subplot(211)#, projection='polar')\n",
    "ax2 = fig.add_subplot(212)\n",
    "ax1.scatter(merge_data[merge_data.Wavelength==550].date_saved, merge_data[merge_data.Wavelength==550]['speed(m/s)'], c=merge_data[merge_data.Wavelength==550].radiance, s=500)#, cmap='hsv', alpha=0.75)\n",
    "ax2.scatter(merge_data[merge_data.Wavelength==550].Longitude, merge_data[merge_data.Wavelength==550].Latitude, c=merge_data[merge_data.Wavelength==550].radiance)\n",
    "ax2.set_xlim(148.8626, 148.8636)\n",
    "ax2.set_ylim(-35.1232, -35.1221)"
   ]
  },
  {
   "cell_type": "code",
   "execution_count": null,
   "metadata": {
    "scrolled": false
   },
   "outputs": [],
   "source": [
    "def polar_plot(azimuth, radial, value, outdir, field_data, fignum):\n",
    "\n",
    "    #\n",
    "    # Make polar axis plots. \n",
    "    # Upper shows filled in plane with azimuth = compass heading, radial = gimbal pitch\n",
    "    # Lower shows just the data points themselves.\n",
    "    #\n",
    "\n",
    "    # Size of regular grid\n",
    "    ny, nx = 90, 360\n",
    "\n",
    "    # Generate a regular grid to interpolate the data.\n",
    "    # Note polar plots have to be in units of radians, so azimuth goes from 0 to 2xPi and radial gos from -Pi/2 to 0\n",
    "    xi = np.linspace(0, 2.0*np.pi, nx)\n",
    "    yi = np.linspace(-0.5*np.pi, 0, ny)\n",
    "    Xi, Yi = np.meshgrid(xi, yi)\n",
    "\n",
    "    # Define \"points\" variable to be compass heading and gimbal pitch in radians\n",
    "    points = (np.deg2rad(azimuth), np.deg2rad(radial))\n",
    "\n",
    "    # Define value for each point to be the radiance value at 550nm\n",
    "    values = value\n",
    "\n",
    "    #Interpolate the data onto a grid that has points spaced by 1 degree. Add fill_value if you want zeroes plotted.\n",
    "    regridded = interpolate.griddata(points, values, (Xi, Yi), method='linear')  #, fill_value=0)\n",
    "\n",
    "    fig = plt.figure(figsize=(10,20))\n",
    "    ax1 = fig.add_subplot(211, projection='polar')\n",
    "    ax2 = fig.add_subplot(212, projection='polar')\n",
    "\n",
    "    ax1.contourf(xi, yi, regridded, 90)\n",
    "    ax2.scatter(np.deg2rad(azimuth), radial, c=value)\n",
    "\n",
    "    # Have to fudge the radial axis to display in units of degrees (azimuth axis does this automatically)\n",
    "    # So create ticketyboo variable manually and use that to plot both ticks and labels.\n",
    "    ax1.set_ylim(-0.5*np.pi, 0)\n",
    "    ticketyboo = np.linspace(-80, 0, 5).astype(int)\n",
    "    ax1.set_yticks(np.deg2rad(ticketyboo))\n",
    "    ax1.set_yticklabels(ticketyboo)\n",
    "\n",
    "    plt.savefig(outdir+field_data[0]+'_'+field_data[1]+'_'+field_data[2]+'_'+field_data[3]+'_'+'Fig'+str(fignum)+'PolarPlot.png', dpi=300)\n",
    "    \n",
    "polar_plot(merge_data[merge_data.Wavelength==550].compass_heading, merge_data[merge_data.Wavelength==550].gimbal_pitch, merge_data[merge_data.Wavelength==550].radiance, outdir, field_data, fignum)"
   ]
  },
  {
   "cell_type": "code",
   "execution_count": null,
   "metadata": {},
   "outputs": [],
   "source": [
    "allSR3500data = LoadSR3500Data.load_from_dir('/g/data/up71/projects/CalVal_Phase2/SR3500/26NOV20/RAW_DATA/SR3500/26_11_BRDF/3500_26_11/2020_Nov_26_pm/', calfile)"
   ]
  },
  {
   "cell_type": "code",
   "execution_count": null,
   "metadata": {},
   "outputs": [],
   "source": [
    "allSR3500data['radiance'] =allSR3500data['Rad_Target']/np.pi\n",
    "allSR3500data['Line'] = 1"
   ]
  },
  {
   "cell_type": "code",
   "execution_count": null,
   "metadata": {},
   "outputs": [],
   "source": [
    "allSR3500data.rename(columns={'Spec_number': 'SpecNum'}, inplace=True)"
   ]
  },
  {
   "cell_type": "code",
   "execution_count": null,
   "metadata": {},
   "outputs": [],
   "source": [
    "all_panels = allSR3500data.copy()\n",
    "all_panel_spec = MakeSpecDF.make_spec_df(all_panels)"
   ]
  },
  {
   "cell_type": "code",
   "execution_count": null,
   "metadata": {
    "scrolled": true
   },
   "outputs": [],
   "source": [
    "FIG_PanelRadiances.FIG_panel_radiances(all_panel_spec, outdir, field_data, fignum)\n",
    "\n",
    "fignum += 1"
   ]
  },
  {
   "cell_type": "code",
   "execution_count": null,
   "metadata": {},
   "outputs": [],
   "source": [
    "#all_panels.Longitude = all_panels.Longitude.fillna(148.862692)\n",
    "#all_panels.Latitude = all_panels.Latitude.fillna(-35.123277)\n",
    "\n",
    "#all_grounds.Longitude = all_grounds.Longitude.fillna(148.862692)\n",
    "#all_grounds.Latitude = all_grounds.Latitude.fillna(-35.123277)"
   ]
  },
  {
   "cell_type": "code",
   "execution_count": null,
   "metadata": {
    "scrolled": false
   },
   "outputs": [],
   "source": [
    "all_panels, all_grounds = SolarAngle.solar_angle(all_panels, all_grounds, field_data)"
   ]
  },
  {
   "cell_type": "code",
   "execution_count": null,
   "metadata": {},
   "outputs": [],
   "source": [
    "good_panels = all_panels.copy()\n",
    "good_grounds = all_grounds.copy()"
   ]
  },
  {
   "cell_type": "code",
   "execution_count": null,
   "metadata": {},
   "outputs": [],
   "source": [
    "#all_panels = PanelBRF.Panel_BRF(all_panels, field_data)"
   ]
  },
  {
   "cell_type": "code",
   "execution_count": null,
   "metadata": {},
   "outputs": [],
   "source": [
    "gpta, adta = CreateTimeRelativeDF.create_time_relative_dfs(all_panels, all_grounds)"
   ]
  },
  {
   "cell_type": "code",
   "execution_count": null,
   "metadata": {
    "scrolled": false
   },
   "outputs": [],
   "source": [
    "FIG_AllTimelines.FIG_all_timelines(gpta, adta, outdir, field_data, fignum)\n",
    "fignum += 1"
   ]
  },
  {
   "cell_type": "code",
   "execution_count": null,
   "metadata": {},
   "outputs": [],
   "source": [
    "all_panel_mean = all_panel_spec.mean(axis=1)\n",
    "\n",
    "gpta = FIG_NormalisedPanelsTimeline.normalise_spectra(all_panel_mean, all_panel_spec, gpta, field_data)\n",
    "\n",
    "FIG_NormalisedPanelsTimeline.FIG_normalised_panels_timeline(gpta, outdir, field_data, fignum)\n",
    "\n",
    "fignum += 1"
   ]
  },
  {
   "cell_type": "code",
   "execution_count": null,
   "metadata": {},
   "outputs": [],
   "source": [
    "gpta['Latitude'] = -35.123277\n",
    "gpta['Longitude'] = 148.862692\n",
    "adta['Latitude'] = -35.123277\n",
    "adta['Longitude'] = 148.862692"
   ]
  },
  {
   "cell_type": "code",
   "execution_count": null,
   "metadata": {},
   "outputs": [],
   "source": [
    "slope, intercept, coszenith = FIG_InsolationFit.FIG_insolation_fit(gpta, outdir, field_data, fignum)\n",
    "fignum += 1"
   ]
  },
  {
   "cell_type": "markdown",
   "metadata": {},
   "source": [
    "### Scale good panels to insolation curve\n",
    "\n",
    "Use the fitted insolation curve to determine individual offsets for each panel measurement and then divide<BR>\n",
    "off the differences. This effectively removes any individual variations in the absolute scaling of panel<BR>\n",
    "measurements."
   ]
  },
  {
   "cell_type": "code",
   "execution_count": null,
   "metadata": {},
   "outputs": [],
   "source": [
    "good_panels = ScalePanels.scale_panels(slope, intercept, coszenith, gpta, good_panels, field_data)"
   ]
  },
  {
   "cell_type": "markdown",
   "metadata": {},
   "source": [
    "### Scale ground spectra to insolation curve\n",
    "\n",
    "For each line, calculate the mean panel spectrum and determine the fit at the according mean Solar zenith angle.<BR>\n",
    "Then determine individual fits for all ground data within the line and apply the ratio of the panel mean fit to<BR>\n",
    "ground fit to the good_grounds dataframe."
   ]
  },
  {
   "cell_type": "code",
   "execution_count": null,
   "metadata": {
    "scrolled": true
   },
   "outputs": [],
   "source": [
    "good_grounds = ScaleGrounds.scale_grounds(good_panels, good_grounds, slope, intercept, field_data)"
   ]
  },
  {
   "cell_type": "markdown",
   "metadata": {},
   "source": [
    "### Define the K-factor\n",
    "\n",
    "This reads a standard file with a response curve for the detector, given an ideally white surface.<BR>\n",
    "Then \"k_f\" is defined for the K-factor."
   ]
  },
  {
   "cell_type": "code",
   "execution_count": null,
   "metadata": {},
   "outputs": [],
   "source": [
    "k_f = KFactor.k_factor(panel_dir, in_panel)"
   ]
  },
  {
   "cell_type": "code",
   "execution_count": null,
   "metadata": {},
   "outputs": [],
   "source": [
    "k_f = k_f[k_f.index <910]"
   ]
  },
  {
   "cell_type": "code",
   "execution_count": null,
   "metadata": {},
   "outputs": [],
   "source": [
    "good_panels = good_panels[good_panels.Wavelength < 910]"
   ]
  },
  {
   "cell_type": "markdown",
   "metadata": {},
   "source": [
    "### Re-Make Spectral Dataframes\n",
    "\n",
    "After re-scaling of both good_panels and good_grounds, recreate the good_panel_spec and<BR>\n",
    "good_grounds_spec dataframes"
   ]
  },
  {
   "cell_type": "code",
   "execution_count": null,
   "metadata": {},
   "outputs": [],
   "source": [
    "good_panel_spec = MakeSpecDF.make_spec_df(good_panels)\n",
    "good_grounds_spec = MakeSpecDF.make_spec_df(good_grounds)"
   ]
  },
  {
   "cell_type": "markdown",
   "metadata": {},
   "source": [
    "### Rename the first spectrum in ALL/GOOD panels to the correct name\n",
    "\n",
    "Rather than just \"radiance\", it will be named something like radiance1-0<BR>\n",
    "for the zeroth spectrum in the first line, for example.    "
   ]
  },
  {
   "cell_type": "code",
   "execution_count": null,
   "metadata": {},
   "outputs": [],
   "source": [
    "SpecRename.spec_rename(good_panel_spec, good_grounds_spec, firstGoodLine, firstGoodPanelSpec, firstGoodGroundSpec, field_data)"
   ]
  },
  {
   "cell_type": "code",
   "execution_count": null,
   "metadata": {},
   "outputs": [],
   "source": [
    "good_panel_spec = good_panel_spec.rename(columns={x:y for x,y in zip(good_panel_spec.columns,range(len(good_panel_spec.columns)))}).add_prefix('radiance1-')\n",
    "good_grounds_spec = good_grounds_spec.rename(columns={x:y for x,y in zip(good_grounds_spec.columns,range(len(good_grounds_spec.columns)))}).add_prefix('radiance1-')\n"
   ]
  },
  {
   "cell_type": "markdown",
   "metadata": {},
   "source": [
    "### Create dataframe with Reflectances"
   ]
  },
  {
   "cell_type": "code",
   "execution_count": null,
   "metadata": {
    "scrolled": false
   },
   "outputs": [],
   "source": [
    "all_refls = CreateReflectancesWithCosineDiffuser.create_reflectances(good_panels, good_panel_spec, good_grounds_spec, field_data)"
   ]
  },
  {
   "cell_type": "code",
   "execution_count": null,
   "metadata": {
    "scrolled": false
   },
   "outputs": [],
   "source": [
    "FIG_Reflectances.FIG_reflectances(good_panels, all_refls, colpac, outdir, field_data, fignum)\n",
    "fignum += 1"
   ]
  },
  {
   "cell_type": "code",
   "execution_count": null,
   "metadata": {},
   "outputs": [],
   "source": [
    "flameavg = all_refls.mean(axis=1)"
   ]
  },
  {
   "cell_type": "code",
   "execution_count": null,
   "metadata": {},
   "outputs": [],
   "source": [
    "asdavg = pd.read_pickle('PICKS/26NOV20_asd.pick')"
   ]
  },
  {
   "cell_type": "code",
   "execution_count": null,
   "metadata": {},
   "outputs": [],
   "source": [
    "plt.plot(flameavg)\n",
    "plt.plot(asdavg)\n",
    "plt.ylim(0,0.6)\n",
    "plt.xlim(340,915)\n",
    "plt.xlabel('Wavelength (nm)')\n",
    "plt.ylabel('Surface Reflectance')\n",
    "plt.legend(['Flame average spectrum', 'ASD average spectrum'])\n",
    "plt.savefig('comp.png')"
   ]
  },
  {
   "cell_type": "code",
   "execution_count": null,
   "metadata": {},
   "outputs": [],
   "source": [
    "all_panels[all_panels.Wavelength==350]"
   ]
  },
  {
   "cell_type": "code",
   "execution_count": null,
   "metadata": {},
   "outputs": [],
   "source": [
    "(flameavg/asdavg).plot(xlim=(350,910))#, ylim=(0.5,1))"
   ]
  },
  {
   "cell_type": "code",
   "execution_count": null,
   "metadata": {},
   "outputs": [],
   "source": [
    "scatter_plot(gpta['date_saved'], gpta['Averaged_Panels'])\n",
    "#plt.xlim(datetime(2020,5,4,0,15,30), datetime(2020,5,4,0,15,55))"
   ]
  },
  {
   "cell_type": "code",
   "execution_count": null,
   "metadata": {},
   "outputs": [],
   "source": [
    "scatter_plot(all_panels[all_panels.Wavelength==450].date_saved, all_panels[all_panels.Wavelength==450].radiance)\n",
    "#plt.xlim(datetime(2020,5,4,0,1), datetime(2020,5,4,0,20))\n",
    "#plt.ylim(52,57)"
   ]
  },
  {
   "cell_type": "markdown",
   "metadata": {},
   "source": [
    "### Apply weighted band responses to all reflectances"
   ]
  },
  {
   "cell_type": "code",
   "execution_count": null,
   "metadata": {},
   "outputs": [],
   "source": [
    "for i in range(910, 2501):\n",
    "    all_refls.loc[i] = all_refls.loc[909]"
   ]
  },
  {
   "cell_type": "code",
   "execution_count": null,
   "metadata": {
    "scrolled": true
   },
   "outputs": [],
   "source": [
    "ls_result_df, s2_result_df, ls_band, s2_band = ApplyWeights.apply_weights(f_name, all_refls, sat_resp, field_data)"
   ]
  },
  {
   "cell_type": "markdown",
   "metadata": {},
   "source": [
    "### Reformat band reflectances and apply to dataframe \"ground_bands\""
   ]
  },
  {
   "cell_type": "code",
   "execution_count": null,
   "metadata": {},
   "outputs": [],
   "source": [
    "ls_ground_bands = ReformatDF.reformat_df(good_grounds, ls_result_df)\n",
    "s2_ground_bands = ReformatDF.reformat_df(good_grounds, s2_result_df)"
   ]
  },
  {
   "cell_type": "markdown",
   "metadata": {},
   "source": [
    "# Figure \n",
    "\n",
    "### Plot band reflectances"
   ]
  },
  {
   "cell_type": "code",
   "execution_count": null,
   "metadata": {
    "scrolled": false
   },
   "outputs": [],
   "source": [
    "FIG_BandReflectances.FIG_band_reflectances(ls_ground_bands, ls_result_df, ls_band, s2_ground_bands, s2_result_df, s2_band, colpac, outdir, field_data, fignum)\n",
    "\n",
    "fignum += 1"
   ]
  },
  {
   "cell_type": "code",
   "execution_count": null,
   "metadata": {},
   "outputs": [],
   "source": [
    "FIG_ReflectancesBand.FIG_reflectances_band(ls_ground_bands, ls_result_df, ls_band, s2_ground_bands, s2_result_df, s2_band, good_panels, all_refls, colpac, outdir, field_data, fignum)\n",
    "\n",
    "fignum += 1"
   ]
  },
  {
   "cell_type": "code",
   "execution_count": null,
   "metadata": {
    "scrolled": true
   },
   "outputs": [],
   "source": [
    "ls_ground_bands"
   ]
  },
  {
   "cell_type": "code",
   "execution_count": null,
   "metadata": {},
   "outputs": [],
   "source": [
    "s2_ground_bands = add_polar_points(s2_ground_bands)"
   ]
  },
  {
   "cell_type": "code",
   "execution_count": null,
   "metadata": {},
   "outputs": [],
   "source": [
    "polar_plot(s2_ground_bands.compass_heading, s2_ground_bands.gimbal_pitch, s2_ground_bands.band3, outdir, field_data, fignum)"
   ]
  },
  {
   "cell_type": "markdown",
   "metadata": {},
   "source": [
    "# Figure\n",
    "\n",
    "### Histogram of all good spectra, plotted band-by-band\n",
    "\n",
    "This can be used to identify outlying ground spectra that can be added to bad_grounds in the second cell."
   ]
  },
  {
   "cell_type": "code",
   "execution_count": null,
   "metadata": {
    "scrolled": false
   },
   "outputs": [],
   "source": [
    "FIG_SpecHistogram.FIG_spec_histogram(ls_ground_bands, s2_ground_bands, outdir, field_data, fignum)\n",
    "fignum += 1"
   ]
  },
  {
   "cell_type": "markdown",
   "metadata": {},
   "source": [
    "### Outlying ground spectra\n",
    "\n",
    "Display the spectra with maximum and minimum values. These can be compared to the histograms above<BR>\n",
    "    to identify any outlying spectra that need to be identified as bad ground spectra."
   ]
  },
  {
   "cell_type": "code",
   "execution_count": null,
   "metadata": {},
   "outputs": [],
   "source": [
    "OutlyingSpec.outlying_spec(ls_ground_bands, s2_ground_bands, field_data)"
   ]
  },
  {
   "cell_type": "markdown",
   "metadata": {},
   "source": [
    "### Determine Solar angle\n",
    "\n",
    "Based on the spectrum Latitude, Longitude and time stamp, calculate the angle of<BR>\n",
    "the Sun, with respect to the zenith. Append this number to the \"ground_bands\" dataframe."
   ]
  },
  {
   "cell_type": "code",
   "execution_count": null,
   "metadata": {
    "scrolled": true
   },
   "outputs": [],
   "source": [
    "from SRC.SolarAngle import solang\n",
    "ls_ground_bands['Solar_angle'] = ls_ground_bands.apply(solang, axis=1)\n",
    "s2_ground_bands['Solar_angle'] = s2_ground_bands.apply(solang, axis=1)"
   ]
  },
  {
   "cell_type": "markdown",
   "metadata": {},
   "source": [
    "### Determine BRDF parameters\n",
    "Given the latitude an longitude of the field site, determine the BRDF parameters that will be applied."
   ]
  },
  {
   "cell_type": "code",
   "execution_count": null,
   "metadata": {
    "scrolled": true
   },
   "outputs": [],
   "source": [
    "brdf_data = PrintBRDF.print_brdf(merge_data, field_data)"
   ]
  },
  {
   "cell_type": "markdown",
   "metadata": {},
   "source": [
    "### BRDF Calculation\n",
    "\n",
    "The following script is adapted from FORTRAN code that will calculate the adjusted ASD measurement to 45$^\\circ$. This is derived from \"MODIS BRDF / Albedo Product: Algorithm Theoretical basis Docuement Version 5.0\" by Strahler et al. (1999).\n",
    "\n",
    "What follows is a key to the variables used in this code, compared to the variables and equations in the document:\n",
    "\n",
    "hb and br = h/b and b/r . . . . . . . . . . . . . . . crown shape parameters, respectively.<BR>\n",
    "RL_brdf = R($\\theta, \\vartheta, \\phi, \\Lambda$). . . . . . . . . . . . . . (37)<BR>\n",
    "solar = $\\theta$ . . . . . . . . . . . . . . . . . . . . . . . . . . solar zenith angle<BR>\n",
    "view = $\\xi$ . . . . . . . . . . . . . . . . . . . . . . . . . . .view zenith angle<BR>\n",
    "ra = $\\phi$ . . . . . . . . . . . . . . . . . . . . . . . . . . . . view-sun relative azimuth angle<BR>\n",
    "cosxi = cos $\\xi^\\prime$ . . . . . . . . . . . . . . . . . . . . . . (43)<BR>\n",
    "rs_thick = K$_{vol}$ = RossThick kernel . . . . . . (38)<BR>\n",
    "d_li2 = D$^2$ . . . . . . . . . . . . . . . . . . . . . . . . . (42)<BR>\n",
    "x_li = tan$\\theta^\\prime$ tan$\\vartheta^\\prime$ sin$\\phi$ . . . . . . . . . . . . . . .(41) (part of)<BR>\n",
    "cosl = cos $t$ . . . . . . . . . . . . . . . . . . . . . . . . (41)<BR>\n",
    "l_li = $t$ . . . . . . . . . . . . . . . . . . . . . . . . . . . . .constrained such that $-1 \\leq t \\leq 1$<BR>\n",
    "o_li = O($\\theta, \\vartheta, \\phi$) . . . . . . . . . . . . . . . . . . . .(40)<BR>\n",
    "li_sparse = K$_{geo}$ . . . . . . . . . . . . . . . . . . . . (39)<BR><BR><BR>\n",
    "\n",
    "Equations used for the Ross-Li BRDF model:\n",
    "\n",
    "R($\\theta, \\vartheta, \\phi, \\Lambda$) = $f_{iso}(\\Lambda) + f_{vol}(\\Lambda)\\,K_{vol}(\\theta, \\vartheta, \\phi) + f_{geo}(\\Lambda)\\,K_{geo}(\\theta, \\vartheta, \\phi)$ . . . . . . . . (37)\n",
    "\n",
    "$K_{vol} = k_{RT} = \\frac{(\\pi/2 - \\xi)\\rm{cos}\\,\\xi + \\rm{sin}\\,\\xi}{\\rm{cos}\\,\\theta + \\rm{cos}\\,\\vartheta} - \\frac{\\pi}{4}$ . . . . . . . . . . . . . . . . . . . . . . . . . . . . . . . . . . . . . . (38)\n",
    "    \n",
    "$K_{geo} = k_{LSR} = O(\\theta, \\vartheta, \\phi) - {\\rm sec}\\,\\theta^\\prime - {\\rm sec}\\,\\vartheta^\\prime + \\frac{1}{2} (1 + \\rm{cos}\\,\\xi^\\prime)\\, \\rm{sec}\\,\\theta^\\prime \\rm{sec}\\,\\vartheta^\\prime$ . . . (39)\n",
    "\n",
    "$O = \\frac{1}{\\pi}(t - \\rm{sin}\\,t\\,\\,\\rm{cos}\\,t)(\\rm{sec}\\,\\theta^\\prime + \\rm{sec}\\,\\vartheta^\\prime)$ . . . . . . . . . . . . . . . . . . . . . . . . . . . . . . . . . . (40)\n",
    "\n",
    "$\\rm{cos}\\,t = \\frac{h}{b}\\frac{\\sqrt{D^2 + (\\rm{tan}\\,\\theta^\\prime\\,\\,\\rm{tan}\\,\\vartheta^\\prime\\,\\,\\rm{sin}\\,\\phi)^2}}{\\rm{sec}\\,\\theta^\\prime + \\rm{sec}\\,\\vartheta^\\prime}$ . . . . . . . . . . . . . . . . . . . . . . . . . . . . . . . . . . . . . . . . (41)\n",
    "\n",
    "$D = \\sqrt{\\rm{tan}^2\\,\\theta^\\prime + \\rm{tan}^2\\,\\vartheta^\\prime - 2\\,\\rm{tan}\\,\\theta^\\prime\\,\\rm{tan}\\,\\vartheta^\\prime\\,\\rm{cos}\\,\\phi}$ . . . . . . . . . . . . . . . . . . . . . . . . . . (42)\n",
    "\n",
    "$\\rm{cos}\\,\\xi^\\prime = \\rm{cos}\\,\\theta^\\prime\\,\\rm{cos}\\,\\vartheta^\\prime + \\rm{sin}\\,\\theta^\\prime\\,\\rm{sin}\\,\\vartheta^\\prime\\,\\rm{cos}\\,\\phi$ . . . . . . . . . . . . . . . . . . . . . . . . . . . . . . .(43)\n",
    "\n",
    "$\\theta^\\prime = \\rm{tan}^{-1}(\\frac{b}{r}\\rm{tan}\\,\\theta)\\,\\vartheta^\\prime = \\rm{tan}^{-1}(\\frac{b}{r}\\rm{tan}\\,\\vartheta)$ . . . . . . . . . . . . . . . . . . . . . . . . . . . . . . . . . .(44)"
   ]
  },
  {
   "cell_type": "code",
   "execution_count": null,
   "metadata": {
    "scrolled": false
   },
   "outputs": [],
   "source": [
    "ls_ground_brdf, s2_ground_brdf, hb, br = BRDF.ReadAndCalc(brdf_data, ls_ground_bands, s2_ground_bands, field_data)"
   ]
  },
  {
   "cell_type": "markdown",
   "metadata": {},
   "source": [
    "### Choose bands for Landsat 8 and Sentinel satellite data"
   ]
  },
  {
   "cell_type": "code",
   "execution_count": null,
   "metadata": {},
   "outputs": [],
   "source": [
    "from SRC.ApplyWeights import get_spectrum_curve\n",
    "\n",
    "band_nn = get_spectrum_curve(f_name)\n",
    "senti_bands = [1,2,3,4,5,6,7,8,'8a',11,12]\n",
    "ls8_bands = [1,2,3,4,5,6,7]\n",
    "\n",
    "if field_data[3] == 'Landsat8':\n",
    "    band_min = [band_nn['band'+str(i)][:, 0].min() for i in ls8_bands]\n",
    "    band_max = [band_nn['band'+str(i)][:, 0].max() for i in ls8_bands]\n",
    "\n",
    "elif field_data[3] == 'Sentinel2a' or field_data[3] == 'Sentinel2b':\n",
    "    band_min = [band_nn['band'+str(i)][:, 0].min() for i in senti_bands]\n",
    "    band_max = [band_nn['band'+str(i)][:, 0].max() for i in senti_bands]\n",
    "\n",
    "else:\n",
    "    print('Satellite name should be one of Landsat8 or Sentinel. I got', field_data[3])"
   ]
  },
  {
   "cell_type": "markdown",
   "metadata": {},
   "source": [
    "# Figure \n",
    "\n",
    "### Plot satellite band extents against median ground spectrum\n",
    "\n",
    "This plot will show where the satellite bands fall, with respect to the spectrum<BR>\n",
    "and in particular, with respect to the atmospheric absorbtion features."
   ]
  },
  {
   "cell_type": "code",
   "execution_count": null,
   "metadata": {},
   "outputs": [],
   "source": [
    "FIG_BandExtents.FIG_band_extents(all_refls, band_min, band_max, outdir, field_data, fignum)\n",
    "fignum += 1"
   ]
  },
  {
   "cell_type": "code",
   "execution_count": null,
   "metadata": {},
   "outputs": [],
   "source": [
    "ls_ground_brdf_ASD = pd.read_pickle('PICKS/10NOV20_ls_ground_brdf.pick')\n",
    "s2_ground_brdf_ASD = pd.read_pickle('PICKS/10NOV20_s2_ground_brdf.pick')"
   ]
  },
  {
   "cell_type": "code",
   "execution_count": null,
   "metadata": {},
   "outputs": [],
   "source": [
    "scatter_plot(s2_ground_brdf.Longitude, s2_ground_brdf.Latitude)\n",
    "scatter_plot(s2_ground_brdf_ASD.Longitude, s2_ground_brdf_ASD.Latitude)\n",
    "plt.xlim(148.8625, 148.8640)\n",
    "plt.ylim(-35.1235, -35.1222)"
   ]
  },
  {
   "cell_type": "code",
   "execution_count": null,
   "metadata": {},
   "outputs": [],
   "source": [
    "ls_fudate = ls_ground_brdf_ASD.copy()\n",
    "s2_fudate = s2_ground_brdf_ASD.copy()\n",
    "ls_fudate.date_saved = datetime(2020,11,26)\n",
    "s2_fudate.date_saved = datetime(2020,11,26)"
   ]
  },
  {
   "cell_type": "markdown",
   "metadata": {},
   "source": [
    "### Query Satellite data\n",
    "\n",
    "Retrieve xarrays for satellite data, based on which satellite, query area and time.<BR>\n",
    "sat_array will contain all band data<BR>\n",
    "sat_bigarray will be a larger version of sat_array, which can be used for context plotting.<BR>\n",
    "ls8_usgs_array will contain the USGS Level 2 product of Landsat 8 data.<BR>\n",
    "ls8_usgs_bigarray will be the larger version of ls8_usgs_array.<P>\n",
    "    \n",
    "BRDF data is sourced/applied from satellite yaml file to match field and satellite processing for Landsat 8.<BR>\n",
    "ground_WSbrdf is the brdf calculated for the whole of scene (based on satellite yaml file)."
   ]
  },
  {
   "cell_type": "code",
   "execution_count": null,
   "metadata": {
    "scrolled": true
   },
   "outputs": [],
   "source": [
    "ls_sat_array, ls_sat_bigarray, s2_sat_array, s2_sat_bigarray, ls8_usgs_array, ls8_usgs_bigarray, solar_zenith,\\\n",
    "ls_query, s2_query, ls_dc, s2_dc, ls_ground_WSbrdf = QueryAndCreate.query_and_create(ls_ground_brdf_ASD, s2_ground_brdf_ASD, ls_ground_bands, s2_ground_bands, field_data, Corners, RockWalk, StartCorner)"
   ]
  },
  {
   "cell_type": "markdown",
   "metadata": {},
   "source": [
    "# Figure \n",
    "\n",
    "### Plot relative locations of field and satellite data"
   ]
  },
  {
   "cell_type": "code",
   "execution_count": null,
   "metadata": {
    "scrolled": false
   },
   "outputs": [],
   "source": [
    "ls_xloc, s2_xloc = FIG_SatFieldLocations.FIG_sat_field_locations(ls_ground_brdf, s2_ground_brdf, ls_sat_array, s2_sat_array, colpac, outdir, field_data, fignum)\n",
    "fignum +=1"
   ]
  },
  {
   "cell_type": "code",
   "execution_count": null,
   "metadata": {
    "scrolled": false
   },
   "outputs": [],
   "source": [
    "ls_ASD_xloc, s2_ASD_xloc = FIG_SatFieldLocations.FIG_sat_field_locations(ls_ground_brdf_ASD, s2_ground_brdf_ASD, ls_sat_array, s2_sat_array, colpac, outdir, field_data, fignum)\n",
    "fignum +=1"
   ]
  },
  {
   "cell_type": "markdown",
   "metadata": {},
   "source": [
    "### Create Field full band xarray\n",
    "\n",
    "The field xarray is based on the pixel locations of the satellite data, where each pixel<BR>\n",
    "    contains an average of all field data measurements that fall within the pixel."
   ]
  },
  {
   "cell_type": "code",
   "execution_count": null,
   "metadata": {},
   "outputs": [],
   "source": [
    "ls_field_array, s2_field_array = CreateFieldFromSat.create_field_from_sat(ls_sat_array, s2_sat_array, ls_ground_brdf, s2_ground_brdf, ls_xloc, s2_xloc, field_data)\n",
    "ls_field_WSarray, dummy = CreateFieldFromSat.create_field_from_sat(ls_sat_array, s2_sat_array, ls_ground_WSbrdf, s2_ground_brdf, ls_xloc, s2_xloc, field_data)"
   ]
  },
  {
   "cell_type": "code",
   "execution_count": null,
   "metadata": {},
   "outputs": [],
   "source": [
    "ls_field_ASD_array, s2_field_ASD_array = CreateFieldFromSat.create_field_from_sat(ls_sat_array, s2_sat_array, ls_ground_brdf_ASD, s2_ground_brdf_ASD, ls_ASD_xloc, s2_ASD_xloc, field_data)"
   ]
  },
  {
   "cell_type": "markdown",
   "metadata": {},
   "source": [
    "# Figure \n",
    "\n",
    "### Plot large-area context RGB array for Satellite data"
   ]
  },
  {
   "cell_type": "code",
   "execution_count": null,
   "metadata": {
    "scrolled": false
   },
   "outputs": [],
   "source": [
    "if field_data[3] == 'Landsat8':\n",
    "    FIG_SatBigRGB.FIG_sat_bigRGB(ls_sat_array, ls_sat_bigarray, outdir, field_data, fignum)\n",
    "else:\n",
    "    FIG_SatBigRGB.FIG_sat_bigRGB(s2_sat_array, s2_sat_bigarray, outdir, field_data, fignum)\n",
    "fignum += 1"
   ]
  },
  {
   "cell_type": "markdown",
   "metadata": {},
   "source": [
    "# Figure \n",
    "\n",
    "### Plot RGB array for Satellite data"
   ]
  },
  {
   "cell_type": "code",
   "execution_count": null,
   "metadata": {},
   "outputs": [],
   "source": [
    "if field_data[3] == 'Landsat8':\n",
    "    FIG_SatRGB.FIG_sat_RGB(ls_sat_array, outdir, field_data, fignum)\n",
    "else:\n",
    "    FIG_SatRGB.FIG_sat_RGB(s2_sat_array, outdir, field_data, fignum)\n",
    "fignum += 1"
   ]
  },
  {
   "cell_type": "markdown",
   "metadata": {},
   "source": [
    "# Figure \n",
    "\n",
    "### Plot RGB array for Field data"
   ]
  },
  {
   "cell_type": "code",
   "execution_count": null,
   "metadata": {},
   "outputs": [],
   "source": [
    "if field_data[3] == 'Landsat8':\n",
    "    FIG_FieldRGB.FIG_field_RGB(ls_field_WSarray, outdir, field_data, fignum)\n",
    "else:\n",
    "    FIG_FieldRGB.FIG_field_RGB(s2_field_array, outdir, field_data, fignum)\n",
    "fignum += 1"
   ]
  },
  {
   "cell_type": "code",
   "execution_count": null,
   "metadata": {},
   "outputs": [],
   "source": [
    "if field_data[3] == 'Landsat8':\n",
    "    FIG_FieldRGB.FIG_field_RGB(ls_field_WSarray, outdir, field_data, fignum)\n",
    "else:\n",
    "    FIG_FieldRGB.FIG_field_RGB(s2_field_ASD_array, outdir, field_data, fignum)\n",
    "fignum += 1"
   ]
  },
  {
   "cell_type": "markdown",
   "metadata": {},
   "source": [
    "## Figure\n",
    "### Variance of satellite data\n",
    "\n",
    "Band-by-band plots of the ratio of satellite data, divided by the mean, for each band are shown.\n",
    "The title also lists the min, max and mean variance. Variance is defined as the ratio of the standard\n",
    "deviation divided by the mean, for each band. The mean variance should typically be less than 5%."
   ]
  },
  {
   "cell_type": "code",
   "execution_count": null,
   "metadata": {
    "scrolled": false
   },
   "outputs": [],
   "source": [
    "if field_data[3] == 'Landsat8':\n",
    "    variance = FIG_SatBands.FIG_sat_bands(ls_sat_array, ls_field_WSarray, outdir, field_data, fignum)\n",
    "else:\n",
    "    variance = FIG_SatBands.FIG_sat_bands(s2_sat_array, s2_field_array, outdir, field_data, fignum)\n",
    "fignum += 1"
   ]
  },
  {
   "cell_type": "markdown",
   "metadata": {},
   "source": [
    "# Figure\n",
    "\n",
    "### Plot ratio arrays for each band\n",
    "\n",
    "Each panel shows the ratio of satellite/field data."
   ]
  },
  {
   "cell_type": "code",
   "execution_count": null,
   "metadata": {},
   "outputs": [],
   "source": [
    "if field_data[3] == 'Landsat8':\n",
    "    FIG_RatioArrays.FIG_ratio_arrays(ls_sat_array, ls_field_WSarray, outdir, field_data, fignum)\n",
    "else:\n",
    "    FIG_RatioArrays.FIG_ratio_arrays(s2_field_ASD_array, s2_field_array, outdir, field_data, fignum)\n",
    "fignum += 1"
   ]
  },
  {
   "cell_type": "markdown",
   "metadata": {},
   "source": [
    "### Create a statistics dataframe, comparing satellite and field data"
   ]
  },
  {
   "cell_type": "code",
   "execution_count": null,
   "metadata": {
    "scrolled": true
   },
   "outputs": [],
   "source": [
    "ls_fstat_df, s2_fstat_df = CreateStats.create_stats(ls_sat_array, s2_sat_array, ls_ground_brdf, s2_ground_brdf, field_data)\n",
    "ls_fstat_WSdf, dummy = CreateStats.create_stats(ls_sat_array, s2_sat_array, ls_ground_WSbrdf, s2_ground_brdf, field_data)\n",
    "\n",
    "if field_data[6] == 'USGS':\n",
    "    ls_fstat_usgs_df, dummy = CreateStats.create_stats(ls8_usgs_array, s2_sat_array, ls_ground_brdf, s2_ground_brdf, field_data)\n",
    "else:\n",
    "    ls_fstat_usgs_df = 0"
   ]
  },
  {
   "cell_type": "code",
   "execution_count": null,
   "metadata": {
    "scrolled": true
   },
   "outputs": [],
   "source": [
    "ls_fstat_ASD_df, s2_fstat_ASD_df = CreateStats.create_stats(ls_sat_array, s2_sat_array, ls_ground_brdf_ASD, s2_ground_brdf_ASD, field_data)"
   ]
  },
  {
   "cell_type": "code",
   "execution_count": null,
   "metadata": {},
   "outputs": [],
   "source": [
    "s2_fstat_ASD_df"
   ]
  },
  {
   "cell_type": "markdown",
   "metadata": {},
   "source": [
    "## Create a statistics dataframe, comparing satellite and field data,\n",
    "for only those satellite pixels which overlap with at least one field data position."
   ]
  },
  {
   "cell_type": "code",
   "execution_count": null,
   "metadata": {},
   "outputs": [],
   "source": [
    "ls_finner_df, s2_finner_df = CreateSubStats.create_SUB_stats(ls_sat_array, s2_sat_array, ls_field_array, s2_field_array, ls_ground_brdf, s2_ground_brdf, ls_fstat_df, s2_fstat_df, field_data)\n",
    "ls_finner_WSdf, dummy = CreateSubStats.create_SUB_stats(ls_sat_array, s2_sat_array, ls_field_WSarray, s2_field_array, ls_ground_WSbrdf, s2_ground_brdf, ls_fstat_WSdf, s2_fstat_df, field_data)\n",
    "ls_finner_ASD_df, s2_finner_ASD_df = CreateSubStats.create_SUB_stats(ls_sat_array, s2_sat_array, ls_field_ASD_array, s2_field_ASD_array, ls_ground_brdf_ASD, s2_ground_brdf_ASD, ls_fstat_ASD_df, s2_fstat_ASD_df, field_data)\n"
   ]
  },
  {
   "cell_type": "markdown",
   "metadata": {},
   "source": [
    "# Figure\n",
    "\n",
    "### Plot comparison spectra of satellite and field data, on a pixel-by-pixel basis\n",
    "\n",
    "Error bars are shown for the satellite and field data, based on the standard deviation of the pixels\n",
    "within the field. The black line shows the satellite data, which has been averaged over all pixels that satisfy the Datacube query ie. all pixels shown in Figure 11. The orange line shows satellite data which has been averaged over only those pixels that overlap with at least one field measurement."
   ]
  },
  {
   "cell_type": "code",
   "execution_count": null,
   "metadata": {},
   "outputs": [],
   "source": [
    "scatter_plot(s2_field_array.nbart_blue, s2_field_ASD_array.nbart_blue)\n",
    "plt.xlim(100,500)\n",
    "plt.ylim(100,500)"
   ]
  },
  {
   "cell_type": "code",
   "execution_count": null,
   "metadata": {},
   "outputs": [],
   "source": [
    "plorp = s2_field_array/s2_field_ASD_array"
   ]
  },
  {
   "cell_type": "code",
   "execution_count": null,
   "metadata": {},
   "outputs": [],
   "source": [
    "for i in plorp:\n",
    "    print(round(float(plorp[i].mean().values), 3), round(float(plorp[i].std().values), 3))"
   ]
  },
  {
   "cell_type": "code",
   "execution_count": null,
   "metadata": {},
   "outputs": [],
   "source": [
    "both = pd.merge(s2_fstat_df, s2_fstat_ASD_df, on=s2_fstat_df.index)"
   ]
  },
  {
   "cell_type": "code",
   "execution_count": null,
   "metadata": {},
   "outputs": [],
   "source": [
    "both.set_index('key_0', inplace=True)"
   ]
  },
  {
   "cell_type": "code",
   "execution_count": null,
   "metadata": {},
   "outputs": [],
   "source": [
    "both"
   ]
  },
  {
   "cell_type": "code",
   "execution_count": null,
   "metadata": {},
   "outputs": [],
   "source": [
    "both['fratio'] = both['Field_mean_x']/both['Field_mean_y']"
   ]
  },
  {
   "cell_type": "code",
   "execution_count": null,
   "metadata": {},
   "outputs": [],
   "source": [
    "both"
   ]
  },
  {
   "cell_type": "code",
   "execution_count": null,
   "metadata": {
    "scrolled": false
   },
   "outputs": [],
   "source": [
    "if field_data[3] == 'Landsat8':\n",
    "    FIG_SubSatFieldBands.FIG_SUB_sat_field_bands(ls_sat_array, ls_fstat_WSdf, ls_finner_WSdf, outdir, field_data, fignum)\n",
    "else:\n",
    "    FIG_SubSatFieldBands.FIG_SUB_sat_field_bands(s2_field_array, s2_fstat_df, s2_finner_df, outdir, field_data, fignum)\n",
    "fignum += 1"
   ]
  },
  {
   "cell_type": "code",
   "execution_count": null,
   "metadata": {
    "scrolled": true
   },
   "outputs": [],
   "source": [
    "if field_data[3] == 'Landsat8':\n",
    "    FIG_SatFieldBands.FIG_sat_field_bands(ls_sat_array, ls_fstat_WSdf, ls_finner_WSdf, output, field_data, fignum)\n",
    "else:\n",
    "    FIG_SatFieldBands.FIG_sat_field_bands(s2_sat_array, s2_fstat_df, s2_finner_df, outdir, field_data, fignum)\n",
    "fignum += 1"
   ]
  },
  {
   "cell_type": "markdown",
   "metadata": {},
   "source": [
    "# Figure\n",
    "\n",
    "### Comparison plot of Field and satellite data\n",
    "\n",
    "Plot shows a pixel-by-pixel comparison of all pixels where field data exists.<BR> \n",
    "Different band data are shown in different colours and different symbols."
   ]
  },
  {
   "cell_type": "code",
   "execution_count": null,
   "metadata": {
    "scrolled": false
   },
   "outputs": [],
   "source": [
    "if field_data[3] == 'Landsat8':\n",
    "    FIG_SatFieldScatterCompare.FIG_sat_field_scatter_compare(ls_sat_array, ls_field_WSarray, plot_scale, output, field_data, fignum)\n",
    "else:\n",
    "    FIG_SatFieldScatterCompare.FIG_sat_field_scatter_compare(s2_sat_array, s2_field_array, plot_scale, outdir, field_data, fignum)\n",
    "fignum += 1"
   ]
  },
  {
   "cell_type": "code",
   "execution_count": null,
   "metadata": {
    "scrolled": false
   },
   "outputs": [],
   "source": [
    "if field_data[3] == 'Landsat8':\n",
    "    FIG_SatFieldAvgScatterCompare.FIG_sat_field_avg_scatter_compare(ls_sat_array, ls_field_WSarray, plot_scale, ls_fstat_WSdf, output, field_data, fignum)\n",
    "else:\n",
    "    FIG_SatFieldAvgScatterCompare.FIG_sat_field_avg_scatter_compare(s2_sat_array, s2_field_array, plot_scale, s2_fstat_df, outdir, field_data, fignum)\n",
    "fignum += 1"
   ]
  },
  {
   "cell_type": "markdown",
   "metadata": {},
   "source": [
    "## Print out summary data sheet"
   ]
  },
  {
   "cell_type": "code",
   "execution_count": null,
   "metadata": {},
   "outputs": [],
   "source": [
    "if field_data[3] == 'Landsat8':\n",
    "    PrintSheet.print_sheet(ls_ground_WSbrdf, ls_sat_array, ls_fstat_WSdf, indir, output, field_data, Corners, RockWalk, StartCorner, variance, ls_query, ls_dc)\n",
    "else:\n",
    "    PrintSheet.print_sheet(s2_ground_brdf, s2_sat_array, s2_fstat_df, indir, outdir, field_data, Corners, RockWalk, StartCorner, variance, s2_query, s2_dc)"
   ]
  },
  {
   "cell_type": "code",
   "execution_count": null,
   "metadata": {},
   "outputs": [],
   "source": [
    "OutputCSVs.output_csvs(ls_fstat_ASD_df, s2_fstat_df, ls_sat_array, s2_sat_array, ls_ground_brdf_ASD, s2_ground_brdf_ASD, field_data)"
   ]
  },
  {
   "cell_type": "markdown",
   "metadata": {},
   "source": [
    "## How long did this notebook take to run?"
   ]
  },
  {
   "cell_type": "code",
   "execution_count": null,
   "metadata": {
    "scrolled": true
   },
   "outputs": [],
   "source": [
    "import datetime\n",
    "print(\"This Notebook took \", str(datetime.timedelta(seconds=int((time.time() - start_time)))), \"(h:m:s) to run\")"
   ]
  },
  {
   "cell_type": "code",
   "execution_count": null,
   "metadata": {},
   "outputs": [],
   "source": [
    "in_panel_dir = '../MULLION/10NOV20/asd_panels/'\n",
    "plop = LoadASDData.load_from_dir(in_panel_dir, '.asd.rad.txt', 1, Corners)"
   ]
  },
  {
   "cell_type": "code",
   "execution_count": null,
   "metadata": {},
   "outputs": [],
   "source": [
    "plop.set_index('Wavelength', inplace=True)"
   ]
  },
  {
   "cell_type": "code",
   "execution_count": null,
   "metadata": {},
   "outputs": [],
   "source": [
    "plop[plop.Wavelength==550].plot('date_saved', 'radiance')"
   ]
  },
  {
   "cell_type": "code",
   "execution_count": null,
   "metadata": {},
   "outputs": [],
   "source": [
    "plop = plop.rename(columns={'Spec_number': 'SpecNum'})"
   ]
  },
  {
   "cell_type": "code",
   "execution_count": null,
   "metadata": {},
   "outputs": [],
   "source": [
    "plop2 = MakeSpecDF.make_spec_df(plop)\n"
   ]
  },
  {
   "cell_type": "code",
   "execution_count": null,
   "metadata": {},
   "outputs": [],
   "source": [
    "medplop = plop2.median(axis=1)"
   ]
  },
  {
   "cell_type": "code",
   "execution_count": null,
   "metadata": {},
   "outputs": [],
   "source": [
    "plop3 = plop2.div(medplop, axis=0)"
   ]
  },
  {
   "cell_type": "code",
   "execution_count": null,
   "metadata": {},
   "outputs": [],
   "source": [
    "plop3.plot(ylim=(0.99, 1.01), legend=False)"
   ]
  },
  {
   "cell_type": "code",
   "execution_count": null,
   "metadata": {},
   "outputs": [],
   "source": [
    "plop3[np.logical_and(plop3.index>500, plop3.index<600)].mean(axis=0).plot()"
   ]
  },
  {
   "cell_type": "code",
   "execution_count": null,
   "metadata": {},
   "outputs": [],
   "source": [
    "plt = plop[plop.Wavelength==550].plot('date_saved', 'radiance', legend=False)\n",
    "fig = plt.get_figure()\n",
    "fig.savefig('asd_panel.png')"
   ]
  },
  {
   "cell_type": "code",
   "execution_count": null,
   "metadata": {},
   "outputs": [],
   "source": [
    "plt = all_grounds[all_grounds.Wavelength==550].plot('date_saved', 'radiance', legend=False)\n",
    "fig = plt.get_figure()\n",
    "fig.savefig('flame_panel.png')"
   ]
  },
  {
   "cell_type": "code",
   "execution_count": null,
   "metadata": {},
   "outputs": [],
   "source": [
    "scatter_plot(all_grounds[all_grounds.Wavelength==550].date_saved, all_grounds[all_grounds.Wavelength==550].radiance)"
   ]
  },
  {
   "cell_type": "code",
   "execution_count": null,
   "metadata": {},
   "outputs": [],
   "source": [
    "plop.Longitude = plop.Longitude.fillna(148.862692)\n",
    "plop.Latitude = plop.Latitude.fillna(-35.123277)\n",
    "plop, all_grounds = SolarAngle.solar_angle(plop, all_grounds, field_data)\n",
    "plop = PanelBRF.Panel_BRF(plop, field_data)"
   ]
  },
  {
   "cell_type": "code",
   "execution_count": null,
   "metadata": {},
   "outputs": [],
   "source": [
    "all_panel_spec = MakeSpecDF.make_spec_df(plop)"
   ]
  },
  {
   "cell_type": "code",
   "execution_count": null,
   "metadata": {},
   "outputs": [],
   "source": [
    "gpta, adta = CreateTimeRelativeDF.create_time_relative_dfs(plop, all_grounds)"
   ]
  },
  {
   "cell_type": "code",
   "execution_count": null,
   "metadata": {
    "scrolled": false
   },
   "outputs": [],
   "source": [
    "FIG_AllTimelines.FIG_all_timelines(gpta, adta, outdir, field_data, fignum)\n",
    "fignum += 1"
   ]
  },
  {
   "cell_type": "code",
   "execution_count": null,
   "metadata": {},
   "outputs": [],
   "source": [
    "all_panel_mean = all_panel_spec.mean(axis=1)\n",
    "\n",
    "gpta = FIG_NormalisedPanelsTimeline.normalise_spectra(all_panel_mean, all_panel_spec, gpta, field_data)\n",
    "\n",
    "FIG_NormalisedPanelsTimeline.FIG_normalised_panels_timeline(gpta, outdir, field_data, fignum)\n",
    "\n",
    "fignum += 1"
   ]
  }
 ],
 "metadata": {
  "kernelspec": {
   "display_name": "Python 3",
   "language": "python",
   "name": "python3"
  },
  "language_info": {
   "codemirror_mode": {
    "name": "ipython",
    "version": 3
   },
   "file_extension": ".py",
   "mimetype": "text/x-python",
   "name": "python",
   "nbconvert_exporter": "python",
   "pygments_lexer": "ipython3",
   "version": "3.6.10"
  }
 },
 "nbformat": 4,
 "nbformat_minor": 2
}
